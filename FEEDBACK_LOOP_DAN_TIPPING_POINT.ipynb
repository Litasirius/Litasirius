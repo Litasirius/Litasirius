{
  "cells": [
    {
      "cell_type": "markdown",
      "metadata": {
        "id": "view-in-github",
        "colab_type": "text"
      },
      "source": [
        "<a href=\"https://colab.research.google.com/github/Litasirius/Litasirius/blob/main/FEEDBACK_LOOP_DAN_TIPPING_POINT.ipynb\" target=\"_parent\"><img src=\"https://colab.research.google.com/assets/colab-badge.svg\" alt=\"Open In Colab\"/></a>"
      ]
    },
    {
      "cell_type": "code",
      "source": [
        "# SIMULASI FEEDBACK LOOP DAN TIPPING POINT #\n",
        "import numpy as np\n",
        "import matplotlib.pyplot as plt\n",
        "from ipywidgets import interactive, FloatSlider\n",
        "import ipywidgets as widgets\n",
        "\n",
        "# Parameter simulasi\n",
        "years = np.arange(2000, 2051)  # Rentang tahun\n",
        "initial_permafrost_coverage = 0.5  # Persentase tutupan permafrost awal\n",
        "permafrost_melt_rate = 0.02  # Tingkat pencairan permafrost per tahun\n",
        "methane_release_factor = 0.5  # Faktor pelepasan metana\n",
        "\n",
        "# Fungsi simulasi feedback loop dan tipping points\n",
        "def simulate_feedback_loop(permafrost_melt_rate, methane_release_factor):\n",
        "    permafrost_coverage = [initial_permafrost_coverage]\n",
        "    methane_levels = [0]\n",
        "    for year in years[1:]:\n",
        "        permafrost_melt = permafrost_melt_rate * permafrost_coverage[-1]\n",
        "        methane_release = methane_release_factor * permafrost_melt\n",
        "        permafrost_coverage.append(permafrost_coverage[-1] - permafrost_melt)\n",
        "        methane_levels.append(methane_levels[-1] + methane_release)\n",
        "    return permafrost_coverage, methane_levels\n",
        "\n",
        "# Fungsi visualisasi dan animasi\n",
        "def visualize_feedback_loop(permafrost_melt_rate, methane_release_factor):\n",
        "    permafrost_coverage, methane_levels = simulate_feedback_loop(permafrost_melt_rate, methane_release_factor)\n",
        "\n",
        "    plt.figure(figsize=(10, 6))\n",
        "    plt.plot(years, permafrost_coverage, label='Tutupan Permafrost', marker='o')\n",
        "    plt.plot(years, methane_levels, label='Konsentrasi Metana', marker='o')\n",
        "    plt.title('Simulasi Feedback Loop dan Tipping Points')\n",
        "    plt.xlabel('Tahun') # Fixed indentation\n",
        "    plt.ylabel('Persentase Tutupan / Konsentrasi (%)')\n",
        "    plt.grid(True)\n",
        "    plt.legend()\n",
        "    plt.show()\n",
        "\n",
        "# Widget interaktif\n",
        "interactive_plot = interactive(visualize_feedback_loop,\n",
        "                               permafrost_melt_rate=FloatSlider(min=0.01, max=0.1, step=0.01, value=0.02, description='Tingkat Pencairan Permafrost'),\n",
        "                               methane_release_factor=FloatSlider(min=0.1, max=1.0, step=0.1, value=0.5, description='Faktor Pelepasan Metana'))\n",
        "display(interactive_plot)"
      ],
      "metadata": {
        "id": "pISTLboaKrgf",
        "outputId": "1c6cf2e8-0afc-413d-eed5-6e682a214b67",
        "colab": {
          "base_uri": "https://localhost:8080/",
          "height": 532,
          "referenced_widgets": [
            "771abe10ecc44800ab85a85efaf176cf",
            "d187821282c245feace243cb07007acc",
            "048555ecc5484c999647d829c7fbd8ee",
            "146dcd79660846d9a838efd07a37ec98",
            "24f6a976f9fc449c8ca97a222746d830",
            "f2d0f11154d44a6dba576dfc0b4bf073",
            "f91abe2f42774271b97391c0d7dcdf53",
            "400c3dd81b0e41e48264301dab78c200",
            "e4c533eeda674e9c9a83740041f91064",
            "7177981598aa4bc8b111e5d6589d8bf1"
          ]
        }
      },
      "id": "pISTLboaKrgf",
      "execution_count": null,
      "outputs": [
        {
          "output_type": "display_data",
          "data": {
            "text/plain": [
              "interactive(children=(FloatSlider(value=0.02, description='Tingkat Pencairan Permafrost', max=0.1, min=0.01, s…"
            ],
            "application/vnd.jupyter.widget-view+json": {
              "version_major": 2,
              "version_minor": 0,
              "model_id": "771abe10ecc44800ab85a85efaf176cf"
            }
          },
          "metadata": {}
        }
      ]
    }
  ],
  "metadata": {
    "kernelspec": {
      "display_name": "anaconda-panel-2023.05-py310",
      "language": "python",
      "name": "conda-env-anaconda-panel-2023.05-py310-py"
    },
    "language_info": {
      "codemirror_mode": {
        "name": "ipython",
        "version": 3
      },
      "file_extension": ".py",
      "mimetype": "text/x-python",
      "name": "python",
      "nbconvert_exporter": "python",
      "pygments_lexer": "ipython3",
      "version": "3.11.5"
    },
    "widgets": {
      "application/vnd.jupyter.widget-state+json": {
        "771abe10ecc44800ab85a85efaf176cf": {
          "model_module": "@jupyter-widgets/controls",
          "model_name": "VBoxModel",
          "model_module_version": "1.5.0",
          "state": {
            "_dom_classes": [
              "widget-interact"
            ],
            "_model_module": "@jupyter-widgets/controls",
            "_model_module_version": "1.5.0",
            "_model_name": "VBoxModel",
            "_view_count": null,
            "_view_module": "@jupyter-widgets/controls",
            "_view_module_version": "1.5.0",
            "_view_name": "VBoxView",
            "box_style": "",
            "children": [
              "IPY_MODEL_d187821282c245feace243cb07007acc",
              "IPY_MODEL_048555ecc5484c999647d829c7fbd8ee",
              "IPY_MODEL_146dcd79660846d9a838efd07a37ec98"
            ],
            "layout": "IPY_MODEL_24f6a976f9fc449c8ca97a222746d830"
          }
        },
        "d187821282c245feace243cb07007acc": {
          "model_module": "@jupyter-widgets/controls",
          "model_name": "FloatSliderModel",
          "model_module_version": "1.5.0",
          "state": {
            "_dom_classes": [],
            "_model_module": "@jupyter-widgets/controls",
            "_model_module_version": "1.5.0",
            "_model_name": "FloatSliderModel",
            "_view_count": null,
            "_view_module": "@jupyter-widgets/controls",
            "_view_module_version": "1.5.0",
            "_view_name": "FloatSliderView",
            "continuous_update": true,
            "description": "Tingkat Pencairan Permafrost",
            "description_tooltip": null,
            "disabled": false,
            "layout": "IPY_MODEL_f2d0f11154d44a6dba576dfc0b4bf073",
            "max": 0.1,
            "min": 0.01,
            "orientation": "horizontal",
            "readout": true,
            "readout_format": ".2f",
            "step": 0.01,
            "style": "IPY_MODEL_f91abe2f42774271b97391c0d7dcdf53",
            "value": 0.02
          }
        },
        "048555ecc5484c999647d829c7fbd8ee": {
          "model_module": "@jupyter-widgets/controls",
          "model_name": "FloatSliderModel",
          "model_module_version": "1.5.0",
          "state": {
            "_dom_classes": [],
            "_model_module": "@jupyter-widgets/controls",
            "_model_module_version": "1.5.0",
            "_model_name": "FloatSliderModel",
            "_view_count": null,
            "_view_module": "@jupyter-widgets/controls",
            "_view_module_version": "1.5.0",
            "_view_name": "FloatSliderView",
            "continuous_update": true,
            "description": "Faktor Pelepasan Metana",
            "description_tooltip": null,
            "disabled": false,
            "layout": "IPY_MODEL_400c3dd81b0e41e48264301dab78c200",
            "max": 1,
            "min": 0.1,
            "orientation": "horizontal",
            "readout": true,
            "readout_format": ".2f",
            "step": 0.1,
            "style": "IPY_MODEL_e4c533eeda674e9c9a83740041f91064",
            "value": 0.5
          }
        },
        "146dcd79660846d9a838efd07a37ec98": {
          "model_module": "@jupyter-widgets/output",
          "model_name": "OutputModel",
          "model_module_version": "1.0.0",
          "state": {
            "_dom_classes": [],
            "_model_module": "@jupyter-widgets/output",
            "_model_module_version": "1.0.0",
            "_model_name": "OutputModel",
            "_view_count": null,
            "_view_module": "@jupyter-widgets/output",
            "_view_module_version": "1.0.0",
            "_view_name": "OutputView",
            "layout": "IPY_MODEL_7177981598aa4bc8b111e5d6589d8bf1",
            "msg_id": "",
            "outputs": [
              {
                "output_type": "display_data",
                "data": {
                  "text/plain": "<Figure size 1000x600 with 1 Axes>",
                  "image/png": "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\n"
                },
                "metadata": {}
              }
            ]
          }
        },
        "24f6a976f9fc449c8ca97a222746d830": {
          "model_module": "@jupyter-widgets/base",
          "model_name": "LayoutModel",
          "model_module_version": "1.2.0",
          "state": {
            "_model_module": "@jupyter-widgets/base",
            "_model_module_version": "1.2.0",
            "_model_name": "LayoutModel",
            "_view_count": null,
            "_view_module": "@jupyter-widgets/base",
            "_view_module_version": "1.2.0",
            "_view_name": "LayoutView",
            "align_content": null,
            "align_items": null,
            "align_self": null,
            "border": null,
            "bottom": null,
            "display": null,
            "flex": null,
            "flex_flow": null,
            "grid_area": null,
            "grid_auto_columns": null,
            "grid_auto_flow": null,
            "grid_auto_rows": null,
            "grid_column": null,
            "grid_gap": null,
            "grid_row": null,
            "grid_template_areas": null,
            "grid_template_columns": null,
            "grid_template_rows": null,
            "height": null,
            "justify_content": null,
            "justify_items": null,
            "left": null,
            "margin": null,
            "max_height": null,
            "max_width": null,
            "min_height": null,
            "min_width": null,
            "object_fit": null,
            "object_position": null,
            "order": null,
            "overflow": null,
            "overflow_x": null,
            "overflow_y": null,
            "padding": null,
            "right": null,
            "top": null,
            "visibility": null,
            "width": null
          }
        },
        "f2d0f11154d44a6dba576dfc0b4bf073": {
          "model_module": "@jupyter-widgets/base",
          "model_name": "LayoutModel",
          "model_module_version": "1.2.0",
          "state": {
            "_model_module": "@jupyter-widgets/base",
            "_model_module_version": "1.2.0",
            "_model_name": "LayoutModel",
            "_view_count": null,
            "_view_module": "@jupyter-widgets/base",
            "_view_module_version": "1.2.0",
            "_view_name": "LayoutView",
            "align_content": null,
            "align_items": null,
            "align_self": null,
            "border": null,
            "bottom": null,
            "display": null,
            "flex": null,
            "flex_flow": null,
            "grid_area": null,
            "grid_auto_columns": null,
            "grid_auto_flow": null,
            "grid_auto_rows": null,
            "grid_column": null,
            "grid_gap": null,
            "grid_row": null,
            "grid_template_areas": null,
            "grid_template_columns": null,
            "grid_template_rows": null,
            "height": null,
            "justify_content": null,
            "justify_items": null,
            "left": null,
            "margin": null,
            "max_height": null,
            "max_width": null,
            "min_height": null,
            "min_width": null,
            "object_fit": null,
            "object_position": null,
            "order": null,
            "overflow": null,
            "overflow_x": null,
            "overflow_y": null,
            "padding": null,
            "right": null,
            "top": null,
            "visibility": null,
            "width": null
          }
        },
        "f91abe2f42774271b97391c0d7dcdf53": {
          "model_module": "@jupyter-widgets/controls",
          "model_name": "SliderStyleModel",
          "model_module_version": "1.5.0",
          "state": {
            "_model_module": "@jupyter-widgets/controls",
            "_model_module_version": "1.5.0",
            "_model_name": "SliderStyleModel",
            "_view_count": null,
            "_view_module": "@jupyter-widgets/base",
            "_view_module_version": "1.2.0",
            "_view_name": "StyleView",
            "description_width": "",
            "handle_color": null
          }
        },
        "400c3dd81b0e41e48264301dab78c200": {
          "model_module": "@jupyter-widgets/base",
          "model_name": "LayoutModel",
          "model_module_version": "1.2.0",
          "state": {
            "_model_module": "@jupyter-widgets/base",
            "_model_module_version": "1.2.0",
            "_model_name": "LayoutModel",
            "_view_count": null,
            "_view_module": "@jupyter-widgets/base",
            "_view_module_version": "1.2.0",
            "_view_name": "LayoutView",
            "align_content": null,
            "align_items": null,
            "align_self": null,
            "border": null,
            "bottom": null,
            "display": null,
            "flex": null,
            "flex_flow": null,
            "grid_area": null,
            "grid_auto_columns": null,
            "grid_auto_flow": null,
            "grid_auto_rows": null,
            "grid_column": null,
            "grid_gap": null,
            "grid_row": null,
            "grid_template_areas": null,
            "grid_template_columns": null,
            "grid_template_rows": null,
            "height": null,
            "justify_content": null,
            "justify_items": null,
            "left": null,
            "margin": null,
            "max_height": null,
            "max_width": null,
            "min_height": null,
            "min_width": null,
            "object_fit": null,
            "object_position": null,
            "order": null,
            "overflow": null,
            "overflow_x": null,
            "overflow_y": null,
            "padding": null,
            "right": null,
            "top": null,
            "visibility": null,
            "width": null
          }
        },
        "e4c533eeda674e9c9a83740041f91064": {
          "model_module": "@jupyter-widgets/controls",
          "model_name": "SliderStyleModel",
          "model_module_version": "1.5.0",
          "state": {
            "_model_module": "@jupyter-widgets/controls",
            "_model_module_version": "1.5.0",
            "_model_name": "SliderStyleModel",
            "_view_count": null,
            "_view_module": "@jupyter-widgets/base",
            "_view_module_version": "1.2.0",
            "_view_name": "StyleView",
            "description_width": "",
            "handle_color": null
          }
        },
        "7177981598aa4bc8b111e5d6589d8bf1": {
          "model_module": "@jupyter-widgets/base",
          "model_name": "LayoutModel",
          "model_module_version": "1.2.0",
          "state": {
            "_model_module": "@jupyter-widgets/base",
            "_model_module_version": "1.2.0",
            "_model_name": "LayoutModel",
            "_view_count": null,
            "_view_module": "@jupyter-widgets/base",
            "_view_module_version": "1.2.0",
            "_view_name": "LayoutView",
            "align_content": null,
            "align_items": null,
            "align_self": null,
            "border": null,
            "bottom": null,
            "display": null,
            "flex": null,
            "flex_flow": null,
            "grid_area": null,
            "grid_auto_columns": null,
            "grid_auto_flow": null,
            "grid_auto_rows": null,
            "grid_column": null,
            "grid_gap": null,
            "grid_row": null,
            "grid_template_areas": null,
            "grid_template_columns": null,
            "grid_template_rows": null,
            "height": null,
            "justify_content": null,
            "justify_items": null,
            "left": null,
            "margin": null,
            "max_height": null,
            "max_width": null,
            "min_height": null,
            "min_width": null,
            "object_fit": null,
            "object_position": null,
            "order": null,
            "overflow": null,
            "overflow_x": null,
            "overflow_y": null,
            "padding": null,
            "right": null,
            "top": null,
            "visibility": null,
            "width": null
          }
        }
      }
    },
    "colab": {
      "provenance": [],
      "include_colab_link": true
    }
  },
  "nbformat": 4,
  "nbformat_minor": 5
}