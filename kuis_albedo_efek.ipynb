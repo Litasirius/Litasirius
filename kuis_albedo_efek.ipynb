{
  "cells": [
    {
      "cell_type": "markdown",
      "metadata": {
        "id": "view-in-github",
        "colab_type": "text"
      },
      "source": [
        "<a href=\"https://colab.research.google.com/github/Litasirius/Litasirius/blob/main/kuis_albedo_efek.ipynb\" target=\"_parent\"><img src=\"https://colab.research.google.com/assets/colab-badge.svg\" alt=\"Open In Colab\"/></a>"
      ]
    },
    {
      "cell_type": "code",
      "execution_count": null,
      "id": "3b713d83-fd3b-46c4-a0e6-431fe75461fd",
      "metadata": {
        "id": "3b713d83-fd3b-46c4-a0e6-431fe75461fd",
        "outputId": "8d80de62-fb79-4c5b-8992-61dd0de40f52",
        "colab": {
          "base_uri": "https://localhost:8080/"
        }
      },
      "outputs": [
        {
          "output_type": "stream",
          "name": "stdout",
          "text": [
            "Selamat datang di kuis interaktif tentang Albedo Efek dan Pemanasan Global!\n",
            "\n",
            "Albedo adalah ukuran reflektivitas permukaan, atau seberapa baik suatu permukaan memantulkan cahaya matahari kembali ke angkasa. Permukaan yang cerah, seperti salju dan es, memiliki albedo tinggi karena memantulkan sebagian besar radiasi matahari.\n",
            "Sebaliknya, permukaan yang gelap seperti lautan atau hutan memiliki albedo rendah, menyerap lebih banyak radiasi dan berkontribusi terhadap pemanasan global.\n",
            "\n",
            "Perubahan dalam albedo permukaan bumi dapat mempengaruhi keseimbangan energi dan suhu global. Oleh karena itu, memahami konsep albedo sangat penting dalam konteks perubahan iklim.\n",
            "\n",
            "Tekan Enter untuk memulai kuis...\n",
            "1. Apa yang dimaksud dengan Albedo?\n",
            "a. Jumlah panas yang dilepaskan oleh Bumi\n",
            "b. Kemampuan suatu permukaan untuk memantulkan radiasi matahari\n",
            "d. Kecepatan radiasi mencapai bumi\n",
            "e. Jenis gas yang menyebabkan efek rumah kaca\n",
            "c. Proses penyerapan CO2 oleh tanaman\n"
          ]
        }
      ],
      "source": [
        "import time\n",
        "import random\n",
        "\n",
        "# Fungsi untuk mencetak teks secara perlahan\n",
        "def print_slow(text, delay=0.05):\n",
        "    for char in text:\n",
        "        print(char, end='', flush=True)\n",
        "        time.sleep(delay)\n",
        "    print()\n",
        "\n",
        "# Bagian 1: Pengantar\n",
        "print_slow(\"Selamat datang di kuis interaktif tentang Albedo Efek dan Pemanasan Global!\\n\", 0.03)\n",
        "print_slow(\"Albedo adalah ukuran reflektivitas permukaan, atau seberapa baik suatu permukaan memantulkan cahaya matahari kembali ke angkasa. Permukaan yang cerah, seperti salju dan es, memiliki albedo tinggi karena memantulkan sebagian besar radiasi matahari.\", 0.03)\n",
        "print_slow(\"Sebaliknya, permukaan yang gelap seperti lautan atau hutan memiliki albedo rendah, menyerap lebih banyak radiasi dan berkontribusi terhadap pemanasan global.\\n\", 0.03)\n",
        "print_slow(\"Perubahan dalam albedo permukaan bumi dapat mempengaruhi keseimbangan energi dan suhu global. Oleh karena itu, memahami konsep albedo sangat penting dalam konteks perubahan iklim.\\n\", 0.03)\n",
        "\n",
        "input(\"Tekan Enter untuk memulai kuis...\")\n",
        "\n",
        "# Bagian 2: Kuis Interaktif\n",
        "questions = {\n",
        "    \"1. Apa yang dimaksud dengan Albedo?\": {\n",
        "        \"options\": [\"a. Jumlah panas yang dilepaskan oleh Bumi\",\n",
        "                    \"b. Kemampuan suatu permukaan untuk memantulkan radiasi matahari\",\n",
        "                    \"c. Proses penyerapan CO2 oleh tanaman\",\n",
        "                    \"d. Kecepatan radiasi mencapai bumi\",\n",
        "                    \"e. Jenis gas yang menyebabkan efek rumah kaca\"],\n",
        "        \"answer\": \"b\"\n",
        "    },\n",
        "    \"2. Permukaan mana yang memiliki albedo lebih tinggi?\": {\n",
        "        \"options\": [\"a. Salju\", \"b. Hutan\", \"c. Laut\", \"d. Gurun\", \"e. Kota besar\"],\n",
        "        \"answer\": \"a\"\n",
        "    },\n",
        "    \"3. Bagaimana pengaruh albedo rendah terhadap pemanasan global?\": {\n",
        "        \"options\": [\"a. Mengurangi pemanasan global\",\n",
        "                    \"b. Meningkatkan pemanasan global\",\n",
        "                    \"c. Tidak berpengaruh\",\n",
        "                    \"d. Membuat pemanasan global stabil\",\n",
        "                    \"e. Menyebabkan pendinginan lokal\"],\n",
        "        \"answer\": \"b\"\n",
        "    },\n",
        "    \"4. Apa yang terjadi jika es di kutub mencair?\": {\n",
        "        \"options\": [\"a. Albedo meningkat\",\n",
        "                    \"b. Albedo menurun\",\n",
        "                    \"c. Tidak berpengaruh pada albedo\",\n",
        "                    \"d. Albedo tetap sama\",\n",
        "                    \"e. Albedo menurun sedikit\"],\n",
        "        \"answer\": \"b\"\n",
        "    },\n",
        "    \"5. Mengapa hutan tropis memiliki albedo yang rendah?\": {\n",
        "        \"options\": [\"a. Karena menyerap lebih banyak cahaya matahari\",\n",
        "                    \"b. Karena memantulkan cahaya matahari lebih sedikit\",\n",
        "                    \"c. Karena lebih banyak menghasilkan CO2\",\n",
        "                    \"d. Karena memiliki kanopi yang tebal\",\n",
        "                    \"e. Karena berada di daerah lembap\"],\n",
        "        \"answer\": \"a\"\n",
        "    },\n",
        "    \"6. Bagaimana efek urbanisasi terhadap albedo?\": {\n",
        "        \"options\": [\"a. Meningkatkan albedo secara signifikan\",\n",
        "                    \"b. Menurunkan albedo karena penggantian lahan hijau dengan bangunan\",\n",
        "                    \"c. Tidak berpengaruh pada albedo\",\n",
        "                    \"d. Menstabilkan albedo\",\n",
        "                    \"e. Mengurangi albedo sedikit\"],\n",
        "        \"answer\": \"b\"\n",
        "    },\n",
        "    \"7. Permukaan mana yang lebih berkontribusi terhadap pemanasan global?\": {\n",
        "        \"options\": [\"a. Permukaan berwarna cerah\",\n",
        "                    \"b. Permukaan berwarna gelap\",\n",
        "                    \"c. Permukaan berair\",\n",
        "                    \"d. Permukaan berpasir\",\n",
        "                    \"e. Permukaan tertutup vegetasi\"],\n",
        "        \"answer\": \"b\"\n",
        "    },\n",
        "}\n",
        "\n",
        "# Fungsi untuk menjalankan kuis\n",
        "def run_quiz(questions):\n",
        "    score = 0\n",
        "    for question, data in questions.items():\n",
        "        print_slow(question, 0.03)\n",
        "        options = data[\"options\"]\n",
        "        random.shuffle(options)  # Mengacak urutan opsi jawaban\n",
        "        for option in options:\n",
        "            print_slow(option, 0.03)\n",
        "\n",
        "        answer = input(\"Jawaban Anda (a/b/c/d/e): \").lower()\n",
        "\n",
        "        if answer == data[\"answer\"]:\n",
        "            print_slow(\"Jawaban benar!\\n\", 0.03)\n",
        "            score += 1\n",
        "        else:\n",
        "            print_slow(f\"Jawaban salah. Jawaban yang benar adalah {data['answer']}\\n\", 0.03)\n",
        "\n",
        "    print_slow(f\"Kuis selesai! Skor akhir Anda adalah {score} dari {len(questions)}.\\n\", 0.03)\n",
        "    return score\n",
        "\n",
        "# Bagian 3: Evaluasi Hasil\n",
        "score = run_quiz(questions)\n",
        "\n",
        "# Saran tambahan berdasarkan skor\n",
        "if score == len(questions):\n",
        "    print_slow(\"Luar biasa! Anda sangat memahami konsep Albedo Efek dan dampaknya pada pemanasan global.\", 0.03)\n",
        "elif score >= len(questions) / 2:\n",
        "    print_slow(\"Bagus! Anda memiliki pemahaman yang cukup baik tentang Albedo Efek.\", 0.03)\n",
        "else:\n",
        "    print_slow(\"Anda mungkin perlu belajar lebih banyak tentang Albedo Efek dan pemanasan global.\", 0.03)\n",
        "\n",
        "print_slow(\"Terima kasih telah mengikuti kuis ini. Semoga Anda mendapatkan wawasan baru tentang pentingnya albedo dalam menjaga keseimbangan iklim bumi.\", 0.03)\n"
      ]
    },
    {
      "cell_type": "code",
      "execution_count": null,
      "id": "5f4d72e6-203e-4ce6-b60a-78967a9609b9",
      "metadata": {
        "id": "5f4d72e6-203e-4ce6-b60a-78967a9609b9"
      },
      "outputs": [],
      "source": []
    },
    {
      "cell_type": "code",
      "execution_count": null,
      "id": "0286fdf0-cfc0-46dc-94a6-492a74a03f0b",
      "metadata": {
        "id": "0286fdf0-cfc0-46dc-94a6-492a74a03f0b"
      },
      "outputs": [],
      "source": []
    }
  ],
  "metadata": {
    "kernelspec": {
      "display_name": "anaconda-panel-2023.05-py310",
      "language": "python",
      "name": "conda-env-anaconda-panel-2023.05-py310-py"
    },
    "language_info": {
      "codemirror_mode": {
        "name": "ipython",
        "version": 3
      },
      "file_extension": ".py",
      "mimetype": "text/x-python",
      "name": "python",
      "nbconvert_exporter": "python",
      "pygments_lexer": "ipython3",
      "version": "3.11.5"
    },
    "colab": {
      "provenance": [],
      "include_colab_link": true
    }
  },
  "nbformat": 4,
  "nbformat_minor": 5
}