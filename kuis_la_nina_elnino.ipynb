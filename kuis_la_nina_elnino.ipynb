{
  "cells": [
    {
      "cell_type": "markdown",
      "metadata": {
        "id": "view-in-github",
        "colab_type": "text"
      },
      "source": [
        "<a href=\"https://colab.research.google.com/github/Litasirius/Litasirius/blob/main/kuis_la_nina_elnino.ipynb\" target=\"_parent\"><img src=\"https://colab.research.google.com/assets/colab-badge.svg\" alt=\"Open In Colab\"/></a>"
      ]
    },
    {
      "cell_type": "code",
      "execution_count": 1,
      "id": "a3ac41cd-ad71-4c4b-aa26-f8dda7a3f9a4",
      "metadata": {
        "colab": {
          "base_uri": "https://localhost:8080/"
        },
        "id": "a3ac41cd-ad71-4c4b-aa26-f8dda7a3f9a4",
        "outputId": "496bef9e-8211-40eb-d6c8-93f9bb968baf"
      },
      "outputs": [
        {
          "output_type": "stream",
          "name": "stdout",
          "text": [
            "La Niña dan El Niño adalah fenomena cuaca yang terkait dengan perubahan suhu permukaan laut\n",
            "di Samudra Pasifik bagian tengah dan timur.\n",
            "El Niño terjadi ketika suhu permukaan laut lebih hangat dari biasanya,\n",
            "sedangkan La Niña terjadi ketika suhu permukaan laut lebih dingin dari biasanya.\n",
            "Keduanya dapat mempengaruhi pola cuaca global, termasuk perubahan curah hujan dan suhu.\n",
            "\n",
            "Simulasi Efek La Niña dan El Niño\n",
            "Pilih salah satu fenomena untuk melihat dampaknya:\n",
            "Ketik '1' untuk La Niña atau '2' untuk El Niño: 1\n",
            "\n",
            "Dampak La Niña:\n",
            "- Peningkatan curah hujan di Indonesia dan wilayah Pasifik barat.\n",
            "- Kondisi yang lebih kering di bagian barat Amerika Serikat dan Amerika Selatan.\n",
            "- Peningkatan aktivitas badai di Samudra Atlantik.\n",
            "\n",
            "Eksperimen Virtual: Memprediksi Dampak La Niña dan El Niño\n",
            "Anda akan diberikan beberapa skenario dan harus memprediksi dampaknya.\n",
            "\n",
            "Skenario 1: Suhu permukaan laut di Pasifik tengah lebih dingin dari biasanya.\n",
            "Apakah ini fenomena La Niña atau El Niño? 2\n",
            "Salah. Jawaban yang benar adalah La Niña.\n",
            "\n",
            "Skenario 2: Suhu permukaan laut di Pasifik tengah lebih hangat dari biasanya.\n",
            "Apakah ini fenomena La Niña atau El Niño? 1\n",
            "Salah. Jawaban yang benar adalah El Niño.\n",
            "\n",
            "Skenario 3: Aktivitas badai meningkat di Samudra Atlantik.\n",
            "Apakah ini fenomena La Niña atau El Niño? 1\n",
            "Salah. Jawaban yang benar adalah La Niña.\n",
            "\n",
            "Skenario 4: Curah hujan menurun di Indonesia.\n",
            "Apakah ini fenomena La Niña atau El Niño? 1\n",
            "Salah. Jawaban yang benar adalah El Niño.\n",
            "\n",
            "Skor Anda: 0/4\n",
            "Terus belajar untuk lebih memahami fenomena cuaca ini.\n"
          ]
        }
      ],
      "source": [
        "def pendahuluan_la_nina_el_nino():\n",
        "    \"\"\"\n",
        "    Menampilkan penjelasan singkat tentang La Niña dan El Niño.\n",
        "    \"\"\"\n",
        "    penjelasan = (\n",
        "        \"La Niña dan El Niño adalah fenomena cuaca yang terkait dengan perubahan suhu permukaan laut\\n\"\n",
        "        \"di Samudra Pasifik bagian tengah dan timur.\\n\"\n",
        "        \"El Niño terjadi ketika suhu permukaan laut lebih hangat dari biasanya,\\n\"\n",
        "        \"sedangkan La Niña terjadi ketika suhu permukaan laut lebih dingin dari biasanya.\\n\"\n",
        "        \"Keduanya dapat mempengaruhi pola cuaca global, termasuk perubahan curah hujan dan suhu.\\n\"\n",
        "    )\n",
        "    print(penjelasan)\n",
        "\n",
        "\n",
        "def simulasi_efek_fenomena():\n",
        "    \"\"\"\n",
        "    Simulasi efek La Niña dan El Niño pada kondisi cuaca.\n",
        "    \"\"\"\n",
        "    print(\"Simulasi Efek La Niña dan El Niño\")\n",
        "    print(\"Pilih salah satu fenomena untuk melihat dampaknya:\")\n",
        "\n",
        "    pilihan = input(\"Ketik '1' untuk La Niña atau '2' untuk El Niño: \")\n",
        "\n",
        "    if pilihan == \"1\":\n",
        "        print(\"\\nDampak La Niña:\")\n",
        "        print(\"- Peningkatan curah hujan di Indonesia dan wilayah Pasifik barat.\")\n",
        "        print(\"- Kondisi yang lebih kering di bagian barat Amerika Serikat dan Amerika Selatan.\")\n",
        "        print(\"- Peningkatan aktivitas badai di Samudra Atlantik.\")\n",
        "    elif pilihan == \"2\":\n",
        "        print(\"\\nDampak El Niño:\")\n",
        "        print(\"- Penurunan curah hujan di Indonesia dan wilayah Pasifik barat.\")\n",
        "        print(\"- Kondisi yang lebih basah di bagian barat Amerika Serikat dan Amerika Selatan.\")\n",
        "        print(\"- Pengurangan aktivitas badai di Samudra Atlantik.\")\n",
        "    else:\n",
        "        print(\"Pilihan tidak valid. Silakan coba lagi.\")\n",
        "\n",
        "\n",
        "def eksperimen_virtual():\n",
        "    \"\"\"\n",
        "    Eksperimen virtual di mana pengguna dapat mencoba memprediksi dampak dari fenomena ini.\n",
        "    \"\"\"\n",
        "    print(\"\\nEksperimen Virtual: Memprediksi Dampak La Niña dan El Niño\")\n",
        "    print(\"Anda akan diberikan beberapa skenario dan harus memprediksi dampaknya.\")\n",
        "\n",
        "    skenario = [\n",
        "        (\"Suhu permukaan laut di Pasifik tengah lebih dingin dari biasanya.\", \"La Niña\"),\n",
        "        (\"Suhu permukaan laut di Pasifik tengah lebih hangat dari biasanya.\", \"El Niño\"),\n",
        "        (\"Aktivitas badai meningkat di Samudra Atlantik.\", \"La Niña\"),\n",
        "        (\"Curah hujan menurun di Indonesia.\", \"El Niño\"),\n",
        "    ]\n",
        "\n",
        "    skor = 0\n",
        "    for i, (pertanyaan, jawaban_benar) in enumerate(skenario, 1):\n",
        "        print(f\"\\nSkenario {i}: {pertanyaan}\")\n",
        "        jawaban = input(\"Apakah ini fenomena La Niña atau El Niño? \").strip()\n",
        "\n",
        "        if jawaban.lower() == jawaban_benar.lower():\n",
        "            print(\"Benar!\")\n",
        "            skor += 1\n",
        "        else:\n",
        "            print(f\"Salah. Jawaban yang benar adalah {jawaban_benar}.\")\n",
        "\n",
        "    print(f\"\\nSkor Anda: {skor}/{len(skenario)}\")\n",
        "    if skor == len(skenario):\n",
        "        print(\"Hebat! Anda memahami dampak dari kedua fenomena dengan baik.\")\n",
        "    else:\n",
        "        print(\"Terus belajar untuk lebih memahami fenomena cuaca ini.\")\n",
        "\n",
        "\n",
        "def main():\n",
        "    \"\"\"\n",
        "    Fungsi utama untuk menampilkan informasi dan memulai eksperimen virtual.\n",
        "    \"\"\"\n",
        "    pendahuluan_la_nina_el_nino()\n",
        "    simulasi_efek_fenomena()\n",
        "    eksperimen_virtual()\n",
        "\n",
        "\n",
        "# Menjalankan fungsi utama\n",
        "main()\n"
      ]
    },
    {
      "cell_type": "code",
      "execution_count": null,
      "id": "5d591d19-1ccf-4fc2-bc2f-898ac2dc6edc",
      "metadata": {
        "id": "5d591d19-1ccf-4fc2-bc2f-898ac2dc6edc"
      },
      "outputs": [],
      "source": []
    }
  ],
  "metadata": {
    "kernelspec": {
      "display_name": "anaconda-panel-2023.05-py310",
      "language": "python",
      "name": "conda-env-anaconda-panel-2023.05-py310-py"
    },
    "language_info": {
      "codemirror_mode": {
        "name": "ipython",
        "version": 3
      },
      "file_extension": ".py",
      "mimetype": "text/x-python",
      "name": "python",
      "nbconvert_exporter": "python",
      "pygments_lexer": "ipython3",
      "version": "3.11.5"
    },
    "colab": {
      "provenance": [],
      "include_colab_link": true
    }
  },
  "nbformat": 4,
  "nbformat_minor": 5
}