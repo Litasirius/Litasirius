{
  "cells": [
    {
      "cell_type": "markdown",
      "metadata": {
        "id": "view-in-github",
        "colab_type": "text"
      },
      "source": [
        "<a href=\"https://colab.research.google.com/github/Litasirius/Litasirius/blob/main/dinamika_laut_es.ipynb\" target=\"_parent\"><img src=\"https://colab.research.google.com/assets/colab-badge.svg\" alt=\"Open In Colab\"/></a>"
      ]
    },
    {
      "cell_type": "code",
      "execution_count": null,
      "id": "ba1f0b36-5426-4171-87f9-b3f1e3158408",
      "metadata": {
        "id": "ba1f0b36-5426-4171-87f9-b3f1e3158408",
        "outputId": "556fe354-93d6-45ee-a085-07acf4bb15db",
        "colab": {
          "base_uri": "https://localhost:8080/",
          "height": 572,
          "referenced_widgets": [
            "1867b01cf87f45ca88e566042dde35a3",
            "8e7afdfd8d0c400093b383e57e9cf9d1",
            "af00fb12c46d48ba82c8f830540801aa",
            "5d1954314f2148108bbf044c4ec2cf52",
            "9ca22d398a0049a3b69f6aba7de44a6f",
            "99806a0d64494d10a017ed89e84cd18a",
            "02a54470756d4d74a2343519de0609e6",
            "a9b797cebf874ed98daca500589f6bcf",
            "b126bab16786439aa47be67689290911",
            "ba476a05d39542c786c0c8fafac95a3c",
            "282ad5d3470146a591ab18888110ceea",
            "2968f3af5e284c95b0bc06b6e01ae653",
            "4657fe1ff6a6401e96f5fc5eaf253c30"
          ]
        }
      },
      "outputs": [
        {
          "output_type": "display_data",
          "data": {
            "text/plain": [
              "HTML(value='<table><tr><th>Percobaan</th><th>Faktor Suhu Laut</th><th>Faktor Luasan Es</th></tr>')"
            ],
            "application/vnd.jupyter.widget-view+json": {
              "version_major": 2,
              "version_minor": 0,
              "model_id": "1867b01cf87f45ca88e566042dde35a3"
            }
          },
          "metadata": {}
        },
        {
          "output_type": "display_data",
          "data": {
            "text/plain": [
              "interactive(children=(FloatSlider(value=1.0, description='Faktor Suhu Laut:', max=1.5, min=0.5), FloatSlider(v…"
            ],
            "application/vnd.jupyter.widget-view+json": {
              "version_major": 2,
              "version_minor": 0,
              "model_id": "5d1954314f2148108bbf044c4ec2cf52"
            }
          },
          "metadata": {}
        }
      ],
      "source": [
        "# DINAMIKA LAUT ES #\n",
        "import numpy as np\n",
        "import matplotlib.pyplot as plt\n",
        "from ipywidgets import interactive, FloatSlider\n",
        "import ipywidgets as widgets\n",
        "\n",
        "# Data simulasi\n",
        "years = np.arange(2000, 2021)\n",
        "sea_temperature = np.random.uniform(2, 4, size=len(years))  # Data suhu laut (°C)\n",
        "ice_extent = np.random.uniform(10, 15, size=len(years))  # Data luasan es (juta km^2)\n",
        "\n",
        "# Fungsi simulasi\n",
        "def simulate_sea_ice_dynamics(temp_factor, ice_factor):\n",
        "    # Menggabungkan data suhu laut dan luasan es dengan faktor penyesuaian\n",
        "    adjusted_sea_temp = sea_temperature * temp_factor\n",
        "    adjusted_ice_extent = ice_extent * ice_factor\n",
        "\n",
        "    return adjusted_sea_temp, adjusted_ice_extent\n",
        "\n",
        "# Fungsi visualisasi\n",
        "def visualize_sea_ice_dynamics(temp_factor, ice_factor):\n",
        "    adjusted_sea_temp, adjusted_ice_extent = simulate_sea_ice_dynamics(temp_factor, ice_factor)\n",
        "\n",
        "    # Plot hasil simulasi\n",
        "    plt.figure(figsize=(10, 6))\n",
        "    plt.plot(years, sea_temperature, linestyle='--', color='blue', label='Suhu Laut')\n",
        "    plt.plot(years, ice_extent, linestyle='--', color='cyan', label='Luasan Es')\n",
        "    plt.plot(years, adjusted_sea_temp, marker='o', color='red', label='Suhu Laut Disesuaikan')\n",
        "    plt.plot(years, adjusted_ice_extent, marker='o', color='green', label='Luasan Es Disesuaikan')\n",
        "    plt.title('Dinamika Laut dan Es')\n",
        "    plt.xlabel('Tahun')\n",
        "    plt.ylabel('Nilai')\n",
        "    plt.legend()\n",
        "    plt.grid(True)\n",
        "    plt.show()\n",
        "\n",
        "# Widget interaktif\n",
        "temp_factor_slider = FloatSlider(value=1.0, min=0.5, max=1.5, step=0.1, description='Faktor Suhu Laut:')\n",
        "ice_factor_slider = FloatSlider(value=1.0, min=0.5, max=1.5, step=0.1, description='Faktor Luasan Es:')\n",
        "\n",
        "interactive_plot = interactive(visualize_sea_ice_dynamics,\n",
        "                               temp_factor=temp_factor_slider,\n",
        "                               ice_factor=ice_factor_slider)\n",
        "\n",
        "# Tampilan tabel percobaan interaktif\n",
        "experiment_table = widgets.HTML(\n",
        "    value=\"<table><tr><th>Percobaan</th><th>Faktor Suhu Laut</th><th>Faktor Luasan Es</th></tr>\"\n",
        ")\n",
        "display(experiment_table, interactive_plot)"
      ]
    },
    {
      "cell_type": "code",
      "execution_count": null,
      "id": "0839d99e-5689-429a-90be-70e5b5b8b9fb",
      "metadata": {
        "id": "0839d99e-5689-429a-90be-70e5b5b8b9fb"
      },
      "outputs": [],
      "source": []
    }
  ],
  "metadata": {
    "kernelspec": {
      "display_name": "anaconda-panel-2023.05-py310",
      "language": "python",
      "name": "conda-env-anaconda-panel-2023.05-py310-py"
    },
    "language_info": {
      "codemirror_mode": {
        "name": "ipython",
        "version": 3
      },
      "file_extension": ".py",
      "mimetype": "text/x-python",
      "name": "python",
      "nbconvert_exporter": "python",
      "pygments_lexer": "ipython3",
      "version": "3.11.5"
    },
    "widgets": {
      "application/vnd.jupyter.widget-state+json": {
        "1867b01cf87f45ca88e566042dde35a3": {
          "model_module": "@jupyter-widgets/controls",
          "model_name": "HTMLModel",
          "model_module_version": "1.5.0",
          "state": {
            "_dom_classes": [],
            "_model_module": "@jupyter-widgets/controls",
            "_model_module_version": "1.5.0",
            "_model_name": "HTMLModel",
            "_view_count": null,
            "_view_module": "@jupyter-widgets/controls",
            "_view_module_version": "1.5.0",
            "_view_name": "HTMLView",
            "description": "",
            "description_tooltip": null,
            "layout": "IPY_MODEL_8e7afdfd8d0c400093b383e57e9cf9d1",
            "placeholder": "​",
            "style": "IPY_MODEL_af00fb12c46d48ba82c8f830540801aa",
            "value": "<table><tr><th>Percobaan</th><th>Faktor Suhu Laut</th><th>Faktor Luasan Es</th></tr>"
          }
        },
        "8e7afdfd8d0c400093b383e57e9cf9d1": {
          "model_module": "@jupyter-widgets/base",
          "model_name": "LayoutModel",
          "model_module_version": "1.2.0",
          "state": {
            "_model_module": "@jupyter-widgets/base",
            "_model_module_version": "1.2.0",
            "_model_name": "LayoutModel",
            "_view_count": null,
            "_view_module": "@jupyter-widgets/base",
            "_view_module_version": "1.2.0",
            "_view_name": "LayoutView",
            "align_content": null,
            "align_items": null,
            "align_self": null,
            "border": null,
            "bottom": null,
            "display": null,
            "flex": null,
            "flex_flow": null,
            "grid_area": null,
            "grid_auto_columns": null,
            "grid_auto_flow": null,
            "grid_auto_rows": null,
            "grid_column": null,
            "grid_gap": null,
            "grid_row": null,
            "grid_template_areas": null,
            "grid_template_columns": null,
            "grid_template_rows": null,
            "height": null,
            "justify_content": null,
            "justify_items": null,
            "left": null,
            "margin": null,
            "max_height": null,
            "max_width": null,
            "min_height": null,
            "min_width": null,
            "object_fit": null,
            "object_position": null,
            "order": null,
            "overflow": null,
            "overflow_x": null,
            "overflow_y": null,
            "padding": null,
            "right": null,
            "top": null,
            "visibility": null,
            "width": null
          }
        },
        "af00fb12c46d48ba82c8f830540801aa": {
          "model_module": "@jupyter-widgets/controls",
          "model_name": "DescriptionStyleModel",
          "model_module_version": "1.5.0",
          "state": {
            "_model_module": "@jupyter-widgets/controls",
            "_model_module_version": "1.5.0",
            "_model_name": "DescriptionStyleModel",
            "_view_count": null,
            "_view_module": "@jupyter-widgets/base",
            "_view_module_version": "1.2.0",
            "_view_name": "StyleView",
            "description_width": ""
          }
        },
        "5d1954314f2148108bbf044c4ec2cf52": {
          "model_module": "@jupyter-widgets/controls",
          "model_name": "VBoxModel",
          "model_module_version": "1.5.0",
          "state": {
            "_dom_classes": [
              "widget-interact"
            ],
            "_model_module": "@jupyter-widgets/controls",
            "_model_module_version": "1.5.0",
            "_model_name": "VBoxModel",
            "_view_count": null,
            "_view_module": "@jupyter-widgets/controls",
            "_view_module_version": "1.5.0",
            "_view_name": "VBoxView",
            "box_style": "",
            "children": [
              "IPY_MODEL_9ca22d398a0049a3b69f6aba7de44a6f",
              "IPY_MODEL_99806a0d64494d10a017ed89e84cd18a",
              "IPY_MODEL_02a54470756d4d74a2343519de0609e6"
            ],
            "layout": "IPY_MODEL_a9b797cebf874ed98daca500589f6bcf"
          }
        },
        "9ca22d398a0049a3b69f6aba7de44a6f": {
          "model_module": "@jupyter-widgets/controls",
          "model_name": "FloatSliderModel",
          "model_module_version": "1.5.0",
          "state": {
            "_dom_classes": [],
            "_model_module": "@jupyter-widgets/controls",
            "_model_module_version": "1.5.0",
            "_model_name": "FloatSliderModel",
            "_view_count": null,
            "_view_module": "@jupyter-widgets/controls",
            "_view_module_version": "1.5.0",
            "_view_name": "FloatSliderView",
            "continuous_update": true,
            "description": "Faktor Suhu Laut:",
            "description_tooltip": null,
            "disabled": false,
            "layout": "IPY_MODEL_b126bab16786439aa47be67689290911",
            "max": 1.5,
            "min": 0.5,
            "orientation": "horizontal",
            "readout": true,
            "readout_format": ".2f",
            "step": 0.1,
            "style": "IPY_MODEL_ba476a05d39542c786c0c8fafac95a3c",
            "value": 1
          }
        },
        "99806a0d64494d10a017ed89e84cd18a": {
          "model_module": "@jupyter-widgets/controls",
          "model_name": "FloatSliderModel",
          "model_module_version": "1.5.0",
          "state": {
            "_dom_classes": [],
            "_model_module": "@jupyter-widgets/controls",
            "_model_module_version": "1.5.0",
            "_model_name": "FloatSliderModel",
            "_view_count": null,
            "_view_module": "@jupyter-widgets/controls",
            "_view_module_version": "1.5.0",
            "_view_name": "FloatSliderView",
            "continuous_update": true,
            "description": "Faktor Luasan Es:",
            "description_tooltip": null,
            "disabled": false,
            "layout": "IPY_MODEL_282ad5d3470146a591ab18888110ceea",
            "max": 1.5,
            "min": 0.5,
            "orientation": "horizontal",
            "readout": true,
            "readout_format": ".2f",
            "step": 0.1,
            "style": "IPY_MODEL_2968f3af5e284c95b0bc06b6e01ae653",
            "value": 1
          }
        },
        "02a54470756d4d74a2343519de0609e6": {
          "model_module": "@jupyter-widgets/output",
          "model_name": "OutputModel",
          "model_module_version": "1.0.0",
          "state": {
            "_dom_classes": [],
            "_model_module": "@jupyter-widgets/output",
            "_model_module_version": "1.0.0",
            "_model_name": "OutputModel",
            "_view_count": null,
            "_view_module": "@jupyter-widgets/output",
            "_view_module_version": "1.0.0",
            "_view_name": "OutputView",
            "layout": "IPY_MODEL_4657fe1ff6a6401e96f5fc5eaf253c30",
            "msg_id": "",
            "outputs": [
              {
                "output_type": "display_data",
                "data": {
                  "text/plain": "<Figure size 1000x600 with 1 Axes>",
                  "image/png": "iVBORw0KGgoAAAANSUhEUgAAA0kAAAIjCAYAAADWYVDIAAAAOXRFWHRTb2Z0d2FyZQBNYXRwbG90bGliIHZlcnNpb24zLjcuMSwgaHR0cHM6Ly9tYXRwbG90bGliLm9yZy/bCgiHAAAACXBIWXMAAA9hAAAPYQGoP6dpAADUx0lEQVR4nOzdd1yV9d/H8dc57D0UBEXBPXDhTBP33oPUtJyZaeb6ablnZZmZo8y01NyZolmuXKi5UhEnmgtxoLiRDeec+w/GDQIKes65GJ/n/eBxx3Wuc11vvpyfnM/5LpVOp9MhhBBCCCGEEAIAtdIBhBBCCCGEECI3kSJJCCGEEEIIIdKQIkkIIYQQQggh0pAiSQghhBBCCCHSkCJJCCGEEEIIIdKQIkkIIYQQQggh0pAiSQghhBBCCCHSkCJJCCGEEEIIIdKQIkkIIYQQQggh0pAiSQgh8qhp06ahUqmUjvFKKpWKadOmpX6fkvvhw4fKhcrlXmwzIYQQxiVFkhBC5AIrVqxApVKlfllaWlK0aFFatWrFggULeP78udIR8xSlCrG1a9cyb948o95Tn1LaLauve/fuKR1RCCGMwlTpAEIIIf7fjBkzKFmyJAkJCdy7d4+AgABGjhzJ3Llz2bp1K1WrVk09d9KkSYwbN07BtNkTExODqWnB+HOzdu1azp8/z8iRI5WO8kZ+/PFHbG1tMxx3dHQ0fhghhFBAwfirJYQQeUSbNm2oVatW6vfjx49n3759tG/fno4dOxIcHIyVlRUApqameaL4sLS0VDqCyCE/Pz8KFy6sdAwhhFCMDLcTQohcrmnTpkyePJmbN2+yevXq1OOZzUlSqVQMGzaMLVu2ULlyZSwsLPD29mbnzp3pzrt58yZDhw6lfPnyWFlZUahQId555x1CQkLSnZcyDPCff/5h+PDhuLi44OjoyODBg4mPj+fp06f06dMHJycnnJyc+PTTT9HpdBkyvWp+zc2bNylTpgyVK1fm/v37ACxfvpymTZvi6uqKhYUFlSpV4scff8xh62Xt8ePHjBkzhipVqmBra4u9vT1t2rThzJkzmbbBi20TEBCASqUiICAAgMaNG7Nt2zZu3ryZOjzNy8vrpRni4uIYNWoULi4u2NnZ0bFjR27fvp3hvJz+vg4fPszo0aNxcXHBxsaGLl268ODBg5w20UstXLgQb29vrK2tcXJyolatWqxdu1av9xBCCKXk/o8ghRBC8P777zNhwgT+/vtvBg0a9NJz//nnH/z9/Rk6dCh2dnYsWLCAbt26ERoaSqFChQA4ceIER44coWfPnnh4eBASEsKPP/5I48aNuXjxItbW1umu+cknn+Dm5sb06dM5duwYS5YswdHRkSNHjlCiRAm+/PJLtm/fzjfffEPlypXp06dPtn+2a9eu0bRpU5ydndm9e3dqD8aPP/6It7c3HTt2xNTUlD///JOhQ4ei1Wr5+OOPc9iCGV2/fp0tW7bwzjvvULJkSe7fv89PP/1Eo0aNuHjxIkWLFs3R9SZOnMizZ8+4ffs23333HUCmQ9bS+uCDD1i9ejW9evWifv367Nu3j3bt2mU473V+X05OTkydOpWQkBDmzZvHsGHD+O2337L1szx+/DjDMVNT09ThdkuXLmX48OH4+fkxYsQIYmNjOXv2LMePH6dXr17ZuocQQuRqOiGEEIpbvny5DtCdOHEiy3McHBx0Pj4+qd9PnTpV9+I/44DO3Nxcd/Xq1dRjZ86c0QG6hQsXph6Ljo7OcP2jR4/qAN3KlSsz5GrVqpVOq9WmHq9Xr55OpVLpPvroo9RjiYmJOg8PD12jRo0yZJo6dWqG3A8ePNAFBwfrihYtqqtdu7bu8ePH6Z6XWcZWrVrpSpUqleH4i9LeIyuxsbE6jUaT7tiNGzd0FhYWuhkzZqQeS2mDGzdupDt3//79OkC3f//+1GPt2rXTeXp6vjKfTqfTBQUF6QDd0KFD0x3v1atXhjbL6e+refPm6X5fo0aN0pmYmOiePn360kwp7ZbZV/ny5VPP69Spk87b2ztbP6cQQuRFMtxOCCHyCFtb22ytcte8eXNKly6d+n3VqlWxt7fn+vXrqcdS5jUBJCQk8OjRI8qUKYOjoyOBgYEZrjlw4MB0Q/vq1q2LTqdj4MCBqcdMTEyoVatWuvu8zPnz52nUqBFeXl7s2bMHJyendI+nzfjs2TMePnxIo0aNuH79Os+ePcvWPV7GwsICtTrpz6BGo+HRo0fY2tpSvnz5TNtA37Zv3w7A8OHD0x3PbNGHnP6+Pvzww3S/L19fXzQaDTdv3sxWtk2bNrF79+50X8uXL0993NHRkdu3b3PixIlsXU8IIfIaGW4nhBB5RGRkJK6urq88r0SJEhmOOTk58eTJk9TvY2JimDVrFsuXL+fOnTvp5hFlVoC8eE0HBwcAihcvnuF42vu8TIcOHShSpAi7du3KdFja4cOHmTp1KkePHiU6OjrdY8+ePUvN8Lq0Wi3z589n0aJF3LhxA41Gk/pYyrBEQ7p58yZqtTpdQQtQvnz5DOe+6e8rpQDN7u+mYcOGL1244bPPPmPPnj3UqVOHMmXK0LJlS3r16sXbb7+dresLIURuJz1JQgiRB9y+fZtnz55RpkyZV55rYmKS6fG0b6w/+eQTvvjiC7p3786GDRv4+++/2b17N4UKFUKr1Wb7mpkd172wcENWunXrxrVr11izZk2Gx65du0azZs14+PAhc+fOZdu2bezevZtRo0YBZJoxp7788ktGjx5Nw4YNWb16Nbt27WL37t14e3unu35WG/amLaoMTV+/r+z+bl6lYsWKXL58mfXr19OgQQM2bdpEgwYNmDp1ql6uL4QQSpOeJCGEyANWrVoFQKtWrfRyvY0bN9K3b1++/fbb1GOxsbE8ffpUL9fPjm+++QZTU9PUBSbSTvj/888/iYuLY+vWrel6Rfbv36+3+2/cuJEmTZrwyy+/pDv+9OnTdL0oKb0wL7ZNZkPXsiqoMuPp6YlWq+XatWvpeo8uX76caValf18vsrGxoUePHvTo0YP4+Hi6du3KF198wfjx42XZdyFEnic9SUIIkcvt27ePmTNnUrJkSXr37q2Xa5qYmGToVVi4cKFRe0dUKhVLlizBz8+Pvn37snXr1nT5gAzDytLOi3lTmbXB77//zp07d9IdSxkOd/DgwdRjGo2GJUuWZLimjY1NtudLtWnTBoAFCxakOz5v3rxsZTX27yutR48epfve3NycSpUqodPpSEhIUCSTEELok/QkCSFELrJjxw4uXbpEYmIi9+/fZ9++fezevRtPT0+2bt2qt0/o27dvz6pVq3BwcKBSpUocPXqUPXv2GGUuTlpqtZrVq1fTuXNnunfvzvbt22natCktW7bE3NycDh06MHjwYCIjI1m6dCmurq6EhYVl+/pz587NsDy2Wq1mwoQJtG/fnhkzZtC/f3/q16/PuXPnWLNmDaVKlUp3vre3N2+99Rbjx4/n8ePHODs7s379ehITEzPcr2bNmvz222+MHj2a2rVrY2trS4cOHTLNVr16dd59910WLVrEs2fPqF+/Pnv37uXq1asZzjX272vjxo2ZzhNr0aIFRYoUoWXLlri5ufH2229TpEgRgoOD+f7772nXrh12dnYGySSEEMYkRZIQQuQiU6ZMAZI+mXd2dqZKlSrMmzeP/v376/XN5/z58zExMWHNmjXExsby9ttvs2fPHr0N58sJMzMzNm7cSJs2bejUqRN79uyhbt26bNy4kUmTJjFmzBjc3NwYMmQILi4uDBgwINvXnjVrVoZjJiYmTJgwgQkTJhAVFcXatWv57bffqFGjBtu2bWPcuHEZnrNmzRoGDx7MV199haOjIwMHDqRJkya0aNEi3XlDhw4lKCiI5cuX89133+Hp6ZllkQSwbNkyXFxcWLNmDVu2bKFp06Zs27Ytw4IYxv59DRkyJNPj+/fvp0iRIgwePJg1a9Ywd+5cIiMj8fDwYPjw4UyaNMkgeYQQwthUOn3N4hRCCCGEEEKIfEDmJAkhhBBCCCFEGlIkCSGEEEIIIUQaUiQJIYQQQgghRBpSJAkhhBBCCCFEGlIkCSGEEEIIIUQaUiQJIYQQQgghRBr5fp8krVbL3bt3sbOzQ6VSKR1HCCGEEEIIoRCdTsfz588pWrQoanXW/UX5vki6e/duhk35hBBCCCGEEAXXrVu38PDwyPLxfF8kpexQf+vWLezt7RXNkpCQwN9//03Lli0xMzNTNEt+JO1rWNK+hiXta1jSvoYl7Wt40saGJe1rWLmpfSMiIihevHhqjZCVfF8kpQyxs7e3zxVFkrW1Nfb29oq/QPIjaV/DkvY1LGlfw5L2NSxpX8OTNjYsaV/Dyo3t+6ppOLJwgxBCCCGEEEKkIUWSEEIIIYQQQqQhRZIQQgghhBBCpCFFkhBCCCGEEEKkIUWSEEIIIYQQQqQhRZIQQgghhBBCpCFFkhBCCCGEEEKkIUWSEEIIIYQQQqQhRZIQQgghhBBCpCFFkhBCCCGEEEKkIUWSEEIIIYQQQqQhRZIQQgghhBBCpCFFkhBCCCGEEEKkYap0ACFyE41Ww6HQQ4Q9D8Pdzh3fEr6YqE2UjiWEEEIIIYxIiiQhkvkH+zNi5whuR9xOPeZh78H81vPpWrGrgsmEEEIIIYQxyXA7IUgqkPw2+KUrkADuRNzBb4Mf/sH+CiUTQgghhBDGJkWSKPA0Wg0jdo5Ahy7DYynHRu4ciUarMXY0IYQQQgihACmSRIF3KPRQhh6ktHTouBVxi0Ohh4yYSgghhBBCKEWKJFHghT0P0+t5QgghhBAib5MiSRR47nbuej1PCCGEEELkbVIkiQLPt4QvHvYeWT6uQkVx++L4lvA1YiohhBBCCKEUKZJEgWeiNqFPtT4vPWde63myX5IQQgghRAEhRZIo8HQ6Hbuu7gLA1tw2w+M9vHvIPklCCCGEEAWIbCYrCryJl7dyKuwUVmY2XBl2hUuPLhH2PIzgh8HMPDiT7Ve38yj6EYWsCykdVQghhBBCGIEUSaJAS9Rp+S5gKgDV6w7Hzc4NNzs3ALQ6LVsvb+XM/TP0PPw1u1vMVjKqEEIIIYQwEhluJwq0z4L9ib1/Bszt+LXe/9I9plap6dX0CwD2/LuQwOd3lYgohBBCCCGMTIokUWDFazX8kNyL1PCtUZTNZDjdmLJtsSv+NiTG0ufg58aOKIQQQgghFCBFkiiw/ndhA3EPLqKydGRlvVGZnqNWqfii2ZcAXAhcSsCT68aMKIQQQgghFCBFkiiQYrWJ/HRgGgBN6/0PT0vHLM/9xLMhhUq3Am0iAwOmGSWfEEIIIYRQjhRJokAadW4tCY/+Q2XlzMq6I155/rzkuUnXz67mj/ALho4nhBBCCCEUJEWSKHASNAnsOjAdgM71P6Wohd0rn/Ne0ZoUq9gN0DFk/yQDJxRCCCGEEEqSIkkUOL+e+ZUbT67jYu3CqjrDsv28xU1mgkpN2KUt/HvnXwMmFEIIIYQQSpIiSRQoUZp4Zh6cCcC4BuOwMbfJ9nPbu1SkX7U+AEzcN9Eg+YQQQgghhPKkSBIFygeBvxD6LBQnW3eG1BqS4+dPbTQVM7UZe67vYd+NfQZIKITI7zRaDQEhAaw7t46AkAA0Wo3SkYQQQrxAiiRRYDxNjGXDoaQFGJr5TsDKzCrH1/By9GJgzcEA+O2biFan02tGIUT+5h/sj9d8L5r82oRe/r1o8msTvOZ74R/sr3Q0IYQQaUiRJAqMgaeWoH1+BxN7D5bW+OC1rzOk4UQwteLJ7WNM/e8vPSYUQuRn/sH++G3w43bE7XTH70TcwW+DnxRKQgiRi0iRJAqEhwnRbPlnFgA9fCfhaGr52teqauvGW8nLhs/ZN5FEnVYvGYUQ+ZdGq2HEzhHoyNj7nHJs5M6RMvROCCFyCSmSRIHQ/8SPaCPvYeroxU8+/d/4emveHgsWDsSGn2Pk+fV6SCiEyM8OhR7K0IOUlg4dtyJucSj0kBFTCSGEyIoUSSLfuxcfybbDXwHwXsPJ2JqYv/E1S1k507z+WAB+2j+FaE3CG19TCJF/hT0P0+t5QgghDEuKJJHvDf/3e3TRDzF1Ks0PVd/X23VXvTUClY0riU+u8WHQcr1dVwiR/7jbuev1PCGEEIalaJF08OBBOnToQNGiRVGpVGzZsiXLcz/66CNUKhXz5s0zWj6R90XERbD3yDcAjGw0FWsTM71d283cli6+SfslrT8wg+cJMXq7thAif/Et4UsR26wLIBUqitsXx7eErxFTCSGEyIqiRVJUVBTVqlXjhx9+eOl5mzdv5tixYxQtWtRIyUR+Mf/YfB7HPKZ8ofJ8VaWX3q+/vOZgbOyLo3l+h6Unf9T79YUQ+YOJ2gQX1yovPWde63mYqE2MlEjkJRqthgM3D3DwyUEO3DwgC3wIYQSKFklt2rTh888/p0uXLlmec+fOHT755BPWrFmDmZn+egFE/ncz5glzjn4LwLTG0wzy5sPe1IIFjacB8OWhL4mIi9D7PYQQed+VR1cIvrEXACdrl3SPWZpasrH7RrpW7KpENJHLpeyt1WJNC+benEuLNS1kby0hjMBU6QAvo9Vqef/99xk7dize3t7Zek5cXBxxcXGp30dEJL1pTUhIICFB2cn1KfdXOkd+9WL79j7yLRFxz3B38aZLuS4Ga/d3K73LV/98xZXHV/jy8Bxm+k42yH2UJq9fw5L2NSyl23fi3olodBralG6D/zv+/HPrH07fO82nez8lNjEWZ5eqefp3r3T75lebL22mp3/PDEvHp+yttb7rerpUyPqDZpF98ho2rNzUvtnNkKuLpK+//hpTU1OGDx+e7efMmjWL6dOnZzj+999/Y21trc94r2337t1KR8jXdu/ezR1VDIcvLACgjsd77Nyx06D3bOfQhXmPZ/P18XmUeF6RYuSO15ohyOvXsKR9DUuJ9j1KGL8H/44KFa1MW7Fr5y4AylEO22K+RN45xND93zLLvLXRs+mbvH71R6PTMPTi0JfurfXxnx9jes0UE5UM09QXeQ0bVm5o3+jo6Gydl2uLpFOnTjF//nwCAwNRqVTZft748eMZPXp06vcREREUL16cli1bYm9vb4io2ZaQkMDu3btp0aKFDB00gLTt2+TwNIh/jqVbdda1HoWpyrAjS1vqWvPT8t3E3DvNMsuTHG36lUHvpwR5/RqWtK9hKdm+A9e3A6BO5Z4M7Tg03WMfXIplnv8hLt/cTONh3+p1cRljktev/h24eYBHZx699JyHCQ+xr2xPI89GRkqVf8lr2LByU/umjDJ7lVxbJB06dIjw8HBKlCiRekyj0fC///2PefPmERISkunzLCwssLCwyHDczMxM8V9KityUJT+6Ev+Ef08kLQbyv8bTsTLP+HrQNzNgXNMvmLq2LadOLuJMvdHUsi9m8PsqQV6/hiXta1jGbt9vb+zj0fXdoDbjq6afZ7j3F5W6suBvN7SR95hxfTvfVvIzWjZDkNev/jyIeZDt86TN9Udew4aVG9o3u/fPtfskvf/++5w9e5agoKDUr6JFizJ27Fh27dqldDyRiw04NgcSorEpWpsZ5ToY7b6TyrTGvkQDSIyl78HPjXZfIUTupNXpmLp3PABVag6msVOpDOdYm5hRz2cgAMtPLjZqPpG7yd5aQihL0SIpMjIytQACuHHjBkFBQYSGhlKoUCEqV66c7svMzAw3NzfKly+vZGyRi11XRxF4KumNxrgmM1DnYKjmm1KrVHzR9EsALp7+mX2Prxnt3kKI3Gfcpc1E3fkXzGxY23BSlufNrjEIUPHkxl7+fnTFeAFFruZbwhcPe48sH5e9tYQwLEWLpJMnT+Lj44OPjw8Ao0ePxsfHhylTpigZS+Rhqx79AYmx2HnUY0LpVka//zBPXwqXaQ3aRAYGTDX6/YUQuUOsNpH5+5I2m25QbzSVbYtkeW59R09cy7YFYOKpJUbJJ3I/E7UJbWp+lOljKpI+AJS9tYQwHEWLpMaNG6PT6TJ8rVixItPzQ0JCGDlypFEzirzjdsRtzoUm7RvxbZOZRu1FSmte0y8ACDm3lsP3zymSQQihrI+CfiX+4SVUVoVYW3/MK8//uOZgAK4GLSc2MdbQ8UQesevBeQBMzWzSHbeydJS9tYQwsFw7J0mInPrq8Fck6hLxLe7LByWbKpajt3sNald6B9Dxzf78uWeSECJrMQkx/HFgGgAdfCdS3OLVK6tOLNuW4vbFeRrziE0XNxk4ocgL7j4P49bFjQCs6BvA7t678SzeBgCzIlWlQBLCwKRIEvnC0achLDuzHICpDafmaNl4Q1jZZAZqlZo/Lv/B8dvHFc0ihDCuH078wNOI2xSzL86vtYdk6zkmahMG1RgEwOJTsoCDgKWnlqDTJlKneH16F6tFI89GDHHpBcCzmwc5EXFb4YRC5G9SJIl8od/Bz0nUJuDm+hYNPRsqHYcKhSvQt1pfAD5JnpcghMj/nsY+5ctDSQu4fN5kBo6mltl+7sAaAzFRmfBP6D9sCb9gqIgiD0jQJPDTqZ8AGFl7WOrxClo77Es0BHRMO7dOoXRCFAxSJIk8b+/jq/wXtAKALh7vKxsmjcmNpqJSm3Hixl6+ub5X6ThCCCPodfgbnsQ+oZJLJd6vmrN/j4raFaVIhU4ATE1+gywKpm8ubSYsMowiNkXoVqlbusfae/cEYN+51UpEE6LAkCJJ5HkfHpwJOg2Fy7SmlTb3bOBa0tGTKrWSViaavm8iWp1O4URCCEMKeh7GjuPzAOjV9MvXWnVsWPICDmfPrCQ8Pkqf8UQe8vW/3wNQs+aHmJuYp3tsaoVuYGJO7P2zbA4/r0Q8IQoEKZJEnrb94SWun036NO0r39y3dPwa34lgZk3UneNMurxV6ThCCAN67+BMSIjG1qMe48t3fK1rjC3VHFOnUhD3jM8u/KbnhCIv2Hj/LBGhh0BlwvTkojmtklZOuCcvGb/q7BpjxxOiwJAiSeRpQw/MAJ0Wt/Id6eNeS+k4GVS2LUL9uiMBmLt/EvFajbKBhBAGsffxVS4ELgXgi+ZfvfYWBKYqNS2S3xj/flIWcCiIJv/7AwAeFbtQyz7z0RHTqvQG4OS5NWh1WqNlE6IgkSJJ5Fmbw89z8/x6AOY1nq5wmqytrj8GlaUjceHnGZmcVwiRvwzYPxm0ibiUacPwN1w85tvq/UFtRtTdE6wJC9RTQpEX3Ix9yqXkuUZj0izY8KI+5dpjb2HPrYhb/BP6j7HiCVGgSJEk8qxvA6YBOopV7EYPt+oKp8laSSsnWtT/FIClAVOI1iQonEgIoU9rw04TmvwByMJms974ehVtXPCs5AfA5ydlAYeCZGTQCkiIxsK1Mp+8pNi2NLXEr2LSa2SxDLkTwiCkSBJ5UtC9IA4Hb0KFitWNpykd55VW1R2OysaVxCfX+fb0MqXjCCH0aPje8QB4VulFD7dqernm/5IXfbl+bg0RcRF6uabI3RJ1WradSBpq1632x68cstmsatKQu/UXfyciMc7g+YQoaKRIEnnS1ICpAPSo3IPGrpUVTvNqruY2jPedBMDigzOISYhROJEQQh/23djPo2u7QG3K8iYz9Xbdj0v4UrFwReITolgjPQUFwppru0l4fBUs7Pm26nuvPN/PsxFqu6LoYp8w6+oOIyQUomCRIknkOWvvnmTr5a2oVWqmNpqqdJxsm1LzQzwdPLn7/C6LTixSOo4Q4g3pdDomJPciDa05mCZOpfR2bbVKxeDkBRx+PPkjOtlCIN/beCJp2e9e1fvjZm77yvPN1SbUqNwLgFXnpJAWQt+kSBJ5zsj9SUt9V6rSmwqFKyicJvssTC2Yljw0cOo/s7glQ2iEyNM2X9rC8TvHsTGzYUrDyXq/fp9qfbA0teRc+DlW3z6m9+uL3OPGkxts+28bAFNrD8328/6XPOTuzuU/CY19ZpBsQhRUUiSJPGXJraM8uLoDVCbMa5T79kV6lfeqvodN4QpExTzivaNzlY4jhHhNsdpE3t83EYBP3hpFEdsier+Hk5UTXpV7AjDtlCwHnp/NPPkjOnS0LN2ScoXKZft53YtUw9ylEmjimBbsb8CEQhQ8UiSJPGV8QFJhVK5aX5o5l1E4Tc6Zqk0ZnDxv4eDRb7kU/VDhREKI1zHkzEqiHwajsirEkPpjDHafMTWTF3C4sIFrMY8Ndh+hnEcJ0awI/BmArrU/ztFz1SoVjZL3TNqSvHS4EEI/pEgSecbCmwd5fH0PqE35pZH+h7YYy9cVu2LlXgPiI3nvn6+UjiOEyKGnibGsSl48poPvBEpYOhjsXv2L1cGySDVIjOV/Z1Ya7D5COWPPr0cX+wQTB0/6l22X4+dPqZI0L+nJjf2cjLij73hCFFhSJIk8QafTMXl/UmFUyWcgDRy9lA30BkxVaiY0/QKAU/9+z4mI2wonEkLkxPv//oAm4jYm9sX5NQfzR16HWqWia/Jy4NtPLkYrCzjkK1qdjvX/Ji3Y0LL2UMzVJjm+RgNHLzxLNAB07JcNy4XQGymSRJ7w7Y19PLt5EEzMWeY7Uek4b2xC6VbYl/AFTRx9D36udBwhRDaFxj5j2z9fAtCn8XQcTS0Nfs9vqvQGc1sSHl1m/s0DBr+fMJ5fbh8j5t5pMLFgns+A177OuOQhd+tklTsh9EaKJJHr6XQ6VibPRapaczB1HYornOjNqVUqvmyW9EYr+PQv7H18VeFEQojs6HXkG3QxjzEvXJEfq71vlHsWtbCjYvKb4O9OygIO+cmXyct+l6nyLuWsC7/2dd6p9A6malNO3zvNxQcX9RVPiAJNiiSR6+26totzt45gaWrJlgbjlY6jNx+XaIBL2bagTWReQN7Z70mIgupq5D0OH/sOgNHNvsRCbWq0e09O3jPpdrA/YVHhRruvMJzzkfcJufA7AFNrD3ujaxWyLoRv2bYAfCKbDwuhF1IkiVwt7VykobWGUtLOXeFE+vVHk6ShdtvOrePs/bMKpxFCvMx3B2ZCQjTuHm/xRflORr33u+4+VCtWF502gZWnlxv13sIwJgYuBW0CtsXq8l7Rmm98varJvY0Hzq8lUad94+sJUdBJkSRytRn//cXJuyexNrPmswafKR1H7+q5+9Dduzs6/r8YFELkPtceX2NJ4BIA1jX7CrVKZfQMI5J7k3469RNaeROcpyVqEzmVPHRyVJ0360VKMblcBzC3Q/M0hCW3jujlmkIUZFIkiVxLo9PydfJcpOp1PsHVxlXhRIYxo/EM1Co1Wy9vZentY0rHEUJk4tP9k0nUJtK6TGsaeTVSJEOPyj1wsHDgxtMbrLy2W5EMQj/+uPQHd57fwcXahYmV3tHLNQuZWVG6YlcAfpAhd0K8MSmSRK41/tIWYu4Fgbktyw24WaPSyhcuT9lq/QD4dN9EZIFfIXKX3+4F4X9+HQBfNJulWA5rM2vqVusLwIRTsoBDXjY/ecGGQTUGYWFqobfrDqr6HgDBFzcQqYnX23WFKIikSBK5UqJOy4LkxQwa1B35Rqv+5AXLG08FE3Oe3tjHN9f3Kh1HCJHGsL1JC8Z4Vn6XGm7Vlc1SK2nIXdjlPzkhG4fmSVvCz3MoJACVSs3g5D2w9GWUVxPUtu7oYh7z9dVder22EAWNFEkiV/rfhd+JCz8PFg6srDda6TgGV8+hBNVrDQFgxr4JsmGkELnEvJAAHl7dCWpTfmkyU+k4dHCphINnQ9Bp+PT0L0rHEa9h0olFALhX6EwJPW9pYa42oXrlngD8em61Xq8tREEjRZLIdeK1GhYfmAZAk3qjKWnlpGwgI1nVYDyY2RB1518mXv5D6ThCFHhanY7Jyb1IlWt8SDPn0gonSvJe8gIOhwKXEqtNVDiNyInQ2GdcOLMSgNG1PzbIPUYlr3IXdnkrEXERBrmHEAWBFEki1xl+bi3xDy+hsnRi5VsjlY5jNJVti/B28s/73b5JxGs1ygYSooCbePkPIm8fAzNrVjfKPatPflmxGyrrwmgibjPzynal44gcGH3mV0iIwrxwRUZ5NTHIPXq516BC4QokJsayOXizQe4hREEgRZLIVRK1iew4MB2AVvXH4mFhr3Ai41pTfwwqS0fiHlxgePJEcSGE8cVrNczdOwGA+m+Nopqtm8KJ/p+9qQW1q/cHYOlJWcAhr9DotGw98QMAnesMM9gy8mqVit7JvUlrzskqd0K8LimSRK6y8sxKQp9co7B1YX6v+4nScYzO09KRtm8n7Qe1Y/8Udl/bzbpz6wgICUAjPUtCGM2sMyuJfxiMysqZdfXHKh0ngy9rfgjAg6s7Of00RNkwIlvmXN9LwqP/wNyO76q+b9B79arSC4C9N/Zy7nmYQe8lRH4lRZLINeI18cw8mDQx+rO3P8PW3FbhRMr4rc4nOFo6Evr0Bi1Xt6SXfy+a/NoEr/le+Af7Kx1PiHwvNjGWX5JX1xzcYAIlLB0UTpRRM+cyVCnVAtCx8dRSpeOIbJif3ItUpVpfilrYGfRepZxK4eRRD61Oy+Tz6w16LyHyKymShOI0Wg0BIQE0/WsoIU9DKGxThKG1hyodSzG7ru3iaezTDMfvRNzBb4OfFEpCGNiiE4u4FXELD3sPvqtjmMn1+jAtefnoX07/QrzsiZOrhTwN4f5/fwLwlZFeUy2T90zaLUPuhHgtUiQJRfkH++M134smvzbhcFDScrZRiXHsvLpT4WTK0Gg1jNg5ItPHdMnbzI7cOVKG3glhIKGxz5h+6EsApjeejqWppcKJstahXAfcbN24H3Wf3y/Jipi52eKTi9HqtDQr2Yy2hSsY5Z7TvbuD2pTosFNsf3jJKPcUIj+RIkkoxj/YH78NftyOuJ3ueGzcswLbY3Io9FCG9khLh45bEbc4FHrIiKmEKDh6H5lDRMwjHAtXoE+1PkrHeSkzEzM6+HwAwLBTsoBDbhWbGMvPgT8DMKzOMKPdt7x1YVxLtwJg1lnpTRIip6RIEopI6TFJ6R1JqyD3mIRlc4Jtds8TQmTf+cj7/HNsLgAfNv0SU7WpwolerX/NQaBS8/TGPnY8vKx0HJGJ4ed/41HMI1zti9O+XHuj3rt78ip3x86vlU3KhcghKZKEIqTHJHPudu56PU8IkX29Ds6EhGhsitVlVoXOSsfJlnoOJXAt2xaAyaeWKJxGZGbNie8BqF5riNEL7ykVOoG5LYlPrvPz7WNGvXdBkzK/WlakzT+kSBKKkB6TzPmW8MXD3gMVme+foUJFcfvi+JbwNXIyIfK3gCfXOXfqJwBmNv/KYHvYGMKQmkkLOASeWcGTxFiF04i0lt/5l+i7J8HEnHk1PjD6/V3MrClZoQsAS2UBB4NJO79aVqTNP6RIEoqQHpPMmahNmN96PkCWhdK81vMwUZsYM5YQ+V6//ZNBm0ih0q0Y5dVY6Tg5MqFMa0wcSqCLecz4ixuVjiPS+PzfpF6kUt49qGjjokiGcclD7kIu/EaCJkGRDPlZVvOrZUXavE+KJKGIlB6TrBTkHpOuFbuysftGitkXS/+ASs0qv/V0rdhVmWBC5FO/3Qvi5rm1ACxsNkvhNDlnrjahcY1BAKw9KQs45BYXo8K5fuE3ACYZccGGFw0o1QxXG1ceRj/k72t/K5YjP5L51fmbFElCESZqEwb6DMz0sZQelILcY9K1YldCRoSwv+9+VnRZhZmlM+i0mOSBieRC5DXf7Z0AQInKPXnX3UfhNK9njs9AUJnw/NZhNt0/p3QcAYwK/AU08dgUrU3/YnUUy2GqNuXdyu8CsFqG3OlFjDaRvx4E8+7Bz2V+dT4m77iEYo4lTyK1MbMhKiEq9biHvQfzWs8r8D0mJmoTGicP+7n84CKz/pnFysCf6VnA20UIfToQcoDjV3dgqjZlU5OZSsd5bdXt3KlUoTMXgzex59RPdGv7vdKRCrRYbSJ7T/4IQK/aym9I3LVKb+Yfn8/6S1v4Nu45RS3slI6UJyTqtBx8coOH4ee5+uAC58PPE/DgAmEPL0EONnAuaPOr8wspkoQiNt4/y65ru1Cr1JwefJo7z+8Q9jwMdzt3fEv4FtgepKwM8BnArH9msfPqTm49u0Vxh+JKRxIiz9PpdIzfOx6AQTUGUcu5jMKJ3sz8Wh/RIngTa8+uYk7zr7Ext1E6UoH15+U/0UTcwsyqELMr91A6Dg2K1sLMuSwJj68w49IWFld7X+lIeqHRajgUeuiN3z9odTqOR9ziN9U1lhz/jssPLxIWfp7oh8GQEJ35k8xssHQoTmw2NuotaPOr8wspkoQiPjsyB4CiFbtRtlBZyhYqq3Ci3K2McxkaeDXmn5AAPglazpZGU5SOJESeN+3yVo7ePoq1mTWTG05WOs4ba1qyKWWcy3D18VXWn1/PwBqZD2kWhvfTiR8A+F+NQTiaWiqcBtQqFW9X6U3AgWlsPLcmXxRJ/sH+jNg5It1wNw97D+a3np/lSBStTseFqHB2hp8nJvw8t5N7h04/uEBsXETmNzKxwMulEg1cvansUhlPV288XCvzlkMJVDodXvO9uBNxJ9N5SUCBnV+dH0iRJIzu+LNbXD+/DoDP649VOE3eUdXnA/4JCeCv08tIaDgJM5VMKRTidcVrNXy9L2kuUp26I/PFJ71qlZo+NT5kyp5PGXtqsRRJCgl+EMzeG3tRq9R8VOsjpeOkmlQ1qUh6dH035yLvU8W2iNKRXlvKinIvFiYpK8pt7L6RWl6N2Rp+gcPh5zn/4AK3ws8TEX4eXcyjzC+qNsXMqSxFilShnGtlarlWpqmrN02cSmOeVe+UCua3no/fBj9UqDItlEqUaS2jY/IoKZKE0Q07vgC0iTh4NqJvsdpKx8kzZlbsyo87HNE8u8mc63sZX7qF0pGEyLOGnl1F3IOLqKyc+fXtT5WOozfvVO/HlP2TeHL3JCvvnqRP0VpKRypwBib3IrUp1wFPR0+F0/y/Zs5lsClWl6g7x5l6fj3+b41QOtJryc6Kcu/8/g5anTbzC6jUmDmVpoprZdq6eFPZtTIVXCtTwt6Lg7v20LZtW8zMzLKdJ2VF2hd7tSwtHIiNe8bhoOUsqtaHoSUa5OwHFYqTIkkYVWjsM04mb9g4UnqRcsTZzIrKVd7j3InvWXT6ZymShHhNTxNjWREwFYC2DcZTwtJB4UT6U8HGBa9KfoScW8uXJ3+iT0cpkozpTlwER8/8CkBDBZf9zkrrKr3ZdOc4f59bA3m0SDoUeuilK8oBqQWSiYMnzq6VKeVameou3jRyrUyrwhVwNrPK8JyEhNffQ6prxa50Kt8p3fyot4s3oPTm97h14Tc+2eBH7Q9PUvslW5+I3EfG6wijGnJqCcQ/x8KlEpPKtlE6Tp4zKXnH9tvBm7kc/VDhNELkTf1O/IjmWSgm9h6szAUrj+nb/2omDfG6fH4tobHPFE5TsIw+swriIzEvVJ4xJZspHSeD6ZV7gMqEqLsn+PvRFaXjvJbsrhT3S8dfSBwZQnivvzjW/CsWV3ufd919Mi2Q9CFlRdp3q7xLY6/GmJmYcrLjL1i6VkEbdZ8mG7rxNDHWIPcWhiFFkjCaSE08O4/PB6BXvf9hKnNqcqy7WzWsi9YCbQKfnVmldBwh8pw7cRFsPfQFAO81mmawN0xKGlqiARYulSAhmrGyL47RaHU6tiQPtetQ+2PUKpXCiTLytnGleOmWAEm9SXlQducPlnIqZeAkr+ZqbsOOnltQWToRdedf3tr2MTpd5gs85GcarYYDNw9w8MlBDtw8kGc215V3qcJofj+3Du3zO1jYujOvSm+l4+RZnZI34d15+me0BfAfWyFyKu0f6A67RqKLeYR54Qosrt5X6WgGoVapaF9zMAB/nFws/04YyXch+4l/GAzmtszLxa+tWcl/f7ecXZ0n37D7lvDF0doly8dVqHLVinKNnUrxhd96UKm5HLSMxScXKx3JqPyD/fGa70WLNS2Ye3MuLda0wGu+F/7B/kpHeyUpkoRR6HQ65h5NWvZ7Wt3h2JtaKJwo7/qq8rtgakXcg4vsS96QVwiRuRf/QJ8/vxpImlRvqc6/03LnVH0/6d+J8HMsuX1U6TgFwtx/kzbw9a76Ph4W9gqnyVqnCp2wNrPm2pNr/HvnX6Xj5NjT2KfEZLEog4qk3rt5reflqhXlxpduyefNZgEwfOdw/gn9R+FExpGyCuGLc8hSViHM7YWSFEnCKHZe3cn58PPYmtvmqiVR86ISlg708u4OwPrTvyicRojcK6s/0ABbj8zJ9X+g34SXlRMVKvcEYHsB++RaCceehXL38h8AfJHL57nZmtvSsUIXACbmsSF3Op2O/n/0Jy7mEfa27rjbFU33uIe9Bxu7b8xynyQlTag/lu7e3UnUJtJ5gx8nI+4oHcmgsrMK4cidI3P10DspkoRR9D/yDQB9agzC0dJR2TD5wJDkBRzWn1/P87jnCqcRIvd52R/oFLn9D/SbWpH8gdTfFzbwKDqLvWGEXvx68ifQaXHyakInV2+l47xSxeQhd/vOryda8/qruhnb/OPz+fO/P7EwseBA7+3cGhnK/r77Wdt1Lfv77ufGiBu5skACUKlULOu4DC/XKjyKuk/jDd2ISIxTOpbBvGoVQh06bkXc4lDoISOmyhkpkoTBrb57ivsh+0FlwntvjVQ6Tr7wdvG3KV+oPFEJUXx94Tel4wiR6+SHP9Bvqk7R2vi4+RCniWPlmZVKx8m34hLj2BS4FIDFubwXKcWnpVugsnZBF/2AOdf3KB0nW369c4L/7U7a02xuq7lUd6ueYUW53DTELjM25jYs67E5eSGH49Te/nG+nTOY3VUIs3ueEqRIEgY3MbkXyatyT+o5lFA4Tf6gUqmombyAw7zAnxVOI0Tuc/1ZaLbOy81/oN+USqVKHd78xSlZwMFQfr/4Ow+iH+Bh70HXCp2UjpMtlmpTKnv3AGB5HhhyFxr7jA829kCrTaBsxW4MqTVE6UivrYlzaT7vtg5Uav47/QvvJe8dmd9kdxXC7J6nBCmShEEdenKD0Iu/A/C1bB6rV+Or9QG1KVF3jrM5/LzScYTIFaI1CfQN/JlBu7P3701u/gOtD50rvwvmtjx69B/zQgKUjpMvTUpesGFwzcGY5qHFQEZUfQ+AkEubuR8fqXCarGl1Ot7+8wMSn97A1NGL3R1/RpULl1fPiQllWtG66ZcArNsxnB9DDyucSL+0Oh3LXrGwVG5bhTAzihZJBw8epEOHDhQtWhSVSsWWLVtSH0tISOCzzz6jSpUq2NjYULRoUfr06cPdu3eVCyxy7JNj34FOi3OpFnR3q6Z0nHylsm0RipbvCMDMQFnAQRRsGq2GlWdW4vlDRVb+OQhtVDi8ZC+2vPAHWh9cLeyoVCXpzfC8U7KAg76tvHuSm3eOg9qMHjUGKR0nR/oXq4OpU2lIiGbGpT+UjpOl90/9xO2LG0FtyhK/3/DMJ/Oat739KR6V3gFtAsM2dMs3Czkk6rTU2jWaVXvHpx5LWXXwxe9z2yqEL1K0SIqKiqJatWr88MMPGR6Ljo4mMDCQyZMnExgYiL+/P5cvX6Zjx44KJBWv42r0I84kr742VnqRDGKwT9ICDkFnV+brCaBCZCVRp+XH8+vxXuRN3y19efjkGiY2rnRqOZcVXVajSv6/tPLKH2h9mZo85O5WsD/nI+8rnCZ/mZm8eayXd3fK2hZROE3OqFUq6iUv4PB7Lh1yt/H+WdbuHAlAx+Zf079YHWUD6ZFapeJkp2VYulZBG3Wfjhu6EZfH/45HauIp4/8ep4/PA6BDizls6r6JYvbF0p2Xm1chTEvRfuE2bdrQpk2bTB9zcHBg9+7d6Y59//331KlTh9DQUEqUkLktud2Qk4shIRort+p8Wqq50nHypXGlWzLD3gNNxG0mX9rC/Mo9lI4khFFodDrGXdrMwoCpxCUPN3W2cubT+p/ycZ1h2JrbAGBnasGInSPSLeLgYe/BvNbzcv0faH3p7laNgR5vEXn7GP87vYxdvuNf/STxSv9FP+TquXUATMgjCza8aELV3rQ5OIMH1/7mblQ4RW1clY6U6l58JL1/7w6aOFzLtmPzW6OUjqR3Rcxt2dZjM+2W1ibsznGGbR/Gkg5L8uRwwrtxz6myoSuPr+8BtSkfdVrOj8lDOjuV78T+6/vZ8c8O2jRoQ5NSTfLEB1R5Z/As8OzZM1QqFY6OjlmeExcXR1zc/1fiERERQNLwvYQEZZe5TLm/0jmMITYxltP/LgSgb91RaBITMfRCuwWpfVOogHrV+vHPoc9ZHbiUOeUN96avILavMUn7Zo9Wp2P61e3MOzSDmHunkw5aODCs7kim1f4E++RNPFPasUOZDrQd2paAGwHsPrabFm+1oHHJpFWwClJbd/cZxLLbx9gXuITouqMxe8lQxNdREF+/w08tBU0cVu416FOkpsF/dkO0cTP7klRxr8W5sJP8fnYdQ2sN1du139TAv4YQ/+gyarti7G231ODvI5R6DfvalWBj51V0WN+Bn0//TPUi1fmwxodGzfCmzkfep8HvnYkOOwVmNszotoFxpVqka8v6ResT5RRF/aL10Wq0aDWZbwhsDNn9Hat0utyx3I1KpWLz5s107tw508djY2N5++23qVChAmvWZN0tPG3aNKZPn57h+Nq1a7G2ttZXXPEKfz/6m0W3FlHYrDCLKy3GVJWn6vE85YLqGRNP9wN0zK3yM6VMCisdSQi90+p0bFLfYOPd1cTdD0w6aG5HpbLvM8KsIUWwVDZgLvecBN6/NAhin/Jujbn00JZSOlKeFq/T0PPGKLQRoTSrPpVP8FE60mv788Gf/HLnF8pZl2N2udlKxwFg3+N9LAhdgAo1Q6rPoyX5f/TQpvubWBW2CpXajA+rz6ONttirn5QL3Im/x4g7X5P47AYqq8J8UvFzmmrdlI71UtHR0fTq1Ytnz55hb2+f5Xl5okhKSEigW7du3L59m4CAgJf+QJn1JBUvXpyHDx++9HnGkJCQwO7du2nRogVmZmaKZjEkrU5L1Z+q8t/j//im+TeMqDPCKPctKO2bmTrr2hJ0Yw/j3x7P9EYZPyTQh4LcvsYg7Zu1gJAARh6cxsXbR5IOmFlTp/bHLK8zmrLWhbJ1DWlfqLNnDEH/LsCnXEeO+23U67ULWvtOufIXX/3eFZWVM2HDbuBsZmXwexqqje9F3sNroRdanZZjH12khnMZvV37dVx8GEz95fWITohmeqPpjH/bOMNDlX4N63Q6qm/pTXDwRtS2bhzpf4wadkWNniMnTt87TYf1HQiPDsfUsSRbe/5Fc+eymZ6rdPumFRERQeHChV9ZJOX6j/cTEhLo3r07N2/eZN++fa8sdCwsLLCwsMhw3MzMTPFfSorclMUQJl36g/8e/4edhQODaw02+s+a39s3M+NrDqLHjT2sPLuSmU1nGnSsb0FsX2OS9v1/f4Ye5rv9k9kfsh8Atakl1WsN4de3P6Pya06SL8jtu7jWR7z17wLOXPmL+zH38bD30Ps9Ckr7bj31IwC1fAZSxNq4H8Dqu42LOxWndKnmXLn2N+Mv/c6+RlP0du2cepwQw9tbehOdEE3zUs2Z2HCi0eeuKPka3td5OV6PLhEXfp7mm3typ28A9qYZ39PmBjuu76X7b52JjI+kWpFq/PHeTjxtX92DlBv+jcju/XP1PkkpBdKVK1fYs2cPhQpl7xNDoawFyZvHetcagp2FncJpCoZO5TtRyKoQd57fYfO1XUrHEeKNLL/zL4VXt6bj8gbsD9mPuYk5H9f+mJvDr3Gq1dzXLpAKurouFWnk2QitTsvPsgn1a7v88DIXr+9GhYoleXhT07SaJC8T/8+5NYpuOvz2zpFEhZ9HbVOExV1W5YnJ/frkZm7L9h5bUFk6Enn7GHV3fKJ0pEyNOL+etmvaEBkfSROvJhzodyBbBVJeo2iRFBkZSVBQEEFBQQDcuHGDoKAgQkNDSUhIwM/Pj5MnT7JmzRo0Gg337t3j3r17xMfHKxlbvMSSW0d5fuswqM34oW7u/B93fmRhakHTan0AGC5vfkQetf5eEG7rOjLg57o8urYL1Ka0qjGIK59c4fu23+ORy4ee5AUfJS8H/kPgz8RqExVOkzctOrEIgHbl2lHdqaTCafRjaoXOYGpFwqP/WHX3pCIZRpz/jUuBSwAVs7qupnQ+fNOdHU2dSzOj2zpAxaXApfQ++ZPSkdLpdnwBCza9C9oEyld6hx29d+Bg6aB0LINQtEg6efIkPj4++PgkTXgcPXo0Pj4+TJkyhTt37rB161Zu375N9erVcXd3T/06cuSIkrHFS0xL7kUqW/W9XD+WNr/p5TMQgLD//uRs5D2F0wiRfVvCz1NsQzfe/cmH+//9CSo1pav3Y/+wy+zssIQSDvl/0raxdK7QBVNrFx4+v8P0/7YpHSfPuRcfyS9nVgAwrPYwZcPoUVELO0pU6ATAPAX2TNr7+BoL/kzajPdt34kFftuQSWVa06rZlwCs3fEJP4YeVjhR0uI59faMx39n0jzzKrWHcbbbOixy6XBAfVC0SGrcuDE6nS7D14oVK/Dy8sr0MZ1OR+PGjZWMLbKw69F/hF3aAsCc+mOUDVMAdXb1xtbjLdAmMu7MSqXjCPFKlx9epvOmd+nyY1XuBvsDKjyr9GLHx8Fc7bScxk6yApu+WZpaULN6fwB+PrVY4TR5z+izq4mKi8DGuSwtSrdQOo5e9U3eWPbs+fVG7WWMSIyj48YeEP8c+xK+7Gk81Wj3zs22v/0ZxSr5gTaBSb/7cff5XcWyRGsSKL91AMcOfwVAi6ZfENRmAeb5fDhkrp6TJPKW0UfnAjpcy7ajo0slpeMUSN18PgBgz+lfFB1XLoRGqyEgJIB159YREBKARvv/O5ycenyNvlv6UmlRJf44vx7QUaySH5uHnCOk6xpaFyqnXPACYFbNpD1YHl7dRcCT6wqnyTu0Oh3+/34PQIvaQ1Hrea8ppY0r3QqVVSG0Uff57sY+o9230Z7PiA47hcqqEHu6rcVSnevXFDMKtUrFyU7LKedamceR9+i2oRtxiXGvfqKehcdH4fVbZ64GrQCVCf06/sLfvhNQ58ENb3Mqf/0vXCjmQlQ4F4NWADCh/lhlwxRgX1XuAea2JDz6j0Wh/ygdRxRQ/sH+eM33osmvTejl34smvzbBa74XX578ifJbB1Hr+/KsPLMSrU5Lx/IdOTH4NLff+Z3Ort5KRy8QmjiXplDploCO8aeWKh0n1csK69xgwc0DxD24AGbWzKveT+k4emdtYoa3dw8Afj672ij33HxpC0HH5wMwpfOv1DbAiot5mZu5Ldt6bMbR0pFjt48xyMgLOTyKfkS7lc14cGU7mFoxuecWlvsMMGoGJUmRJPTi13+/B00cDkVr84lnQ6XjFFhu5raU8+4JwHenZQEHYXz+wf74bfDjdsTtdMdvR9xm4raP+O/0z6DTUL5Ma/794F/+6PkHtdyqKxO2ABtYM2kBh+NBy4jUKL8YUlaFtX+wv9LRUs058QMAFau+j6elo7JhDOR/VZOG3N2/tJnohGiD3uvm05sM+CNp6Gefev9jWrl2Br1fXlXGuQzruq1DhYpVgUt579QSo9z35tObvL3sbU7eOY6jpRNL+uxlRrn2Rrl3biFFknhjUfFR/JL8x2Np/bEFogs2N/u0RtKQu+sXfudm7FNlw4gCRaPVMGLnCHRkPdRTZWLBon4HudR7B7WL1TZiOpHW1HLtUdsVRRcVTr+DXyjae5NVYX0n4g5+G/xyRaF0IuI2d4I3AzCz9scKpzGcvh71KOlYkqj4SLZe3mqw+8RoEui56V2exj6lTrE6LE1epEBkrnWZ1rRs+gUAa7YP46dbhl3AbNP9c1RfVp/Ljy5T3L44RwYcZlDxega9Z24kRZJ4YyuCVvA45jGlnErRtWJXpeMUeP2L1aGQizckxvDXuXVKxxEFyKHQQxne6L5Ip4mjoi53DaMqiKxNzKhQ/G0ANh2coVjvTXxiPJ/s+CTTwjrl2MidIxUfeve/U0tAp8HBsyHdilRRNIshqVQqeicv4LDagEPumuyfzLHbR7G3cGB9t/WYm5gb7F75xfYG41IXchi6oRuBBlrIYeHNg/gt9+Xp87sUd/HmyMAjVHSpaJB75XYyO068kXithnHH5gIw6q3RBW7jt9xIrVIxqcYHjNo1imWnf+bj2vljs0OR+93J5h/tsOdhBk4iXsU/2J+LFzdmOJ7Se7Ox+8ZMP/SK18RzL+45ofHPCY+P5GHccx7FR/Iw5innuMiqwFDKJUShintOZHwkwfHPCY6PJDb+OXFxz0mIjyQx/jma+Eh0cc8hMealOXXouBVxi1H/fs9n1ftRTIH9WOIS4zh2KmmvmgH5aNnvrPSq2pvPD33O9mu7uBT9kArWhfV6/c+v7uT44a8BGNzxF0rmk72mDC1lIQevB8HEPbhAow1+3Om7H3s9LsH9WfBmZm96FzRx2JdowIGeW/GwctLb9fMaKZLEGxkX7E/kk+uorArR06e/0nFEsveqvsdnez4jMCyQ02Gn8XH3UTqSyOc23j/L4MPfZOtcdzt3A6cRL5MyLJKX9N74beqFtVt1EpOLGtv4SKLjnpOgTTBy2iQLd41k4a6ReDl6Ud2tOh5FqmPrVo12btWp7+Bp0GHem4I3kRAVTiG7onxeobPB7pNbVCxcASv3GsSEBTLtwgbW1x6qt2sHPr/LlM1JG59Xrv0xsyt109u1CwI3c1u29dxCi6W1ibx9lLo7hhPcQT+bzfY++RNrtw8FnRa38p240G0dzmZWerl2XiVFknhtWp2OJcmbx/rW/pjCZtYKJxIpClsXpmWFLvx14TcGn/6Ff92/VzqSyKeCox7Qbf9kggOXgk770nNVqPCw98C3hK+R0onMZHdYZNSd46nfP3vxBFNLVOZ2mJjbYmphh5m5HWCOva0zNSzs8DK3w87cjihzW+5Y2OFoboejuS3OFnY4m9tS2NyOIhZ23L13hh6/dX5lZrVNEbRR9wl5GkLI0xBI3pPvKwALBxzcquNVpBo13KrTwq06HVwqYfsGn7BrtBoOhR4i7HkYXx5Kmi8zvOZgrE3MXvuaeUmLKr3ZGhbI9nNrQE9FUrxWQ1P/3uiiH2DpVp1DLefo5boFTTPnMkzrupapa9txKXAJg4vW5KfkZf1fh1ano9mBGQQcmAZAhRqDON1ukSzFjhRJ4g0svHmQqLsnwNSSxXXy/xCEvKZBjQ/468JvnDi7msctvinwnwgJ/YrUxNP73+/ZemAGxCW9hfao9A6DSzZlyrakN1Vp55moSPqkf17reTIsV2HZHe7Y8a3R+JZtSyELO6qY21HE3BY7CztszG0xe+ENVEJCAtu3b6dt27aYmWW/kNDYF8fD3oM7EXcynZeUUljfGHGDiLgIztw/Q9C9INbdC+Ls/TPEhl+AuGc8u3mAMzcPcAZYDpiqTalYuCLV3apTyK06Hm7V6VikGmWtC70yk3+wPyN2jshQSBazK5btnyuvm1q5J1t3j+X5rSMEPLmul42dWx78nGchAWBuyxa/33A0tXzzoAXUlLJt+Kfp5+zeN5Hl24fRz7UK9V5jYQWNVkPn7R8TkDyctGHDKexvPE0W4EomRZJ4bV8m9yJVqtaPijYuCqcRL/pfyaZMdPRC8zSEicGb+LHqe0pHEvmATqfjyyvbmP73/0h49B8AVm4+fN16Xury/5VsXDO8yfSw92Be63myuEsukN3hjqPKd6CxV2ODZjFRmzC/9Xz8NvihQvXSwtrJyonGXo1p7NWYkcnnRGri2f4gmN33gjh1/ww37gXx7F4QibFPOBd+jnPh5+DsKgDGACb2HhRyq07ZItWo61adtm7VaeRUCtPkjWFTVtrLrGAb9OcgnKycCsRruIZdUZxLNuXx9T18fm4tjRtOeqPrzb2xnwMHpgMwpN1iWsmG0W9sZ4PxdA8LZFPwJrpt6MbJD09S1K5otp8fmxhLr029+OvSZkBFz3aLWFfrI8MFzoOkSBKvZeuDi4Rf2QaomFdvtNJxRCZMVWoaVR/AvoAprAv8WYok8cYuPrjIqF2j+Pva3wCobFzp0/RLllTvh3ma3qGuFbvSqXyn1OFK7nbu+JbwlR6kXMK3hG+2em+MNSyya8WubOy+8bUKa1sTc7q7VaO7W7XUY1qdjjsRtwm6F0TQvSBW3Q/ixr0zJD65hibiNuERtwn/7y8OA3MBW3NbqhapSlXXqqy58NtLl7AfuXMkncp3KhCv5S5VevPL9T0cOrcGre/E1+5dCI8K5yv/3oCOstUHsCh5LybxZtQqFSs6r+DSw0tceHCBBhv8ONMvALtsrBR4M/Yp767ryNHQQ1iYWLC229oCUfznlBRJ4rWMOZI0lrhoxS60KFRW4TQiK19W78dbB6bx7OYBdj+6ki9+V2nnCsibb+O4FvOYz/ZPZcvJH9HoNJibmNOw7kiWN5yIh4V9ps8xUZsYvBdCvJ6c9N4Yiz4La7VKRXGH4hR3KE6H8h2YnHz8dlwEW++fZf+9IM7eO8Pt+0HE3D9HZHwkR24d4cgr9p5JWWnvUOihAvHanlaxK79sG0L8w0usu3ea3u41cnwNrU5Ln819eBAZRgWXShxss8AASQsuW3NbNvfYjPfS2txIXsjhYvvFL33OyYg7NFjTmrjw89hb2LO151YaeTUyUuK8RYokkWN3n9/levL+CdPrj1U4jXiZug7FcSnTmgdXtjPl9DJaNJ+ldKQ3ktlcAQ97D+a3ni+fghlAjCaBPicXsylgKrrYJwB0rtCZOS3mUNq5tMLpxJt4k94bQzF0Ye1hYc/QEg0YWqJB6rEEbSL/PbzMmftnWHduHX9d+euV1ykoS9h7WNhTvHxHbl3YwF9nV79WkTT18DfsurYLK1MrNvptwMXcxgBJC7ayhcoyqds6pq5tR/Cpn+jjXpOVNQdleu72h5fouLoVmmehqG3dWf3eThoVqWrkxHmHFEkixxYcX4BGm8Dbxd/mA4+3lI4jXqG/zwfMvrKdf8+sILrJjDy7OlNWcwVeta+LoeXXnq0vr+5i+q5RxD8MBsDCtTI/tppH/1LNFE4m9EWGRYKZ2hRvV2+8Xb0palc0W0VSQVrCfkGV3nS5sIED59ejafFNjl4bP906wuf7JiZdp81CvF29DRWzwEu7kMOq7R9Tv3BFKugS0/3vevndE3y4th26mMeYFSrHvvd20cDRS+nouZoUSSJHnsc9Z/HJpK7csdKLlCdMKdeeb21c0UTeY8uV7fSq0EnpSDmWsq9LZnMFUo4N2jYUB9cqlLIuTHFLh9SJ2IaUH3u2dj36jz67RifPOSRpD7Smn7OsxgeyJGw+JMMi/19um6uVG7Qt0xpnK2fCIsPYH7Kf5qWaZ+t512Ie8/Gmd0GnwbNKLwb4DDBwUrGzwXiKh53ibrA/Q35tlG5LBnurwkTERYA2HptidTjVaxvl9bxJcH4kf/FEjnwYuJRncc8oW6g8Hcp3UDqOyAYbEzNGVevLnCPfsO70z3mySMrOvi6Po+7T/PuUFZNUmFk6UtzKCWcrZ5wsnbhq5YSVpTMOVk44WTpR2MqZIlZOuFk6UdrKGZ/k47bmtqiyMUE5t/Zsva6nsU/59MAMlv67ELSJoDalRp1P8G80BU9LR6XjCWFwuXGultLMTcx5p9I7/HTqJ745tyZbRZJWp6PBHwPQPAvFzLkMR9otliWljUCtUjGjQlc+CPbPsGddRMxDAOzdfLjSZx+uMuwxW6RIEtkWrUng92PzAHir3v9QG+GTeqEfH/gMZM6Rb9h+ZTt3Iu5QzD5v7feR7TkAJuagiQd0JMQ+4XrsE64/uZ6je5mqTdFZOqG2csLCyhkrSydsrJyws3TG0coJT0snmlo6Mnb32Cx7tlSo8swqWIlaDT8HLmXy/sk8jE76Q+pSti2/tpxLm8LlFU4nhHHlxrlaSqtf9T1+OvUTf1/cxOO2i1655947/y7k3uU/wMScX/02UNTCzkhJCzaNVsO0veNeeo599AMKyf5U2SZFksi2MRc2oIm4hdqmCAuqva90HJED5QuXx7eEL4dCD/FZ0ApWN5yodKQcye4cgP3v7aKGRz1CY5/yOOYxprFPeBLzhAcxj/kz9gmPYh7zNOYJEbFPiIp5TEzsE+JinmAS8xhN7BPiNfEkahMh+gGa6AckAJHAgzT3OASsfkWOlFWwAm4eoFnJpq/3QxvBtzf2MXnnSGLCzwFQoXAFZrf6jg5lWiucTAjlyFyt9HoVr88AB080z24y878/+c67e5bnrrx7Ev+/xwDg1/Jb3nX3MVbMAi87Iy5uR9wuMKsz6oMUSSJbtDody5M3j21a5xPZKTsPqlLjAw6FHuK3oGWs8B1vlDk7+uJbwhd768JEJPd0vCjtXAETtQmVbYuAbZF05/R7xT10Oh0xiTE8innMvzFPuBv7hLsxj7mfXGQ9iX3C05gnmMc+RhN+kbPhZ1+Zu8Xa9jTyqEtN95rUdK+JW9Ga+DqXUbzt9z2+xnu7xxB2aQsA5pZOfNN4GkNqDcEsjy7sIYQ+yVyt/2eqUlOnSi+O/jOL9efWZFkk3Yl9xsCNPUCbgHuFLvxW+2MjJy3YsjvioqCszqgPUiSJbJl9fQ+x98+AmQ2Law9ROo54DdMr+bFoxyckPrnO/JAA/peLezhetOPRf0TER2X6mL7mCqhUKqzNrLE2s6a4vcdLzw0ICaDJr01eeU1dYgwBIQEEhAT8/0ELexzda1DavSb13GvSoWhNmjqXee3cOXE7LoJuB7/g3+PzkoYlqkyoUusjNjWeTlnrQkbJIITIez6r0pvO/8zi3pXtXI1+RJkX/r3Q6XSM/utDEp9cx9TBk8Mdf5F5SEaW3REXBWl1xjclRZLIlm+Se5Gq+QyktJWzwmnE6yhsZk2lKr25ePJHFgb+nGeKpGsxj+m6viMkxmBVuCLOcRHceX4n9XEl5gpkZxWsYvbFWNNzK9fuBXHy7kkOhZ3i3P0zEBfB05AAToUEcAr4HsDCHi83H6pFOxJxIYI6xetS+jV6nLJajlyj1TA4aAXL901EG3UfAOdSLVjW6js6ybK8QohX6OTqjZVbdWLuBTH14u+sqfVRuseXBi5lw4UNmKpN2ee3npJWTgolLbhkdUb9kyJJvNJv94J4fH03qEz4vt4opeOINzDeZyDvn/yRm8GbuBL9KNf3HsRoE6mzsQcJj69i4uDJqX4HKGflrPhcgeysgjW/9XwauvvQ0N2H/j79gaTFT7Y9DGb73ZOcvHuKG2GniEounEJuHiAE+OOPP5Iu9EKPU/uiNWn2ksIpq+XIB9ccjH+wP6fvnQbAzLksn7X8lunl2ssnvUKIbGtapTfb7gXx17k1kKZI2n7/HCN2jgBgVrNZ+Mr+iYqQ1Rn1T4ok8UprjswBwNP7Hdl4LI/r5V6DD5M/DRx3bg2b6g5XOtJLvbVrNI+v7wEzG9a/u5WKNi4AuWKuwOusgmVtYsY7RaryTpGqkLxvSErhFHLrOPuPb+aR+SNOh58lIYseJ0f3GjR3r0lX95rULFqTMs5l2HJpS6bLkd+OuM3k/ZMBsLewp1nDKays+wm2JuaGahYhRD41rfK7bNv9KRGh/7Dk/HrsdDosLB3puWsUCYmxNCzbltH1Risds0CT1Rn1S4ok8VKhz0LZfn49ABtl89g8T61S0d7nA37fMYxtgT+jrfNJru1NWHJqKWf/XQjAp11W4VekqsKJMtLHKlgphVOCc0XK3XGlbdu2JKhh24OLbA87laHH6WlIABtDAtiY/HwrcztiNfGZDq9IYWNmw6WPL8lYdCHEa6tlXwxPV29uhp9n8KZ30z2msnTip86/ytYguYCszqg/UiQZiUar4cDNAxx8chCbmzY0KdUkT7xg5x2bh0anoWnJptRyr6F0HKEHX1fpxe+7xxAXfo7dd0/SqlhtpSNlcCDkAB9vHwrA6Caf83XFLgonypohVsGyNjHjHbdqvONWLX2PU3LhpL57igthpzhz/wwx8c9feb2ohCguP7osRZIQ4rX5B/tzM/x8po/pYp9w8eZBKkhPRa4gqzPqh5T8RuAf7I/XfC9arGnB3JtzabGmBV7zvfAP9lc62kvdjH3K94FLARgrvUj5RkkrJzpU8gPAP/BnhdNkdPjJDbpu6EaiNpGelXsyx3eC0pFyhZTCabnPAH5p9wPHPjhGxLgI/tdsVraeL8u+CiFel0arSZ13lJmUDbQ1Wo0RUwlhWFIkGZh/sD9+G/wybPB1J+IOfhv8cnWhNPjkYhLiI7F0rULL0q2UjiP0aLTPQADWnl9LZHykwmn+39245zRb35HHMY+o7F6TXzr+giqXDgfMDcxMzGifzUnS0oskhHhdr9qoNGUD7UOhh4yYSgjDkiLJgFI+eclsrkDKsdz6yUtEYhy7j88H4P36Y3LtvBXxehp5NqKMcxki4yNZdOF3peMAkKjTUnPz+8SFn0dt68aynn9gbWatdKxcL2XZ15TVi16kQkVx++Ky7KsQ4rXJRqWiIJIiyYDy8icvI86tQRt5D7VdMeZW7ql0HKFnKpWKRsm9SZ+fzh1D7hrtm8y9y3+AiQVLemyhtn0xpSPlCSnLvgIZCiVZ9lUIoQ+yUakoiKRIMqC8+slLok7L2uRlv9vUHSHLBedTw6r1BZUJz28d4a8HwYpm+eTcOo788yUAH3X8mYEedRXNk9ekLPta7IXC0sPeg43dN8qyr0KINyI91qIgkiLJgLL7icqXV7ZzI+aJgdNk38wrO4h/GAzmdvxY80Ol4wgDqW7njlu59gBMO/2LYjl+vXOC77cmreBWp/6n/Fj1PcWy5GVdK3YlZEQI+/vuZ23Xtezvu58bI25IgSSEeGPSYy0KIimSDOhVn7ykOH9uNaXml+SDAzN4FvvMSOmyNv/INwDUrjmY4pYOCqcRhjSoxgcABJ75lUhNvNHvf+f5XQb91hkSY3Et245Dzb40eob8JGXZ13ervEtjr8byhkUIoTfSYy0KGimSDOhVn7yoUNG5/qdYuFaGuGf8EjCVkvNLMuvQLMVWHDt25wTPbh4AtSk/vJX1cp8if5hQpjVqW3d00Q+ZenmrUe8dkxBD19+6kPD8Lg4ulTjVbS3m8qZeCCFyLemxFgWJFEkG9qpPXja3+JrIj87wXbf1VChcgSexT5iwbwLO80vR4ci3PEyINmreucm9SO9V6UVtew+j3lsYn6XalLeq9wfgVyPumaTT6Rj05yD+vfMvzlbOBL77Jx4W9ka7vxBCiNcjPdaioJAiyQhSPnnZ3Xs3oz1Hs7v37nSfvJiq1Iys3IPzQ86zqssq3J3LkBD9gL92j6HIgtJ0O76Ap4mxBs95/cl1NgVvAuDTemMMfj+RO8z0SZoP9Oja35x4etMo92x/+GvWnFuDqdqUje9spJRTKaPcVwghhBAiO6RIMhITtQmNPBvR0KkhjTwbZfrJi4nahPeqvsf1j4Pp1/EXTBw80Ubew3/nCAovLEuvk4sNOm+k/9G5aHVaWpdpTZUiVQx2H5G7NHUuTfmSTQEd24NWGPx+ky//yfa9EwAY3XoBTUo2Mfg9hRBCCCFyQoqkXMhSbcpynwE8/eQ/erX7ERO7YmgibrNu2xAcF5ZjTuAvJGgS9HrPy9EPOXh6GQBt6o/V67VF7jfVJ2kBh2VBywy6ufHm8PN87t8L0OFdawhf1x5isHsJIYQQQrwuKZJyMVsTc9bU+oiHw6/SrfUC1LZuaJ7dZOyfH1Dxh4qsOrNKb29oh5xYBIkxWLnXYJiXfLJf0HSp2AUnSydCn4Wy+/oeg9zjcvRDuq/rCPGROHo14d/kRU2EEEIIIXIbKZLyAEdTSzbW/YT7w68xrsUcClsX5tqTa/TZ0ge7Hysz4vxvJOq0r339xwkxBPz7PQAD649FrXr5kuUi/7E0taRN8v5EH57W/wIOUZoE6v7+DolPb2DqVIp/3/kdaxMzvd9HCCGEEEIfpEjKQwqbWTOr/v+4MeIGs5rNwsrSiZiHl1iwqSe2i6vxabA/Wp0ux9cdduZXdNEPMHH04ptKfgZILvKCLsl7Jt269AcXosL1dl0dUGfHcJ6FBIC5HRt7bqWsdSG9XV8IIYQQQt+kSMqDbM1tGddgHP+NDKFJ4+lgYU9c+Hm+2dAN2yU1mfLfX9kuluK1GjYe/RaAjm+NwlJtasjoIhfzK1IVm6K1QZvAuDOr9HbdRScWcfHUYkDF5G5r6eTqrbdrCyGEEEIYghRJeZiHhT37Gk3h+ogQ3vadCOa2xNw7zcx1HXD45S3+uroL3SuKpUmX/yDh8VVUlk4sSl4KWhRcnZN7k/4+/ctr9Uq+aN+NfYzYMRyA/zX/ihnl2r/xNYUQQgghDE2KpHygpJUT/zT9nEsjblCn/qdgakXknX/psKY1vst92X9jf7rzNVoNASEBrD23lvX7JgFQr/ZQ3MxtlYgvcpGvKvcEM2viHwaz9PbRN7rWP4+v4rfBD41Ow/tV3+cbWTVRCCGEEHmEFEn5SHnrwhxv8TXnRtzgg7ojsTCx4PCtwzRd2RTnX5uyKPQf/IP98ZrvRZNfm9Dbvze3HgYD0Ec28xQk9U6W8e4OwLeBr7+AQ2jsM5qt68iT2CfUKFaXJR2WoJIFQYQQQgiRR0iRlA9Vti3C0tbfcW34NT6u/TFqtRlPQvbz8XJfum3oxu2I2xmeM2TrB/gH+yuQVuQ2o5P3TLpy4Tdux0Xk+PnxWg21/HsR/zAYtV0xfumxGUtTS33HFEIIIYQwGCmS8rFi9sX4vu33/DP8KuV9Br7y/JE7Rxp0I1GRNwwuXh/bwhUgIRr/8+tz/PwGe8fz4Mp2MLVkec8tVLdzN0BKIYQQQgjDkSKpAKjnUILFyXvgZEWHjlsRtzgUeshIqURupVapmJbcm7Q6h0PuPjyzkhNHvgFgeKcV9ClaS+/5hBBCCCEMTYqkAiLseZhezxP52/vV3sdMbcaJuyc4e/9stp6z9PYxlv45CIC3fScyv3IPQ0YUQgghhDAYKZIKCPdsDnnK7nkif3O1caVt+Y4ADA/85ZXnh0bcZsj6zqCJx71CZwKazDBwQiGEEEIIw5EiqYDwLeGLh70HKjJfYUyFiuL2xfEt4WvkZCK3qp28Z9LBs6t4mhib5XnRCdF0Wd8JTdR9HFyrENhlFaYq+adFCCGEEHmXvJMpIEzUJsxvPR8gQ6GU8v281vMwUZsYPZvIncaWaoGJfXF0sU+YHLw503N0Oh39/+hPYFggha0LE/TuVtlvSwghhBB5nhRJBUjXil3Z2H0jxeyLpTvuYe/Bxu4b6Vqxq0LJRG5krjahgc8AANacznwBh9YHP2fDhQ2Yqc3w7+6Pl6OXERMKIYQQQhiGqdIBhHF1rdiVTuU7cSj0EGHPw3C3c8e3hK/0IIlMfVG9Pw0OzODJjX0ceHI93WNjg/35O2AKABPbLcLXU4ZqCiGEECJ/kCKpADJRm9DYq7HSMUQe8LajJ4VKt+TRtV2MPDSDVs/dsLlpwwNrZ+Zsfh+AanWGMzV5/pIQQgghRH4gRZIQ4qXqu1bmz2u7uHB+LReAuTfngsoEdBqcS7XgWKtvlY4ohBBCCKFXMidJCJEl/2B//jo6N+MDOg0An1d9D0u1fNYihBBCiPxF0SLp4MGDdOjQgaJFi6JSqdiyZUu6x3U6HVOmTMHd3R0rKyuaN2/OlStXlAkrRAGj0WoYsXMEOnRZnKFi1r5JaLQao+YSQgghhDA0RYukqKgoqlWrxg8//JDp47Nnz2bBggUsXryY48ePY2NjQ6tWrYiNzXrPFiGEfhwKPcTtiNsvOUPHrYhbHAo9ZLRMQgghhBDGoOg4mTZt2tCmTZtMH9PpdMybN49JkybRqVMnAFauXEmRIkXYsmULPXv2NGZUIQqcsOdhej1PCCGEECKvyLWTCW7cuMG9e/do3rx56jEHBwfq1q3L0aNHsyyS4uLiiIuLS/0+IiICgISEBBISEgwb+hVS7q90jvxK2le/XKxcsn2etPmbk9evYUn7Gpa0r+FJGxuWtK9h5ab2zW6GXFsk3bt3D4AiRYqkO16kSJHUxzIza9Yspk+fnuH433//jbW1tX5Dvqbdu3crHSFfk/bVD41OQyGzQjxKeJTlOYXNChNxPoLtF7YbMVn+Jq9fw5L2NSxpX8OTNjYsaV/Dyg3tGx0dna3zcm2R9LrGjx/P6NGjU7+PiIigePHitGzZEnt7ewWTJVWuu3fvpkWLFpiZmSmaJT+S9tW/RaUX0dM/qdc27QIOKlQA/NDhBzpU6KBItvxGXr+GJe1rWNK+hidtbFjSvoaVm9o3ZZTZq+TaIsnNzQ2A+/fv4+7unnr8/v37VK9ePcvnWVhYYGFhkeG4mZmZ4r+UFLkpS34k7as/3at0x9TUlBE7R6RbxMHD3oN5refRtWJXBdPlT/L6NSxpX8OS9jU8aWPDkvY1rNzQvtm9f64tkkqWLImbmxt79+5NLYoiIiI4fvw4Q4YMUTacEAVI14pd6VS+E/uv72fHPzto06ANTUo1wURtonQ0IYQQQgiDULRIioyM5OrVq6nf37hxg6CgIJydnSlRogQjR47k888/p2zZspQsWZLJkydTtGhROnfurFxoIQogE7UJjTwbEXUhikaejaRAEkIIIUS+pmiRdPLkSZo0aZL6fcpcor59+7JixQo+/fRToqKi+PDDD3n69CkNGjRg586dWFpaKhVZCCGEEEIIkc8pWiQ1btwYnU6X5eMqlYoZM2YwY8YMI6YSQgghhMgdtFot8fHxJCQkYGpqSmxsLBqNRulY+Y60r2EZs33NzMwwMXnzES+5dk6SEEIIIURBFh8fz40bN9Bqteh0Otzc3Lh16xYqlUrpaPmOtK9hGbt9HR0dcXNze6N7SZEkhBBCCJHL6HQ6wsLCMDExoXjx4kDSXG5bW1vUarXC6fIfrVYr7WtAxmpfnU5HdHQ04eHhAOlWyM4pKZKEEEIIIXKZxMREoqOjKVq0KNbW1qnD7iwtLeVNvAFI+xqWMdvXysoKgPDwcFxdXV976J28CoQQQgghcpmUeRvm5uYKJxEi77G2tgaS5kK9LimShBBCCCFyKZkfI0TO6eN/N1IkCSGEEEIIIUQaUiQJIYQQQohcIyAgAJVKxdOnT5WOIgowKZKEEEIIIYRePHjwgCFDhlCiRAksLCxwc3OjVatWHD58WOloRim+pMDLP2R1OyGEEEIIoRfdunUjPj6eX3/9lVKlSnH//n327t3Lo0ePlI4mRI5IT5IQQgghRB4RFZX1V2xs9s+NicneuTnx9OlTDh06xNdff02TJk3w9PSkTp06jB8/no4dOwIQEhKCSqUiKCgo3fNUKhUBAQHprnfq1Clq1aqFtbU19evX5/Lly6mP9evXj86dO6c7f+TIkTRu3DhnodMIDAykZcuWFC5cGAcHBxo1akRgYGDq46/KHhISQpMmTQBwcnJCpVLRr1+/184jlCVFkhBCCCFEHmFvr8bWlky/unVLf66ra+bn2dpCmzbpz/Xyyvy8nLC1tcXW1pYtW7YQFxf3Rj8nwMSJE/n22285efIkpqamDBgw4I2v+TKRkZH06dOHf/75h2PHjlG2bFnatm3L8+fPs/X84sWLs2nTJgAuX75MWFgY8+fPN2RkYUAy3E4IIYQQQrwxU1NTVqxYwaBBg1i8eDE1atSgUaNG9OzZk6pVq+b4el988QWNGjUCYNy4cbRr147Y2FgsLS31HR2Ahg0bYm9vn7rZ6ZIlS3B0dOTAgQO0b9/+lc83MTHB2dkZAFdXVxwdHQ2SUxiH9CQJIYQQQuQRERFaIiPJ9Cu5EyNVeHjm50VGwo4d6c8NCcn8vJzq1q0bd+/eZevWrbRu3ZqAgABq1KjBihUrcnyttIWVu7t78s8UnvNQ2RQeHs6HH35I2bJlcXBwwN7ensjISEJDQw12T5F7SU+SEEIIIUQeYWMD6mx+xG1jk7Pr6oulpSUtWrSgRYsWTJ48mQ8++ICpU6fSr1+/1F4anU6Xen5CQkKm1zEzM0v975TNQbVaLQBqtTrdNV52newaOnQoz549Y/78+Xh6emJhYUG9evWIj49PvWd2s4u8T3qShBBCCCGEwVSqVImo5FUgXFxcAAgLC0t9PO1CCNnl4uKS7hqve520jh8/zrBhw2jbti3e3t5YWFjw8OHDdPeEl2c3NzcHQKPRvFEWoTzpSRJCCCGEEG/s0aNHvPPOOwwYMICqVatiZ2fHyZMnmT17Np06dQLAysqKt956i6+++oqSJUsSHh7OpEmTcnyvpk2b8s0337By5Urq1avH6tWrOX/+PD4+Pq987rlz57Czs0v9XqVSUaVKFUqVKsXq1aupU6cOERERjB07Fisrq9TzspPd09MTlUrFX3/9Rdu2bbGyssI2pytgiFxBepKEEEIIIcQbs7W1pW7dunz33Xc0bNiQypUrM3nyZAYNGsT333+fet6yZctITEykZs2ajBw5ks8//zzH92rVqhWTJ0/m008/pXbt2jx//pw+ffpk67kNGzbEx8cn9atmzZoALFy4kKdPn1KjRg3ef/99hg8fjqura7rnvip7sWLFmD59OuPGjaNIkSIMGzYsxz+byB2kJ0kIIYQQQrwxCwsLZs2axaxZs156XsWKFTly5Ei6Y2nn+TRu3DjDfKPq1atnODZ9+nSmT5+e7XyZXTeFVqulatWqHD9+PHXuEYCfn1+OsgNMnjyZyZMnZzuXyJ2kJ0kIIYQQQggh0pAiSQghhBBCCCHSkCJJCCGEEEIIIdKQIkkIIYQQQggh0pAiSQghhBBCCCHSkCJJCCGEEEIIIdKQIkkIIYQQQggh0pAiSQghhBBCCCHSkCJJCCGEEEIIIdKQIkkIIYQQQggh0pAiSQghhBBC6EW/fv3o3Lmz0jH0zsvLC5VKleHrq6++UjqaMBBTpQMIIYQQQgiR282YMYNBgwalO2ZnZ6dQGmFo0pMkhBBCCJFHRL3kKzYH58Zk81x9WrFiBY6OjumObdmyBZVKlfr9tWvX6NSpE0WKFMHW1pbatWuzZ8+edM9ZtGgRZcuWxdLSkiJFiuDn55f62M6dO2nQoAGOjo4UKlSI9u3bc+3atdTHQ0JCUKlU+Pv706RJE6ytralWrRpHjx59ZX47Ozvc3NzSfdnY2ADw5MkTevfujYuLC1ZWVpQtW5bly5e/TjOJXEKKJCGEEEKIPMJercYWMv3q9sK5rlmcZwu0eeFcryzOM7bIyEjatm3L3r17OX36NK1bt6ZDhw6EhoYCcPLkSYYPH86MGTO4fPkyO3fupGHDhqnPj4qKYvTo0Zw8eZK9e/eiVqvp0qULWq023X0mTpzImDFjCAoKoly5cvTu3ZvExMTXzj158mQuXrzIjh07CA4O5scff6Rw4cKvfT2hPBluJ4QQQgghcoVq1apRrVq11O9nzpzJ5s2b2bp1K8OGDSM0NBQbGxvat2+PnZ0dnp6e+Pj4pJ7frVv6UnHZsmW4uLhw8eJFKleunHp8zJgxtGvXDoDp06fj7e3N9evXcXZ2zjLbZ599xqRJk9Id27FjB76+voSGhuLj40OtWrWApDlMIm/LdpG0detW2rRpg5mZGVu3bn3puR07dnzjYEIIIYQQIr0IrRa1OvOBQCYvfB/+kuu8eIWQN8ikT5GRkUybNo1t27YRFhZGYmIiMTExqT1JLVq0wNPTk1KlStG6dWtat25Nly5dsLa2BuDKlStMmTKF48eP8/Dhw9QepNDQ0HRFUtWqVVP/293dHYAHDx68NNvYsWPp169fumPFihUDYMiQIXTr1o3AwEBatmxJ586dqV+//ps1hlBUtoukzp07c+/ePVxdXV+6aolKpUKj0egjmxBCCCGESMOG7M+VsMnhdQ1NrVaj0+nSHUtISEj3/ZgxY9i9ezdz5syhTJkyWFlZ4efnR3x8PJA0LygwMJCAgAD+/vtvpkyZwrRp0zhx4gSOjo506NABT09Pli5dStGiRdFqtVSuXDn1+SnMzMxS/ztlTtSL2V5UuHBhypQpk+ljbdq04ebNm2zfvp3du3fTrFkzPv74Y+bMmZO9xhG5TrbnJGm1WlxdXVP/O6svKZCEEEIIIcSLXFxceP78OVFR/78kRFBQULpzDh8+TL9+/ejSpQtVqlTBzc2NkJCQdOeYmprSvHlzZs+ezdmzZwkJCWHfvn08evSIy5cvM2nSJJo1a0bFihV58uSJEX6yJC4uLvTt25fVq1czb948lixZYrR7C/2TOUlCCCGEEEJvnj17lqH4KVSoEHXr1sXa2poJEyYwfPhwjh8/zooVK9KdV7ZsWfz9/enQoQMqlYrJkyenW3Thr7/+4vr16zRs2BAnJye2b9+OVqulfPnyODk5UahQIZYsWYK7uzuhoaGMGzdObz/X8+fPuXfvXrpj1tbW2NvbM2XKFGrWrIm3tzdxcXH89ddfVKxYUW/3Fsb32kVSVFQUBw4cIDQ0NEMX5vDhw984mBBCCCGEyHsCAgLSLaYAMHDgQH7++WdWr17N2LFjWbp0Kc2aNWPatGl8+OGHqefNnTuXAQMGUL9+fQoXLsxnn31GRERE6uOOjo74+/szbdo0YmNjKVu2LOvWrcPb2xuA9evXM3z4cCpXrkz58uVZsGABjRs31svPNWXKFKZMmZLu2ODBg1m8eDHm5uaMHz+ekJAQrKys8PX1Zf369Xq5r1DGaxVJp0+fpm3btkRHRxMVFYWzszMPHz7E2toaV1dXKZKEEEIIIQqgFStWZOgdSqtz584Z5ran3aDVy8uLffv2pXv8448/Tv3vBg0aEBAQkOX1mzdvzsWLF9MdSzvXyMvLK8PcI0dHRzQaTbpi7EUvDvl70aRJkzKsfCfyttfaJ2nUqFF06NCBJ0+eYGVlxbFjx7h58yY1a9aUCWpCCCGEEEKIPO21iqSgoCD+97//oVarMTExIS4ujuLFizN79mwmTJig74xCCCGEEEIIYTSvVSSZmZmlrtHv6uqauna9g4MDt27d0l86IYQQQgghhDCy15qT5OPjw4kTJyhbtiyNGjViypQpPHz4kFWrVqXbqEsIIYQQQggh8prX6kn68ssvU3cn/uKLL3BycmLIkCE8ePBA1oQXQgghhBBC5Gmv1ZNUq1at1P92dXVl586degskhBBCCCGEEEp6rZ4kIYQQQgghhMivst2T5OPjg0qlyta5gYGBrx1ICCGEEEIIIZSU7SLpxY2/hBBCCCGEECI/ynaRNHXqVEPmEEIIIYQQ+qbRwKFDEBYG7u7g6wsmJkqneqmAgACaNGnCkydPcHR0VDqO4vr168fTp0/ZsmWL0lGy5cW8jRs3plq1akyfPl3ZYDkkc5KEEEIIIfIjf3/w8oImTaBXr6T/7+WVdNxAHjx4wJAhQyhRogQWFha4ubnRqlUrDh8+bLB7ZldAQAAqlYqnT58qfo+U81QqFWq1GgcHB3x8fPj0008JCwtLd+78+fNZsWKFwTLrW17Lm5Vs9yQ5Ozvz33//UbhwYZycnF46P+nx48d6CSeEEEIIIV6Dvz/4+YFOl/74nTtJxzduhK5d9X7bbt26ER8fz6+//kqpUqW4f/8+e/fu5dGjR3q/V35w+fJl7O3tiYiIIDAwkNmzZ/PLL78QEBBAlSpVAHBwcFA4Zc7ktbxZyXZP0nfffYednV3qf7/sSwghhBBC6JFOB1FR2fuKiIDhwzMWSCnXARgxIum87Fwvs+tk4unTpxw6dIivv/6aJk2a4OnpSZ06dRg/fjwdO3YEICQkBJVKRVBQULrnqVQqAgIC0l3v1KlT1KpVC2tra+rXr8/ly5dTH+vXr1+G+fIjR46kcePG2cqamcDAQFq2bEnhwoVxcHCgUaNG6RYje1X2kJAQmjRpApDaodCvX7+X3tPV1RU3NzfKlStHz549OXz4MC4uLgwZMiTLn3Xjxo1UqVIFKysrChUqRPPmzYmKikp9/Oeff6ZixYpYWlpSoUIFFi1alPpYfHw8w4YNw93dHUtLSzw9PZk1a1a2fj4AjUbDwIEDKVmyJFZWVpQvX5758+en+5ky+92ktW3bNhwcHFizZg0Aq1atolatWtjZ2eHm5kavXr0IDw9PPT+l123v3r1Zvh4MIds9SX379k3971f9woUQQgghhB5FR+Po4aGfa+l0cPs2ZPcT/8hIsLF55Wm2trbY2tqyZcsW3nrrLSwsLN4o5sSJE/n2229xcXHho48+YsCAAQYdthcZGUmfPn34/vvv0el0fPvtt7Rt25YrV66kdhS8TPHixdm0aRPdunVL7SGysrLKUQYrKys++ugjRo0aRXh4OK6urukeDwsL491332X27Nl06dKF58+fc+jQIXTJheyaNWuYMmUK33//PT4+Ppw+fZpBgwZhY2ND3759WbBgAVu3bmXDhg2UKFGCW7ducevWrWzn02q1eHh48Pvvv1OoUCGOHDnChx9+iLu7O927d3/l89euXcvQoUNZu3Yt7du3ByAhIYGZM2dSvnx5wsPDGT16NP369WP79u3pnmvs10OONpNVq9WvXAZcpVKRmJj4RqGEEEIIIUTeYmpqyooVKxg0aBCLFy+mRo0aNGrUiJ49e1K1atUcX++LL76gUaNGAIwbN4527doRGxuLpaWlvqMD0LBhQ+zt7VGrkwZaLVmyBEdHRw4cOJD6hv5lTExMcHZ2BpJ6iF530YkKFSoAST07mRVJiYmJdO3aFU9PT4DUYXmQtNDat99+S9fkoZQlS5bk4sWL/PTTT/Tt25fQ0FDKli1LgwYNUKlUqdfILjMzs3QLMJQsWZKjR4+yYcOGVxZJS5cu5YsvvuDPP/9M/b0CDBgwIPW/S5UqxYIFC6hduzaRkZHY2tqmPmbs10OOiqTNmzdn+djRo0dZsGABWq32jUMJIYQQQog0rK15evt2ujfxWTp4ENq2ffU1t2+Hhg2zde/s6tatG+3atePQoUMcO3aMHTt2MHv2bH7++eccj0RKW1i5u7sDEB4eTokSJXJ0newKDw9nzJgxHDhwgPDwcDQaDdHR0YSGhhrkfllJ6RXKrGOiWrVqNGvWjCpVqtCqVStatmyJn58fTk5OREVFce3aNQYOHMigQYNSn5OYmJg6T6hfv360aNGC8uXL07p1a9q3b0/Lli1zlO+HH35g2bJlhIaGEhMTQ3x8PNWrV3/pczZt2kR4eDiHDh2ibt266R47deoU06ZN48yZMzx58iS1lggNDaVSpUqp5xn79ZCj1e06deqU4atChQqsWLGCOXPm8M477+h1fKBGo2Hy5Mmp4x5Lly7NzJkzU188QgghhBAFgkqVNOQtO18tW4KHR9JzsrpW8eJJ52Xneq8YRfQiS0tLWrRoweTJkzly5Aj9+vVL3UompcBL+14uISEh0+uYmZmliZyUIeUNtFqtzvB+MKvrZNfQoUM5c+YM8+fP58iRIwQFBVGoUCHi4+NznP1NBAcHA+Dl5ZXhMRMTE3bv3s2OHTuoVKkSCxcupHz58ty4cYPIyEggqccmKCgo9ev8+fMcO3YMgBo1anDjxg1mzpxJTEwM3bt3x8/PL9s/3/r16xkzZgwDBw7k77//JigoiP79+6e2UVaqV69O4cKFWb58ebrrR0VF0apVK+zt7VmzZg0nTpxI7ZR58Zovez0YwmsvAX737l0GDRpElSpVSExMJCgoiF9//TXH3XYv8/XXX/Pjjz/y/fffExwczNdff83s2bNZuHCh3u4hhBBCCJGvmJhAymT6FwuclO/nzTPafkmVKlVKXVjAxcUFIN0y12kXCsguFxeXDEtlv8510jp+/DjDhg2jbdu2eHt7Y2FhwcOHD9PdE16e3dzcHEj6oP91xMTEsGTJEho2bJh6vxepVCrefvttpk+fzunTpzE3N2fz5s0UKVKEokWLcv36dcqUKZPuq2TJkqnPt7e3p0ePHixdupTffvuNTZs28fjx42z9fIcPH6Z+/foMHToUHx8fypQpw7Vr1175c5UuXZqtW7eydetWPvnkk9Tjly5d4tGjR3z11Vf4+vpSoUKFdIs2KClHw+0Anj17xpdffsnChQupXr06e/fuxdfX1xDZOHLkCJ06daJdu3ZAUkW9bt06/v33X4PcTwghhBAiX+jaNWmZ7xEjkhZpSOHhkVQgGWD570ePHvHOO+8wYMAAqlatip2dHSdPnmT27Nl06tQJSFqY4K233uKrr76iZMmShIeHM2nSpBzfq2nTpnzzzTesXLmSevXqsXr1as6fP4+Pj88rn3vu3Ll0CzGoVCqqVKlCqVKlWL16NXXq1CEiIoKxY8emW3ghO9k9PT1RqVT89ddftG3bFisrq3Tzal4UHh5ObGwsz58/59SpU8yePZuHDx/in8VeVsePH2fv3r20bNkSV1dXjh8/zoMHD6hYsSIA06dPZ/jw4Tg4ONC6dWvi4uI4efIkT548YfTo0cydOxd3d3d8fHxQq9X8/vvvuLm54ejoiFqtfuXPV7ZsWVauXMmuXbsoWbIkq1at4sSJE+mKsKyUKVOGvXv30rRpU0xNTZk3bx4lSpTA3NychQsX8tFHH3H+/Hlmzpz5ymsZQ46KpNmzZ/P111/j5ubGunXrUl/whlK/fn2WLFnCf//9R7ly5Thz5gz//PMPc+fOzfI5cXFxxMXFpX4fEREBJHUXGqJLNCdS7q90jvxK2tewpH0NS9rXsKR9DUvaV/8SEhLQ6XRotVq0Wm3qEKWUY9nSuTN06ACHDkFYGLi7g69vUg+SAYYpWVtbU6dOHb777juuXbtGQkICxYsX54MPPmD8+PGpuX/++WcGDRpEzZo1KV++PF999RWtW7dO/VlTznvxv9Mea9GiBZMmTeLTTz8lNjaW/v378/7773P+/Pks2yfleMMX5mGZmJgQFxfHwoUL+d///keNGjUoXrw4n3/+OZ9++mm6Nn9Vdnd3d6ZNm8a4ceNSMy1fvjzLLOXLl0elUmFra0upUqVo0aIFo0aNws3NLfUcnU6XmsHW1pYDBw4wb948IiIi8PT0ZM6cObRq1QqtVsuAAQOwtLTk22+/ZezYsdjY2FClShWGDx+OVqvFxsaG2bNnc+XKFUxMTKhduzZ//fVXaqZX/XyDBg0iMDCQHj16oFKp6NmzJ0OGDGHnzp2Z5n1RuXLl2LNnD02bNkWtVjNnzhyWLVvGpEmTWLBgATVq1GD27Nl07tw5R6+HzNpXp9ORkJCAyQs9ptn9d0qly8EEH7VajZWVFc2bN89ww7Syqn5zSqvVMmHCBGbPno2JiQkajYYvvviC8ePHZ/mcadOmpVt1I8XatWuxzsHEQyGEEEIIpZiamuLm5kbx4sVTh3AJIbInPj6eW7duce/evQyrbkdHR9OrVy+ePXuGvb19ltfIUU9Snz59XrkEuD5t2LCBNWvWsHbtWry9vQkKCmLkyJEULVo03b5NaY0fP57Ro0enfh8REUHx4sVp2bLlSxvCGBISEti9ezctWrRIN/lM6Ie0r2FJ+xqWtK9hSfsalrSv/sXGxnLr1i1sbW2xtLREp9Px/Plz7OzsjPperKCQ9jUsY7dvbGwsVlZWNGzYMMMS4SmjzF4lR0XSihUrcnL6Gxs7dizjxo2jZ8+eQNI68Ddv3mTWrFlZFkkWFhaZbl5mZmaWa/7hzk1Z8iNpX8OS9jUsaV/DkvY1LGlf/dFoNKhUKtRqNWq1OnVIUcoxoV/SvoZl7PZN2ds1s3+TsvtvVK5+FURHR2doSBMTE9mLSQghhBBCCGEwOV7dzpg6dOjAF198QYkSJfD29ub06dPMnTs33c68QgghhBBCCKFPubpIWrhwIZMnT2bo0KGEh4dTtGhRBg8ezJQpU5SOJoQQQgghhMincnWRZGdnx7x585g3b57SUYQQQgghhBAFRK6ekySEEEIIIYQQxiZFkhBCCCGEEEKkIUWSEEIIIYQQQqQhRZIQQgghRD6l0WoICAlg3bl1BIQEoNFqlI4kckilUrFlyxalY2Rb2rwhISGoVCqCgoIUzfQ6pEgSQgghhMiH/IP98ZrvRZNfm9DLvxdNfm2C13wv/IP9DXbPfv360blzZ4NdXyleXl6oVKoMX1999dVrXa9fv36p1zAzM6NIkSK0aNGCZcuWZdgPNCwsjDZt2ujjxzCKvJY3K1IkCSGEEELkM/7B/vht8ON2xO10x+9E3MFvg59BC6X8asaMGYSFhaX7+uSTT177eq1btyYsLIyQkBB27NhBkyZNGDFiBO3btycxMTH1PDc3NywsLPTxIxhFXsubFSmShBBCCCFyOZ1OR1RCFFHxr/6KiI1g+I7h6NBlvE7ysRE7RhARG5Gt6+l0Ga/zOlasWIGjo2O6Y1u2bEGlUqV+f+3aNTp16kSRIkWwtbWldu3a7NmzJ91zFi1aRNmyZbG0tKRIkSL4+fmlPrZz504aNGiAo6MjhQoVon379ly7di318ZThX/7+/jRp0gRra2uqVavG0aNHX5nfzs4ONze3dF82NjYAPHnyhN69e+Pi4oKVlRVly5Zl+fLlL72ehYUFbm5uFCtWjBo1ajBhwgT++OMPduzYwYoVK1LPSzt8LT4+nmHDhuHu7o6lpSWenp7MmjUr9dynT5/ywQcf4OLigr29PU2bNuXMmTOpj585c4YmTZpgZ2eHvb09NWvW5OTJkwBMmzaN6tWrp8s4b948vLy8Ur8/ceIELVq0oHDhwjg4ONCoUSMCAwPTPedlwwM1Gg0DBgygQoUKhIaGotFoGDhwICVLlsTKyory5cszf/78dM9J6Z2cM2cO7u7uFCpUiI8//piEhISXtu+bytX7JAkhhBBCCIhOiMZjkYderqVDx+3nt3H42iFb50eOj8TG3EYv937lvSIjadu2LV988QUWFhasXLmSDh06cPnyZUqUKMHJkycZPnw4q1aton79+jx+/JhDhw6lPj8qKorRo0dTtWpVIiMjmTJlCl26dCEoKAi1+v/7BiZOnMicOXMoW7YsEydOpHfv3qnFwuuYPHkyFy9eZMeOHRQuXJirV68SExOT4+s0bdqUatWq4e/vzwcffJDh8QULFrB161Y2bNhAiRIluHXrFrdu3Up9/J133sHKyoodO3bg4ODATz/9RLNmzfjvv/9wdnamd+/e+Pj48OOPP2JiYkJQUBBmZmbZzvf8+XP69u3LwoUL0el0fPvtt7Rt25YrV65gZ2f30ufGxcXRv39/bt68yaFDh3BxcSEhIQEPDw9+//13ChUqxJEjR/jwww9xd3ene/fuqc/dv38/7u7u7N+/n6tXr9KjRw+qV6/OoEGDsp09p6RIEkIIIYQQuUK1atWoVq1a6vczZ85k8+bNbN26lWHDhhEaGoqNjQ3t27fHzs4OT09PfHx8Us/v1q1buustW7YMFxcXLl68SOXKlVOPjxkzhnbt2gEwffp0vL29uX79Os7Ozllm++yzz5g0aVK6Yzt27MDX15fQ0FB8fHyoVasWQLrel5yqUKECZ8+ezfSx0NBQypYtS4MGDVCpVHh6eqY+9s8///Dvv/8SHh6eOtxtzpw5bNmyhY0bN/Lhhx8SGhrK2LFjqVChAgBly5bNUbamTZum+37JkiU4Ojpy4MAB2rdvn+XzIiMj6dGjBxqNhv379+PgkFSgm5mZMX369NTzSpYsydGjR9mwYUO6IsnJyYnvv/8eExMTKlSoQLt27di7d68USUIIIYQQBZm1mTW3h97G3s4+XY9IZg7ePEjbtW1fec3tvbbT0LNhtu5tLJGRkUybNo1t27YRFhZGYmIiMTExhIaGAtCiRQs8PT0pVaoUrVu3pnXr1nTp0gVr66SMV65cYcqUKRw/fpyHDx+mLoIQGhqarkiqWrVq6n+7u7sD8ODBg5dmGzt2LP369Ut3rFixYgAMGTKEbt26ERgYSMuWLencuTP169d/rTbQ6XTphiCm1a9fP1q0aEH58uVp3bo17du3p2XLlkDSULrIyEgKFSqU7jkxMTGpQw5Hjx7NBx98wKpVq2jevDnvvPMOpUuXzna2+/fvM2nSJAICAggPD0ej0RAdHZ36+8lK7969U3uCUoYopvjhhx9YtmwZoaGhxMTEEB8fn2HYn7e3NyYmJqnfu7u7c+7cuWznfh0yJ0kIIYQQIpdTqVTYmNlgY/7qr5alW+Jh74GKzN9oq1BR3L44LUu3zNb1snrDnlNqtTrD/KYX55WMGTOGzZs38+WXX3Lo0CGCgoKoUqUK8fHxQNK8oMDAQNatW4e7uztTpkyhWrVqPH36FIAOHTrw+PFjli5dyvHjxzl+/DhA6vNTpB1ilvLzvWruVeHChSlTpky6LysrKwDatGnDzZs3GTVqFHfv3qVZs2aMGTMmhy2UJDg4mJIlS2b6WI0aNbhx4wYzZ84kJiaG7t27p87JioyMxN3dnaCgoHRfly9fZuzYsUDSvKMLFy7Qrl079u3bR6VKldi8eTOQvd9P3759CQoKYv78+Rw5coSgoCAKFSqUoX1f1KZNGy5cuJBh7tf69esZM2YMAwcO5O+//yYoKIj+/fu/9PcFSb+zF1cB1DfpSRJCCCGEyEdM1CbMbz0fvw1+qFClW8AhpXCa13oeJmqTrC5hEC4uLjx//pyoqKjU3oQX9885fPgw/fr1o0uXLkDSG/+QkJB055iamtK8eXOaN2/O1KlTcXR0ZN++fTRq1IjLly+zdOlSfH19gaQhaMbi4uJC37596du3L76+vowdO5Y5c+bk6Br79u3j3LlzjBo1Kstz7O3t6dGjBz169MDPz4/WrVvz+PFjatSowb179zA1NX3pcL9y5cpRrlw5Ro0axbvvvsvy5cvp0qULLi4u3Lt3L11PVma/n0WLFtG2bVJP5a1bt3j48OErf66PPvqIMmXK0LlzZ7Zt20ajRo1Sr1e/fn2GDh2aem7ahTaUJEWSEEIIIUQ+07ViVzZ238iInSPSLQPuYe/BvNbz6Fqxq8Hu/ezZswxvrgsVKkTdunWxtrZmwoQJDB8+nOPHj6dbxQ2S5sj4+/vToUMHVCoVkydPTtdj8Ndff3H9+nUaNmyIk5MT27dvR6vVUr58eZycnChUqBBLlizB3d2d0NBQxo0bp7ef6/nz59y7dy/dMWtra+zt7ZkyZQo1a9bE29ubuLg4/vrrLypWrPjS68XFxXHv3j00Gg33799n586dzJo1i/bt29OnT59MnzN37lzc3d3x8fFBrVbz+++/4+bmhqOjI82bN6devXp07tyZ2bNnU65cOe7evcu2bdvo0qUL3t7ejB07Fj8/P0qWLMnt27c5ceJE6jyuxo0b8+DBA2bPno2fnx87d+5kx44d2Nvbp96/bNmyrFq1ilq1ahEREcHYsWNTe9Ne5cMPP8TMzIz27duzY8cOGjRoQNmyZVm5ciW7du2iZMmSrFq1ihMnTmTZk2ZMMtxOCCGEECIf6lqxKyEjQtjfdz9ru65lf9/93Bhxw6AFEkBAQAA+Pj7pvqZPn46zszOrV69m+/btVKlShXXr1jFt2rR0z507dy5OTk7Ur1+fDh060KpVK2rUqJH6uKOjI/7+/jRt2pSKFSuyePFi1q1bh7e3N2q1mvXr13Pq1CkqV67MqFGj+Oabb/T2c02ZMgV3d/d0X59++ikA5ubmjB8/nqpVq9KwYUNMTExYv379S6+3c+dO3N3d8fLyonXr1uzfv58FCxbwxx9/pJt/k5adnR2zZ8+mVq1a1K5dm5CQELZv345arUalUrF9+3YaNmxI//79KVeuHD179uTmzZsUKVIEExMTHj16RJ8+fShXrhzdu3enzf+1d9/hUVRtG8Dv3WTTSIUQSKO3QOjNQCABpAgogoA0QWwoKCAW1I9XivIqooAiiogCIsVCfZVilFQI1YQaIEAoCQk9vW053x9Llg0phJDZ2d3cv+vKBbs7O/Psk7OTeeacOfPEE4aJEwICAvDNN99g2bJlaNu2LQ4ePFhiyOAPP/yAO3fuoEOHDnjuuecwdepUeHl5VTiH06ZNw9y5czFw4EDs27cPkyZNwrBhw/Dss8+ia9euuHXrVrFeJTkpRFVNfm+mMjMz4ebmhoyMjGKVsBzUajV27NiBgQMHPtR0i1QxzK+0mF9pMb/SYn6lxfxWvfz8fCQlJaFhw4ZwcHCATqdDZmYmXF0fPHEDPTzmV1qmzu/93x9jFa0N2AqIiIiIiIiMsEgiIiIiIiIywiKJiIiIiIjICIskIiIiIiIiIyySiIiIiMyUlc+vRSSJqvjesEgiIiIiMjNFU0AXFhbKHAmR5cnNzQWAR5ptkzeTJSIiIjIztra2cHJywo0bNwwHeoWFhcjPz+cU1RLQ6XTMr4RMlV8hBHJzc3H9+nW4u7uXeb+pimCRRERERGRmFAoFvL29kZSUhEuXLkEIgby8PDg6OkKhUMgdntVhfqVl6vy6u7ujbt26j7QOFklEREREZsjOzg5NmzZFYWEh1Go1oqKi0LNnT96wVwLMr7RMmV+VSvVIPUhFWCQRERERmSmlUgkHBwfY2NhAo9HAwcGBB/ESYH6lZYn55aBLIiIiIiIiIyySiIiIiIiIjLBIIiIiIiIiMsIiiYiIiIiIyAiLJCIiIiIiIiMskoiIiIiIiIywSCIiIiIiIjLCIomIiIiIiMgIiyQiIiIiIiIjLJKIiIiIiIiMsEgiIiIiIiIywiKJiIiIiIjICIskIiIiIiIiIyySiIiIiIiIjLBIIiIiIiIiMsIiiYiIiIiIyAiLJCIiIiIiIiMskoiIiIiIiIywSCIiIiIiIjLCIomIiIiIiMgIiyQiIiIiIiIjLJKIiIiIiIiMsEgiIiIiIiIywiKJiIiIiIjICIskIiIiIiIiIyySiIiIiIiIjLBIIiIiIiIiMsIiiYiIiIiIyAiLJCIiIiIiIiMskoiIiIiIiIyYfZGUkpKCcePGoVatWnB0dETr1q1x+PBhucMiIiIiIiIrZSt3AOW5c+cOunfvjl69emHnzp2oXbs2EhMT4eHhIXdoRERERERkpcy6SFqwYAH8/f2xatUqw3MNGzaUMSIiIiIiIrJ2Zl0kbd++Hf3798eIESMQGRkJX19fTJ48GS+//HKZ7ykoKEBBQYHhcWZmJgBArVZDrVZLHnN5irYvdxzWivmVFvMrLeZXWsyvtJhf6THH0mJ+pWVO+a1oDAohhJA4lkpzcHAAAMyYMQMjRozAoUOHMG3aNCxfvhwTJkwo9T1z5szB3LlzSzy/fv16ODk5SRovERERERGZr9zcXIwZMwYZGRlwdXUtczmzLpLs7OzQqVMn7Nu3z/Dc1KlTcejQIcTGxpb6ntJ6kvz9/XHz5s1yE2EKarUaYWFh6Nu3L1QqlayxWCPmV1rMr7SYX2kxv9JifqXHHEuL+ZWWOeU3MzMTnp6eDyySzHq4nbe3N1q2bFnsuYCAAGzatKnM99jb28Pe3r7E8yqVSvZfShFzisUaMb/SYn6lxfxKi/mVFvMrPeZYWsyvtMwhvxXdvllPAd69e3ecOXOm2HNnz55F/fr1ZYqIiIiIiIisnVkXSW+++Sb279+P//73vzh37hzWr1+PFStWYMqUKXKHRkREREREVsqsi6TOnTtjy5Yt2LBhAwIDA/HRRx9hyZIlGDt2rNyhERERERGRlTLra5IAYPDgwRg8eLDcYRARERERUTVh1j1JREREREREpsYiiYiIiIiIyAiLJCIiIiIiIiMskoiIiIiIiIywSCIiIiIiIjLCIomIiIiIiMgIiyQiIiIiIiIjLJKIiIiIiIiMsEgiIiIiIiIywiKJiIiIiIjICIskIiIiIiIiIyySiIiIiIiIjLBIIiIiIiIiMsIiiYiIiIiIyAiLJCIiIiIiIiMskoiIiIiIiIywSCIiIiIiIjLCIomIiIiIiMgIiyQiIiIiIiIjLJKIiIiIiIiMsEgiIiIiIiIywiKJiIiIiIjICIskIiIiIiIiIyySiIiIiIiIjLBIIiIiIiIiMsIiiYiIiIiIyAiLJCIiIiIiIiMskoiIiIiIiIywSCIiIiIiIjLCIomIiIiIiMgIiyQiIiIiIiIjLJKIiIiIiIiMsEgiIiIiIiIywiKJiIiIiIjICIskIiIiIiIiIyySiIiIiIiIjLBIIiIiIiIiMsIiiYiIiIiIyAiLJCIiIiIiIiMskoiIiIiIiIywSCIiIiIiIjLCIomIiIiIiMgIiyQiIiIiIiIjLJKIiIiIiIiMsEgiIiIiIiIywiKJiIiIiIjICIskIiIiIiIiIyySiIiIiIiIjLBIIiIiIiIiMsIiiYiIiIiIyAiLJCIiIiIiIiMskoiIiIiIiIywSCIiIiIiIjLCIomIiIiIiMgIiyQiIiIiIiIjFlUkffrpp1AoFJg+fbrcoRARERER6Wm1QEQEsGGD/l+tVu6I6BHZyh1ARR06dAjfffcd2rRpI3coRERERER6mzcD06YBycn3nvPzA778Ehg2TL646JFYRE9SdnY2xo4di++//x4eHh5yh0NERETWjL0CVFGbNwPDhxcvkAAgJUX//ObN8sRFj8wiepKmTJmCQYMG4fHHH8fHH39c7rIFBQUoKCgwPM7MzAQAqNVqqNVqSeN8kKLtyx2HtWJ+pcX8Sov5lRbzKy1ryq9iyxbYzJgBRUqK4Tnh6wvtokUQQ4fKFpc15dgcVSq/Wi1sp04FhIDi/teEgFAogGnToBk4ELCxqbJYLZE5td+KxqAQQgiJY3kkGzduxPz583Ho0CE4ODggNDQU7dq1w5IlS0pdfs6cOZg7d26J59evXw8nJyeJoyUiIiJL5R0bi84LFgBAsYPeogOlQzNnIjUoyORxkXmqdfw4gv/znwcuF/PRR7jVurUJIqKKyM3NxZgxY5CRkQFXV9cylzPrIunKlSvo1KkTwsLCDNciPahIKq0nyd/fHzdv3iw3EaagVqsRFhaGvn37QqVSyRqLNbK6/Gq1UMTEAKmpgLc3RHCwrGeirC6/Zob5lRbzKy2ryK9WC9smTYCUlJK9AoC+V8DXF5rERFn2xVaRYzNWmfwqNm6E7fjxD1xO89NPEKNGPWqIlkurhTYiAifCwhDYty9sQkNlPZ7JzMyEp6fnA4sksx5ud+TIEVy/fh0dOnQwPKfVahEVFYWvv/4aBQUFsLkvyfb29rC3ty+xLpVKZTY7FXOKxRpZRX7N+CJQq8ivGWN+pcX8Ssui87t3r/46kjIohACSk6Havx8IDTVdXPex6BxbgIfKr79/hRaz9fcHquvv7O7xjCo5GZ0AYNEi2Y9nKvr7NesiqU+fPjh+/Hix5yZOnIgWLVpg5syZJQokIqtQdBHo/Z28RReB/v677IUSmSmtFoiONvQ+okePaj8OnqjCUlOrdjmyfj16AH5+EMnJpfY+AkC+yhl2Qd0tY6a0qmbhxzNm/TtzcXFBYGBgsZ8aNWqgVq1aCAwMlDs8oqqn1ep7kEobBVv03PTpnGmJStq8GWjQAOjVCxgzRv9vgwacWYmoory9K7SY9sYtiQMhi2Fjg1uTZ5X6krj746DOxr6WL0KTrzFpaLKzguMZsy6SiKqd6OiS04gaEwK4ckW/HFERTkFL9MhEUDcUKB0euJxi2huIaD8dOddzTBAVmbvT30VBAaBQYVfseYW/P870nwYNbBB8YS1yBo0EjK6Zt3pWcDxjcUVSREREmZM2EFk8Dvegh2UFZ+uIZCcEFFPfgL0u39ADUIxCASgUSO/QC0oAofFf4pZva/z7+R7Tx0pm4/j3+9H90nrooMD5n/YC4eHA+vX6f5OS0GLXEvz7wSbobO3gtmcL8OSTQE41Ka6t4HjG4ookIqtWweEeFV6OrJ8VnK0jkt3cucCKFYBCgfwpb0Ph51f8dT8/4Pff4X5kDw5/vAvJNvVQT5OEDu/0QVTAJGRczpAnbpKNTiugeHM6AGBv04kIGNdJP6HH6NH6f+9eD9pl/hAod+0AatQAwsKQ27M/Mi6lyxW2yST9e6diC5rx8QyLJCJz0qMH8h3dy11EDRWu2jc0TTxk/ip4Fq5w5Fjs9xmGiO7/h72v/YyEn48g+1o1OaNJVI7DLy3XF0kAsGwZHL9eCFy8WKJXoOgC807/1x9ul08gMnAyAKDn6RXIaRSIg3N2yPQJSA6xUzcgMOcAsuCMZr9+XP7CffoAYWHQurrD6d+9SA3ohZsJN0wTqAwKl/8In8+nAyilV7aIQqGfHbBHD1OF9dDMenY7ourm2A8HEZCXBUC/YyntZoYqqGEb3BUnvtuKwJceM3WIZG4qeBbO7sZVPIYtQOoWYB+A5frnk23qIc09AHVDW8CvbwAQEABd8wAo69R+tLg40x5ZgAMzN6PTD1MAADlvfYgar72mf8HGptxpvl18XBByfBnivxwJ93deQgP1OfjMHQTdueeg/GoJULOm9MGTbHJv5qLhdzMBAEf6vo/QdhXYDwcF4fzKCHg82w8t8uJxvl1PqGPC4N3Z78HvtRSFhcCbb8Lum28AAGc9uqBp+iH9a8ZDwhV3j26WLDHrvwvsSSIyF6mp8J/+DFTQ4nStIP3wDiMKf3/c+vhbnHVoDS/dNTR9OQQxr/wkU7BkNnr0gLpWnfLP1nl7I/n7HYgcugRRAZMQ79YTNxT6IshPexmdbu2G36YvgVdfBUJCoKzrhVtKTxx164GogFcQOWQRDn+0E8kxF6HT6B4cE2faIwtw9KtItP1sDGygQ1SLV+D02ZyHXke7aSHwunoUER3fglAqoVy3FmjZEuL3TVUfMJkN+6Wfw0ebjKt29dF145sVfl+zEW2R9WcUrtr4oXHhaWiDgnFpz3kJIzWdGyeuIbNzH+BugYR589DsZiwUv/8O+PoWX/ju8FVznv4bYE8SkXkoLARGjIBHXipu1WkJ37i/oPByLHEm3tPGBg4vjsOB9uPQNW0bgr+fgIj4E+gR8wls7Mz3bAxJR307C3fSlfBCyd5Hw9m6r7+G37An4PfSE8XeezvxFpLDEpC+/zQ6OyfA8WICkJAAXLyIWuIWamXGAJkxwGkA2/XvyYETdE2bw6WzvtfpllcA7tQNQL3eTWDnbGfx98Wg6iFx0zE0mDYEDijAAe8h6B6/DAplWXe6KZ+TpxNCD38O7B8OvPACkJAAxYjhiPUdjia7vkbtwDpVHD3JKiUFNp8vAAB4//QZFDUdH+rtjZ5ojuTIGFzs9TgaqM8hrW8PnNschiZDWkkRrUmcXHUQNV8ahtq6FGidXWGzYR0weLD+xWHDgCFDoAkPR/zOnWj3xBOw7dXLrHuQirBIIjIHb72lv9u7qytqRW0BvJ31z5cy3MO5rjM6X9mMiNAPEbp3PkIPLcTheqfQ8cx6KNxcTRs3yUung2riOHhpU3HbxhNunnawuXb13ut+fvrhDGUUJTWb1kLNpsHA5OBiz+fezMXlsDO4FZMA9bEE2CedhufNBNQvOIsayAUS4/Q/AGrd/dHABkm2jeCjuwI7IUreWFEIfdE2fTowZIhF/IEk65QccxEuIwfADRk46hqMtic3wMa+Cg6HHnsMiItDwX8+hs3CTxCU8jtut9mDmElfofuyMZUuwsi8iPc/gCI3F+jeHYqRIyq1Dr/u9XH9cDQSu/RF04ITuD20J86t24UmoztXcbTSi35hFTqveg0OKMB5uxZQ/rYVDQc0L76QjQ1ESAhScnLQNiTEYvb/LJKIZBbzyk8I/v5r/YN164BmzR74HqWtEqExH2PvG4Ho8PVEdLr2J9AtCNi+HWjcWOKIyWzMnQv8+Sfg4AD36N1Qtm9bJdcBOXk6ocXo9sDo9sWeV+dpkBR1AfVyE2BzRt/rlPx3AlyvnoYrstBQk1j+io1n2ivneg8iqdw6cxPq3v3hp0tFon0gGhzdDgePh+sJKJe9Pew/+win2w8DXnwBLfLiEbx8HA5u3gi/P5bDp7Pvg9dBZuvUmkNoufbuMPfFi+/11leCV5u6UJ2MxIm2TyAw5yA8JvUBfP8Aevasomilpc5VY99jMxByXH/8cqDuUwg4tBauftZzspbXJBHJKGHdv+j4/SQAwOFBs+91T1dQ96WjkPG/aMDHBzh1CujSBYW7w6UIlczM0XlbgXnz9A9WrICyU4d7F5vfNwVtVVE52qJh/2awGToEeO89YM0a+KUchIs2A1cPJiNp9PsVW5EZ3xej2tFqgYgIYMMG/b/WfD+tnBy4jB6EhuqzSLHxh3P0Trg18JBkUy1Gt0fjmwcR/vh8FMAOXa7/gRpdWiJq/EoIXZlXEJIZEzoBzRv6649iGo0HOj96r49H45qof/ZvqINDocjKAvr3B3aY/yyJN05ex0mfxw0FUkToHHS+ssWqCiSARRKRbG6duQmXCcPgiHwc9BqEDls/rNR66g7uBBw6BHTpAty+DcWAfogc9W0VR0vm5MKfCWg4ezwA4Na4acBzz8kaj0KpgE9nXzR8pV/F3mDG98WoVqrTBBtqNTBiBOziDkLnUROaP3ZLPquYykmFXmEf4Mq2OJyo0RVuyETPtS8jL7ivfkpxsiixb/2GNll7kQMnNNr43ypbr4uPC1R/7QAGDQLy86F9cghiZ/xWZeuvcocPQxXUEe0yopAJFxz4YBtCw2dDaWt9JYX1fSIiC6At0OBit9Hw017CRVUTND/486PtYHx8gIgInGw3FipoEPLLZEQGToE6V111QZNZyLySAQwbCldkIc4tBK7fLZQ7pHt69NBfB1XOEJR8Bzezvi9GtVE0wcb9NyIummDDigolnUaHG0+9COzcCTg6QrnjT9QfEGCy7Td5qiUCbu9FxFNfQK1yhFPsP0BgILB0KaCrwGyRJLu8O/mot/RdAMDB0JlVP2zS0RHYsgWpIaNgo9Ogy+JRiJ74Y9Vuoyr89BMQHAz3rGSkujTDzT8Pouv8p+SOSjIskohkEB0yCx1v/40cOEH9yxa41Xd/9JU6OqLlkbWI6P8JdFAg5OQ3OOHbH7cTbz36us1JdRoedB+dRoeELuPRqPAMrtr4wTfmV6icVHKHdY+NDfDll/r/31coFQ0wcsjPQHi3DzjkSE5aLTBtWskZCIF7z02fbjXfrahu76H2rrXQKW2A337TT7BgYjZ2NgjdNgOqU8eAkBAgNxeYOhXHaobgwq6zJo+HHs7+UYvhp72EqzZ+6Prb29JsRKWC118/I7r5S7CBDj1Wv4jIYV9Ks62HpM5V43jvacCECUBBATB4MLyvHESjgS3kDk1SLJKITCz2rd8RekA/fejR6avQdGhgla1boVQgdNd7ODxrG7LgjPbp4chq2RXntp+qsm3IqjoNDypFVL+P0TVtO/Jhj/QfNsMr0EvukEoaNkw/zfd998VQ+PvjZAf9sMBeBz9DdMAr0BZax0G4pRGRUSV7kIotYDTBhoWLGLIYoYf0va37Jq7UD2mSU5MmwJ49wDffINfGGW0yYuDzRBtEDPwMmnyNvLFRqa7Fp6LTX/rhdUmvfAonTyfJtmVjZ4PgUysQ0fEtAEDIlumI6PORrCeVbibcwEmfvmgd/pX+iQ8/BLZtA9zcZIvJVFgkEZnSyZPo/M3zAICITm+j2+KRkmymy0dPIm1zLK7YNkB9zXl4DXkMJz/7U5JtmUw1Gh5UmoMf/oHQ8NkAgEMvLEfLCWY8VeywYcDFi0B4OLB+vf7fpCS0OvITop//AVoo0fPsShxqOBIFmQVyR1ttXItPRcSghbjWv4LXsFn4BBt7J69D6PYZAICIAZ8geOXz8gZURKkEXnsNd6JO4HCt/nBAAUJ3zsTZWkE4u+m43NHRfW5MmgUXZONEja4I+mq05NtTKBUIObgQEb31E/OE7vkQUV3fkaVQSlh3BAWtO6JdRiSy4IwD723Rz6qqrB7lQ/X4lETmID0dGDoUtvk5yO/WG8HRn0i6uaZDA+F04hDi3ULgiiy0fO9JYOHC0ofYmLtqNjzofuLMWbT671gAQGTrKejxw/PyBlQRZcy012PVCzj07u8ogB0eu7oZic0GAVlZsoZqzfJu52Hf1I04VPsJeLb3Q+iOd1FXk1Kx9zq4SxuchI588he6fPs8ACCy3TSE/DlT3oBK4dutPjpe34mYF1chXeGOlrmH0WB4R0T0movC7EK5wyMAiItDq0OrAAA2S5eYbHIChVKB0H/+g8inFwMAQg5/gdSnJpn0b9zeV9eiwbhg+GqvIEnVFNe3H0DXT5422fbNAYskIhPQaXTIGzEeSEwE6tWDw9aNsHWQ/jZltZp7omXyX8geOwkKIYB33wUmTIA6K1/ybVep6OhqMzyohKwsKIY+jRraTFypH4ygfYvkjuiRPbZgKE4t3IFshTMCr/0D9OkD3Lwpd1jWQwhg3z5g0iRovLzRbelodL65CzbQ4ZhLN0SNXQ6dt88D7/FyY8RkxH3+j4mCrjqn1hxC8w+GQQUN9tUbhR6HFpntjVwVSgWCVz6P/COncKDuENhBjdCIOcgJ6AQcOXJvQa0WishI+EZFQREZabUnhMyKEMCbb+r/do4ejYCJpr+WLWTLdEQ//wN0CiV8/vweGDdOP1OjhDT5GkR2eBPdvxtvmH23ZuJBNH6ypaTbNUcskohMIKrfx3D8+3/Qquz1w8Jq1zbZtu2c7eC89lvg66/1Z/PXrsVpn164djTNZDE8Cp1ai/Tfwiq2sIUPDypBp9NfKJuQAPj4wH//b7BztpM7qirR/u0+sIveA9SqpZ/CvmdPaC+VUwjTA6XEXkZk//nQNWsOdO8OrFgBF20Gkm3qISJ4Fi6FnUWbzL3o+fMkKL9eqn/T/YWSQgEB4JayFuppL6L9O48jIfhlfU+4JUhMRP3JA+GMHByp+Tg6nVhtEVMT123vjS4pW7Bv6kZk2HnCI/k40LWr/n5kGzcCDRrAtm9fdFq0CLZ9+1arazHlcuGLLUBkJODgAHz6qWxx9Fj1ApQbNwC2tsDGjSh8chjy7+RJs7EbN1AQ2g8hcUsAABHBs9ApZXvVTC5lgcx/z0Fk4Q7N+RM9w+cAAGLHLwc6djR9EAoFMGUK8rbuxh2FB1pn74e2Y2ecWvev6WOpoHPbTyEi6D2kOTaA+zcVvCeFld1/J+KJT4EtWyDs7IBNm4C6deUOqUrZde+s7/3z8wMSEnCtSXck7eZMXw8j53oOYl75Cf/W7APvbg0Q8tcsKM8lAk5OwPjxKNjxD3zykxAa/RHqP9703hvLmGADfn5QbNoE1eUkRLaaDAAI2LsSaNUK2L7dhJ+sEtLSgP79USP3Jm416IBmxzfDzsVe7qgqTKFUoNuXz8It+RQwapS+t2jBAojRoyGq6bWYcinILIDN++8AAK6MegeoV0/egEaOBLZtg3BwgN3uP5DQaBCyrlbxMOW4OKBTJ9Q4EA61fQ0ceHcTQqM/soiTDFKpvp/c1NhVXi1d+uccms0dCyUEolq9JvuFw46D+yBj9wGct2sBH20yGowLxr43zeemdTdOXkfkM1/hVI1OaDKkFUL3L4CPNhnpcIPOsUa571XDFslKmf+QVaFD83ai51+zAADHX10my7TFJhEQABGzF5ccmsFHcxnOTwQjwYyLd3Og0+gQvyQC0U0nQlenLoK/n4AOd/ZACYE491Ccenc1cO0asGYN7J/oXfZBThkTbGDYMLj6uiDkxDJkbI8EmjYFrl4FhgxBYqfRuJlww5Qft0Iyr2RA13+APv7GjVFr/w64+LjIHVbl1K6tv8XBpk3QKZRQACgxWLAaXIspp9jRX6G+5gLSlN7w+ORducPRGzgQZ5bsQiZc0D49HJea9cWd87erZNV7p6yHNqg7cPky0KQJVEcOoOuCYVWybosmrFxGRoYAIDIyMuQLYtMmIfz8hNDv1vQ/fn7656nKFBYWiq1bt4rCwkK5QxFCCJGVmiXO2gcKAYijLt1EQVaB3CEZpF9KFwc9Bxja454eHwqtWlvueyTLb16eEL/8Ii60GizUsDHEVAhbsb/uU2Lf27+LvDt5+u+LQqH/Mfou6aAQurv/T3esK8Thw1Ubn4kY5/fi34nijsJdCEBEBkySOzSTuH7yujjl2EEIQGTARcQtiajS9Zvb/qFSzp0T4j//EQW+DYp9By7aNhbhveeJK9FJ0mw3N1eId98VOqVSCEDcUHiKva+vFzqtzrCInPnNz8gX/7qHCgEIbW0vfZ6sQXh48eOGsn7Cw+WO1CoUteGUf6+IDLgIAYjol1bLHVYJJ1cfFLcUNYUAxBmH1uL6sdRKr0udpxbhHWcY2lJ+nyeEuH27CqO9x5z2wRWtDVgkSa3owO7+nVrRwR4LpSpjTl9AnVYn9vqPFAIQacq6IvVIitwhlaAp0Ijwjm8Z2mSs7zNCm5ld5vJVmV+dVifil0aJOyNfFsLNrdh340SNziJi+FJx49T1km8s7YSDv7+49cl34rJHa/1jJychtm9/5BhNrSi/ty/fNhTXx5yDRH5GvtyhmUzGlQwR5xYiBCDyYC/2f7CtytZtTvuHh5F+KV1Ejf9eXKoXXKzdZ9u4isjmL4mj38QUK1aklLD2kDjj0NoQwwGvweLqoWQhhHz51RRoxD6/EUIAIhPO4syGIybdvqTWr69YkfR//yeEtvyTXPRgRW04osXLQgDipFPHB548lMvZzcdFmrKuEIC4oGoqkvddeuh13Dx9Qxzx6GNoR+Hd3heaAo0E0eqZ0z6YRdJdshZJGk3JA7r7CyV/f/1y9MjM6Qt46NmFht6Q+GUxcodTrugXV4l82OnbZNu2Qly8WOpyVZHfpLBEsafHh+KSbcMShY7u/Q/EhR0JD16JRqM/c7p+vf7fou9PRoYQ/frpe5eUSnFq8tJKxymHwsJCsWXzFrHXd7gQgEhVeovUf6/KHZbJ5d3JE/vrPiUEINSwEdEvr6mS9ZrT/qHMNlz0coFGHP7vbhFTf4zIhcO9XlOlUoj+/YVYv17ocnJlCb0gq0CE954nCqDS997CVUQ+t0IU5BeYPL86rU5EtJ4iBCAKoBKHF/xtsm2bREV7kgCh8/MT+0NnirObj8sdtcUqLCwUP7/7vdBA32MavzRK7pDKdfHvRHHFpr4QgEi28RcXdp2p8HtPb4wTl231PdJZqCH2zfhNukDvMqd9MIuku2QtkthVblJm8wX85x/DsJSIEV/LG0sFXVy/V+i8vPTt0ctLaCJLFnaVze/tc7dE5KhvxDHnoGLtPhPO4kCrifr2X1VnQQsLhXjppXtnxtq/KemZsapUWFgoNnaYYTjgO/rtXrlDko06Ty2iG0+4dwC4aPEjr9Ns9g/lDL9O2nFKhHedKa4qfYu9fs4uQIQ/8anIOJUsb+xGEreeEMdrdL3XA1ynl/jr229Nmt/wxz/WD7GDQsRM3Wiy7ZpM0YnW0kajAPphxjVqCOHqWuz50w5tRcTghWY5gsGcFeQXiFjnHkIA+t5JC3D14BVxzq6F/qRSLS8h4uMf+J69r68XOXAUAhCXbBuZrLA2m32wYJFkIGuRVNGu8vXrTR+bFTKLL+ClS0J4eup/rxMmmGwYTJW4dEnfkwSIQoVKRE38sdjLD5XfggIhtmwRumHDREFRLxUgNFCKg54D9DvpGznSfA6dToT3/+TeMELvodJtqwqp//xTaBV3i+sxy+UOR3ZatVbE937z3n5y1iwhdJX/PpnF/qGs4del/NxWeIiI1lPEydUHzXY/oinQiPAhiwwHXGo7O6FZuNAkoyOixn9vyFXEsC8l355syrgWs9iQ/bw8kfTFJhHr/bShh6+oeDxc83ER/dJqkZmSKfcnMXt5v2wyDPW9HHlB7nAq7PqJayKvRTv9793dXYjY2NJ7q9VqoXvrbUP7OFSrv7hz/pbJ4jSLffBdLJLuYk9S9SH3FzD3Vq5I8++o/5126KC/2NnSZGeLM22eudcT02GGUOdrhNBohDosTByaMUOow8JKPQjSaXXi+Mr9IqbdFKGrVavEmc3wp74QaXGmGz4WM3WjYRjh8RpdxPXjaSbb9kM7f17oPDz0w5dGvGC2B8Ump9MJMX/+vXbU57VK9wzKvX944PDruz0DB+oMFrFv/25R16Ld2H9OaEND7xV4zR8TidtOSra9nA3bDEOi9gS9L9l2zEYZ12KWdk3z7XO3ROSY5SLetfg1bBp7RyFGjRLizz/1Pe5UXEGB0DVpoh9+9vo7ckfz8O7cEaJbN/3vWmUvCtxqF28vPj5CtGljeLy/93smH2Uh+z7YCIuku8zimqRyzhwWKOxFyt4k08dmheT8Auq0OhHV5Hn9MDL7WmVe12MJtGqtCA+ZbWijiS7thNbbp9ThQUIIcSU6SYT3+UhcUDUrvoy3txBvvy0KDx+V7bMcXRZtmAXosm0Dce5/p2SLpSzZ17KFuqX+j9etZs1EYVaW3CGZn2+/FVr9fe/FXv9nKzVTpOx/oK38pFlhQYGImzxZaF30Q7/yYSfCe88ThTlVnO+YGCEc9NdpHWw9sfqcUKjAiar7XY44L8L7fCQuORbfN2fXqC0i2r5h1r2UJrdokb4Xyd1dFN68KXc0lZOdLXKatrk3FPO+EzACEMLOTohffpElPNn3wUZYJN1lNrPblZi2+F6jvaNwF/ve/FWe+KyInF/AyFHfGIaTHVkQZvLtS2Hfm78aemJK7HAV+mm3zzu1LP7HF04ipsFYce6b3WYzIUnSX2dFkqqJ4buW++ceuUMy0Gl1Ym+9UfoTJjXriF0//GAWf0DM0d6pGw1DiQ56DhDZ18qeibE0cu4fTvx4QCR4BZdeFN3/Y6HDr4vym7z/gjjgNdioF7mNOLW2aqbl1xw9IcTdHlcxaJAQanWVrNdSVLoN63RCHDwoxNSpQle7eA/DBVUzEd57nrgccV6aoC3AzdM3RLbKTQhA/DtliuXugzUaofPxLfH3ulihVKeObH+bLbFI4s1kpVbGXc0V/v64MftrnKzRGe4iHUGLR0JMfAHIquI7KJPkjn+3D49tnAYAiB74KTq8+7jMEVWNoIXDoKzpDoGSNzJUCAEFgEa5p6AD8K9HH8S8vBq6lDR0T/oZjV/rB9jYmD7oUjTo2xQux2NxzKUb3EU6HJ/uD6xdK3dYAIDIIYvQ7fJGqGGL4//ZiPxateQOyWx1+/JZHPv4f8iBEzrf3IXzTfrhzoU7codVtrw8YPVqoHNntHqhK1pcj6nY+7y9JQ1Lal4d/NA5dTv2Tl6HW4paaJ5/DE2f64qIx95D3u28Sq/36oEruNFxAHDnjv7Gyr/+CtjaVmHkVkyhADp3Br78EuJKCg7P24F99UcjF45oqD6L0D0fwj+0MY65BuPAxOXArVvlr0+rBSIi9De8jYiw+JvZnhg+BzXUGTjt2A6XevWWO5zKi46G4mpKyRsP36UA9DeZjo42YVAWzkRFm2xk70kqUkZXeWFOoYgJ/T+hK+ppatxY6PYfkDdWCyXHWYq0uKsiVektBPSz4VjV0IUKDg+6+Y08XfcPS5OdJ8TIkYa4s96ZI+vv68iCMMN1FREjvjars2zm7Nh3+8Rthb434ax9YIWvczNVfi9HJYnwru8KrUfNe9eDqOxFdMNxotDDq+zh1xZ+S4jS8nv9xDVDT6kAxAW7ZiI/7OGnVb597pY4ZxcgBCDO2wcI7XULHQ71iKq6DWemZIqYV9aIwzX7GvZFAhBCpRJiyBCh/fXujbyNlTM7oyVK3HrCcBPzQ5+FWfY+2MwnCzOnv3HsSTI3NjYQISFI6dkTIiTEcJZd5aRC9/CPoYiIAPz9gfPnoQvqhoi+86EttOyzM9auMLsQ13qOQF1dKhLtW6H1oR+hUJZ1DscCpaZWaLFa7pbRTm1qOOjPfM6cCQBwXjgHe5s9j8LsQpPHkhxzEfXfGwUb6BDd+Hn03DjZ5DFYqtavBOHmpiikKb3RtOAECrt0R2HCeVlj0ml0ODx/Nw7WeRK+PRsh9MBnUN65DdSrB3zyCWxSriD4wlqoVn6rf4Pivv1E0eMlS8ymB7Yq1G7lhW6XNuDAB9uQpvRGw8KzsO/bE3j99QqPmsi9mYvk9oPRuDABqUpf2IfvgrI2e1yrgouPC7p/Nx4db/2FG0euIPLJz5HbvB2gVgPbtkE5cjgKPOoiqsXLiP8yErrffgeGDweSk4uvKCVF//zmzbJ8jsoSAkh/8S3YQov93kPRdnqI3CE9mor2Qlt4b7UpsUgyFz17AkeP4nqvZ2EjtAj9exZO1O6F5L2X5I6MynBn4gy0ydqLDLjCdvsWONd1ljukqmWNO1ylEvj0U/w76TtoYIPg8z/hpP8AZFxKN1kIuTdzkd1vKGqJWzjp1AmdDn1rXcW1CTQdGojCf2JwSdUY/uok2PUOBo4dM3kc6RfTEfH0Elx2ao5Oswagy/U/oITA4Vr9ED93G3DhAvDee0Dt2vo3lDH8Gn5++ueHDTP5ZzCFrvOfguOFU1BPeEn/xLJlULcIxOH5u8t9nyZfgxOBz6J1VizSFe7I2bwbvkH1TBBx9VO3gw9Ctr8Fp9NxwPHjwMyZSHfxgxsy0PPMSrSbHgrdyFEQQpR8c9Fz06db1NC7wx/tRKdbu1EIFbzXfiZ3OI+uRw/9vuT+kzBFFAr9yfgePUwblwVjkWROPDxQ++8NiH55DbLgjLaZ0XAJbot9UzfKHRndb80a1Pl9GQDg/Nx1aNivqcwBScCKd7gdlr+C+I/+QBac0T49HDebdUNyzEXpNywEToe8ghZ58bihqA2PPZvh6OEg/XatUL3QRqibGAO0aQOkpQEhIdBG7TXNxo8eheaFV6Bq6IvQbW+igfocMuCKyHbTcGHnGXS6uRvtPnyq9F6hYcOAixeB8HBg/Xr9v0lJVlsgFXGr7w7V6u+Bv/+GaNgQqquX0WnWAMQ0eR53zt/WL2R0rYvYE47Y1i+jy7U/kAcHXP76f2gypJWsn6HaCAwEPv0UrrcvIX5xOKKbvYhsOMEW2jKvd4EQwJUrFnO9izpXjZrzZwAA9nWahvp9msgcURWwsQG+/FL//2rSWy01FklmRqFUoMeK8bj9TzyOOz8GN2Sg29LRiGk8AZnJmXKHRwDEkX+BSZP0D2bPRocPB8sbkFSsfIfbadYAXP0lBqlKXzQuTIB9z644ufqQtBv96it0OLUOWoUNUhb9Cp+u/tJuz8rZ168LREYC3bsD6ekoDO2LQ/N2SrKtwuxCHPtgo/6kQLt2sF31PWogF2cdWiNqzHLYpKYgJG4JGg1o9uCV2dgAoaHA6NH6fy30O1Qpffqg8PBxRLSbDh0UCD6/BupmLXFmyDtAgwZAr17AmDFQ9OmNHudWQwsFjr2/EW0mB8sdebWjtFWi3fRQ9DizEnYrvqnYmyo4TFtuh19ajsaFp3FDURvtN82SO5yqU017q6XCIslM1e/dGC2uRSGix3+ghRLBF35CVtP2ELH75Q6tWrt15iaudRsKFBQAgwcDH34od0jSsvIdbvORbYEDB3DGoS1qi+toODEExz/eJs3GIiKAt94CANgs/gLtpodKs53qxt0d+OsvnGwwEI4iD+1mP4V9b2yostWnHk5BRMhs3HGrjzafjAZiYvSzqo0cidxdUWiacxQ9102yvuG2ErKvWQOhcYtx4ru9OGcXAC/dNTTf/jnE/de6AFBCoGsnyxnCZa3smtav2IKWMPz69m08tms2AOD8+Hlwq+cmc0BVrJr2VkuBRZIZUzmpEBo1DyeXRSLZtj588y9A0SMYmDcP0GjkDq/a0eRrcKnbKNQtvIxLdk2gXb1Wf42Ltbu7w9WEheHwjBnQhIVZ1Q7Xu5MvfM5H47DnADghD4EfDr3Xg1ZFUmIvI++pkfrhROPGAVOnVun6qz0nJzQ7uRV764+BCho89vVYRI6q4JnvUgidQPyXkYj1G4HanesjNGoe6ujSkKb0xtnRs4FLl4BffoFT/x68nuwRtHklCH6ph5Fv51LqrQYAQKFQWNy1LlbpQcOvAeTb1kB20/YmDKqS5s2D4s4dIDAQj618Se5opFGde6urUDU4wrN8bSYHwyslXt/YtVpg9mzcbhtqmmsoyCAm5P/Q4fY/yEYNFG7cApta7nKHZDplzM5oLVx8XNDuyv+QO/5VKITQH5RNmwad+tEPzPJu5yHj8WFwzLqBVO/2wIoV5R5oUOWonFQIOrcWka2nQAmBkF+mILz3RxC6Ui40L0t2Nq7PW45zTq3RbnooglJ+hy20OOraA/um/4JaWZfQbP0cwMdHss9R3TgcOwiHwiyrudbFapUz/LroG+agycGtBh1w7FsTXRtYCbf3nYZYpr+eGIsW8V5bVC4WSRbCzstd323688/Q1XBBzVN74dKjLfZOXid3aNVC7IzfEHpQP/vNsek/ounQQJkjoqpm62ALp9XfAJ/dneXoq69wqN4w5FzPqfQ6hU7gSJfX0DL3CG4pakHz6xbA0bGKIqb7KW2V6Bm/FBEh+qE0vcI/RGTHN6ErUEMRGQnfqCgoIiNL9ErkHDmt793z9YXX7NfQtOAkcuCEqIBJSPz9KNpmRKHb4pFQOank+FjWraLXsFjItS5WrYzh1wp/f1yYMAcpNv6or7mAVpN7IiLofRRkFsgUaNnODX0bCo0Gd7oPBvr2lTscMnMskizN2LFI3XUUx1y6wQ2Z6P7tOOxtOA4ZlzPkjsxqndt6Aq0XTwQARHR6G90Wj5Q5IpKMQgG88w4yvv8V+bBH17TtuNQwBNePpVVqdVGjvkHw+TXQQolLn/0K/+AKjuunSlMoFQiNmIPIYfqz3qHxX0Lh4Q7bvn3RadEi2PbtCzRoAO3G33Dg/a04UqsvanQKAJYuBTIzgWbNkDRtCTQXU9Dz1HI0faaNzJ/IylnjrQasWRnXuzRaPRvOF44jpvF42ECH0P2f4mKdLji/9bjcERsc+eQvdLn+J9SwxZ3/+1zucMgCsEiyQL7BDdHyeiQiQudACyW6X1yHzMbtzLqL21JlXEqH7cihcEYO/vXog+DoT+QOiUzA7aURSFy+BzcVnmiZewSFHbri3LaTD7WOo0uj0O236QCA6CcXosPbvSWIlMoSsmkqzg6cpr/WJS+32GsiORnK0SPR9dOh6Hj7b2ihxJ2eTwF//QUkJKDhkmlwq+8uS9zVjhXfasBqlXG9i1s9NwSfW4MD727CTYUnmucfQ8ORnYCFC2W/pkyTr4HrXP2U33vbvY5GTzSXNR6yDCySLJStgy1Cw2fj1PJoXLZtCH/NRbSa3BORobM5qcOjMLpPB/bsQY1J49BAfQ7JNvVQf98G2Dpw/HJ10XpSN+T8vR9Jqqbw016G59PdceSzfyr03tRDyfCZNgIqaLC33miEbH1T4mipBK0WzY5tKn0ygLs/WigR0eUdpEafh0fkNv3wm+owGYs5sfJbDVRHXRcMgzh6HGmdBkOpLgTefRfo1QvZx5Nki2nfxO/RtOAkbitqou0mK5+VlqoM/xpYuNaTusE9KR4xjZ6DDXQIiZynP+N24YLcoVmezZuL3acDffrAdvefELa2sP9jM2q1qC13hGRi9Xs3htvJWBx1DYY7MtBm5gBEv7i6/Dfl50M1+hnUFtdx2qEt2h1eyRnQ5BAdDZQypbQxG+gQumAg/IIbmCYmKp2V32qgOqrdui7qHtwOrFwJODsD0dEQbdog+vkfHm4ylSqQcSkdLX/RF0bHn5kLj0YeJt0+WS4WSVbA1c8Vwed/wpG31kO4ugL79wPt2iFvxVr9zED0YJs3A8OHl3pQpdBoUDv3kgxBkTmo2bQWml8Kw976o6GCBj1+nKi/P1Zp3y0hgClT4Hn+INQuNeG0awtq1HYyfdDECQEsDe/tYn0UCuDFF4GjR3HWKxguyEaPNS/hoM8Q3DhxzWRhxD3zMTzFTZy3C0C3NZNMtl2yfCySrEjHz0dDcfQoEBwMZGXBcdJ47Gs4BhmX0uUOzbxptcC0aWUXlLxPR7Xn4O6AoHM/4+yI/9M/8dFHwPjx+psKGw3R1L35FvDjj4BSCdWmjagX0lDWuKs1TghgeXhvF+vUqBEaX4lAxBMLUAA7dL32PyjaBOLAe1sk37TuTCK6//sVAOD2/33BGSrpobBIsjYNGgAREUh64SNoYINulzYiq3FbHFvGe0yU6UHDcnifDoJ+eulmv36sHz5iYwP8/DOu1u0AnV89wxBN5ZeL9QuPHcvpZeXGCQGIzIaNnQ1Cd7yLS78dwhmHNvAUN9F1wTDENHle0tl5le+9C5VQ485jA9D5wyck2w5ZJxZJ1sjGBg1/mIXTK/fikm0j+Gkvo9XroYjo8R+oc9XFJyeIiKi+PST5+Uj76S+cmvhZxZbnsBwC9MNHdu5EgdIRPumnoEi7WuxlAQA//6wfwkny4YQARGan2fA2aHDtICK6zoQOCgSfXwOb9m30xyJVbc8eYOtWwMYGHj98UfXrJ6vHIsmKBb7YFTUvxSOm8QT9BcoxHyO1Zkto6vrdm5ygVy9971M1OKATOoGk3WeR9sFXwMCBQM2aqDuhP1pe3FmxFXBYDhXp3RtKD1f99NL3vWR4zCGa8uOEAERmx97VHqH7P8WJZVG44dIIzrcv649FZswA8vOrZBvaQi2ujb07q+irrwItW1bJeql6YZFk5Vx8XBB8bjX2Td2IHDihXsE52Ny878aYKSn6SQussFDKupqFAx9sQ1Sr15Bs3wgNBzRH3U+mATt3Anl5EL6+iG05EQXOtSA4LIcqKjoaqlvXSp1eGgCHaJqTuxMCaMLCcHjGDGjCwjghAJEZaDM5GLVT4oGXX9Y/sXgxLtXuiNMb4h553fteXoU6aceQoXSHZtacR14fVU8skqqJbouGw97LrdQz3xBCP0TIGs58CwHExyPyiU8R59ELDr410fWTp9Hz1HL4ay6iAHY47tVHf3O748ehuHIFQSd/hP2aFfq8cFgOVQRnTrMsNjYQISFI6dkTIiSE32Uic+HiAqxYAfzxBzKd6qB+9ik0HtMFEX3nQ5NfuXs+ZiZnosVa/SQ7cU/Ohm1dz6qMmKoR3hmzuoiOhu31sg/YFHfPfJ+u1Q3XmgRDGdgS7kEBCBwRAEVN876nwK2zt3B1TRhaXdmB/n/8AdWdOwgxev2iqgkutRgAp2ED0HJyKFp71Si5kqJhOdOmFZ/Ewc9PXyDxrDMZ48xpRERVZ9AgFB45gdg+ryLo6iaE/j0Lx2v/AZfNP6FB36YPtap/h/8XoeI6klRN0e3nyRIFTNUBi6TqooJntFtkHESLIweBIwDWAHgVQN26QEAATmgDcKtOS7h2DYBPnwB4talbNTfJ1Gr1w5JSU/UHlT16lHumV1OgRcKag7i1bhc8j+xCy5xDqKXvC4MDAFGjBlKa9cb5Jv3RYFJ/NOjTBA0qEsewYcCQIQ8VC1VTRTOnpaSUPnW8QqF/nUM0iYgqxLOFJ2pd+Q0xk39G6+9eR+vs/cjp1w5Roz5Hj3WvVuh440rkBQQd0M8yemPmF2jobCd12GTFWCRVFxU8o320z5tIv6WF8+UE1M9LgGdeMpCWBqSlIRDh+oV+0/+TrnDHlRoBSPcOgDKwJbq/FKC/OLJePUBZwZGcmzeX3nvz5ZfFe2+uXsXJRbuR8csuBKSEobW4U2w1Zx1aw31UXyQ2ckeXN9+En7Mz/CoWQXFF9+kgKk/RzGnDh+sLIuNCiUM0iYgqRaFUIHj5c0iZEILzgyaiw5096LlxMs4d2Y4mET8APj7lvj957Ez4oxBHaj6OznMHmyhqslYskqqLCp75brt7YfEDu8xM4PRpiFMJiP7uFBySEuB1OwH+6gtwF+lwz44FEmOBRABF94VzcsIFu+a46t4SmiYBcGgfAK/QlvAPbVz8Rm6bN+sPMu+PJyUFYvhwJI2fjbrOOXCK2gUcP45WRoukK9xxyq8ftI8PQJPJ/dCsky/UajVu7tgB2NtXUdKIysEhmkREkvANqgfv62GIHLkUXbe+hyaJu4DWrYFvvwVGjiz1PUeXRiEo5XdooYTLikVVM9KFqjUWSdVFZc98u7oCXbpA0aULej5/7+n89Hyc//ssbkYnoDD+FPyyEtBEnQCcOQPk5qJRbhwapccBFwH8DWAhoIYtzts1RU6DlmgzvDmwfHnpBdvd5xqtmVMsxvy2XbDftT9qjR2AgPGd0c2BzZdkxiGaRESSUNoqEbJ5GgqP9gNefA44cgR49lkkLtwKz1+WwaORx73h+ikpaLVkLgBgX8uX0eOZ1jJHT9aAR5nVSRWe+XZwd0Cz4W3QbHib4i9oNCg8fQFx6xOQ9+8p2CYmoGZaAurlJsAZOWhcmACcTQD+W/76i87/XGrRH/VnPw/07QuHWrUQWuEIiUyEQzSJiCRj1zYAiI0FPv4Yuo/no+nhDUhtGoVzo15Ek6gfDccztgCgUCD4ra6yxkvWg0VSdSP1mW9bW9gFNkPX/zYDMMTwtNDqkHIwGal7ElD7xinUP/Y/IDz8gaur/+EEYNSoqomNiIiILI9KBcydi4QGg+A06Tk0VJ8F1s8reVsTIaB46UXA3Y1DnumRsUiqjmQ4862wUcI3qB58g+oB6A9EtK9QkcQplImIiAgAWk3sgtyBh5Hv7wMHdXbZN/SePl1/QphDn+kRmPXNZD/55BN07twZLi4u8PLywtNPP40zZ87IHRZVhaKJJO6/eWsRhQLw9+cUykRERGTglHAEDursshe4e99HREebLiiySmZdJEVGRmLKlCnYv38/wsLCoFar0a9fP+Tk5MgdGj2qookkgJKFEqdQJiIiotJU8L6PFV6OqAxmPdxu165dxR6vXr0aXl5eOHLkCHr27ClTVFRlOIUyERERPYyKDsPncH16RGZdJN0vIyMDAFCzZs0ylykoKEBBQYHhcWZmJgBArVZDrVZLG+ADFG1f7jjMypNPAgMHQhETY5hIQgQH63uQHjJPzK+0mF9pMb/SYn6lxfxKjzm+67HHYOvrC1y9CkUptxERCgXg6wvNY4891HEE8ystc8pvRWNQCFHajWrMj06nw1NPPYX09HTExMSUudycOXMwd+7cEs+vX78eTk5OUoZIRERERBLzjo1F5wULABSf3a7ogPbQzJlIDQoyeVxkGXJzczFmzBhkZGTA1dW1zOUspkh67bXXsHPnTsTExMDPz6/M5UrrSfL398fNmzfLTYQpqNVqhIWFoW/fvlCpVLLGYo2YX2kxv9JifqXF/EqL+ZUec1ycYssW2MyYAUVKiuE54ecH7RdfQAwd+tDrY36lZU75zczMhKen5wOLJIsYbvf666/jjz/+QFRUVLkFEgDY29vD3t6+xPMqlUr2X0oRc4rFGjG/0mJ+pcX8Sov5lRbzKz3m+K6RI4Fnnil230dFjx6wfcQJn5hfaZlDfiu6fbMukoQQeOONN7BlyxZERESgYcOGcodEREREROZAhvs+UvVh1kXSlClTsH79emzbtg0uLi5IS0sDALi5ucHR0VHm6IiIiIiIyBqZ9X2Svv32W2RkZCA0NBTe3t6Gn19++UXu0IiIiIiIyEqZdU+ShcwpQUREREREVsSse5KIiIiIiIhMjUUSERERERGRERZJRERERERERlgkERERERERGWGRREREREREZIRFEhERERERkREWSUREREREREZYJBERERERERlhkURERERERGSERRIREREREZERW7kDkJoQAgCQmZkpcySAWq1Gbm4uMjMzoVKp5A7H6jC/0mJ+pcX8Sov5lRbzKz3mWFrMr7TMKb9FNUFRjVAWqy+SsrKyAAD+/v4yR0JEREREROYgKysLbm5uZb6uEA8qoyycTqfD1atX4eLiAoVCIWssmZmZ8Pf3x5UrV+Dq6iprLNaI+ZUW8yst5ldazK+0mF/pMcfSYn6lZU75FUIgKysLPj4+UCrLvvLI6nuSlEol/Pz85A6jGFdXV9kbiDVjfqXF/EqL+ZUW8yst5ld6zLG0mF9pmUt+y+tBKsKJG4iIiIiIiIywSCIiIiIiIjLCIsmE7O3tMXv2bNjb28sdilVifqXF/EqL+ZUW8yst5ld6zLG0mF9pWWJ+rX7iBiIiIiIioofBniQiIiIiIiIjLJKIiIiIiIiMsEgiIiIiIiIywiKJiIiIiIjICIukUnzyySfo3LkzXFxc4OXlhaeffhpnzpwptkx+fj6mTJmCWrVqwdnZGc888wyuXbtWbJnLly9j0KBBcHJygpeXF9555x1oNJpiy0RERKBDhw6wt7dHkyZNsHr16gfGd+zYMfTo0QMODg7w9/fHZ5999sif2ZRMld/Nmzejb9++qF27NlxdXREUFITdu3eXG9vFixehUChK/Ozfv7/qEiAxU+U3IiKi1FylpaWVGx/br96D8vv888+Xmt9WrVqVGRvb7z1Tp05Fx44dYW9vj3bt2pW6rcq0xYrs182ZqfIbERGBIUOGwNvbGzVq1EC7du2wbt26B8ZXWvvduHHjI31mUzJVfiv7XWf71XtQfufMmVNqfmvUqFFufJbefoGqyfHRo0cxevRo+Pv7w9HREQEBAfjyyy9LbMvsj4EFldC/f3+xatUqceLECREfHy8GDhwo6tWrJ7Kzsw3LvPrqq8Lf31/8888/4vDhw+Kxxx4T3bp1M7yu0WhEYGCgePzxx0VcXJzYsWOH8PT0FO+//75hmQsXLggnJycxY8YMcerUKbF06VJhY2Mjdu3aVWZsGRkZok6dOmLs2LHixIkTYsOGDcLR0VF899130iRDAqbK77Rp08SCBQvEwYMHxdmzZ8X7778vVCqV+Pfff8uMLSkpSQAQf//9t0hNTTX8FBYWSpMMCZgqv+Hh4QKAOHPmTLFcabXaMmNj+9WrSH7T09OL5fXKlSuiZs2aYvbs2WXGxvZ7zxtvvCG+/vpr8dxzz4m2bduW2E5l2mJFfm/mzlT5nT9/vpg1a5bYu3evOHfunFiyZIlQKpXif//7X7nxARCrVq0q1n7z8vKq5LObgqnyW5nvOtvvPQ/Kb1ZWVrG8pqamipYtW4oJEyaUG5+lt18hqibHP/zwg5g6daqIiIgQ58+fF2vXrhWOjo5i6dKlhmUs4RiYRVIFXL9+XQAQkZGRQgj9wYtKpRK//fabYZmEhAQBQMTGxgohhNixY4dQKpUiLS3NsMy3334rXF1dRUFBgRBCiHfffVe0atWq2LaeffZZ0b9//zJj+eabb4SHh4dhHUIIMXPmTNG8efNH/6AykSq/pWnZsqWYO3duma8X/eGJi4t7xE9lPqTKb1GRdOfOnQrHwvZb+fa7ZcsWoVAoxMWLF8uMhe03tsT7Z8+eXepBUGXaYmX3O+ZMqvyWZuDAgWLixInlLgNAbNmypcLxmzup8luZ7zrbb+Xbb3x8vAAgoqKiyl3O2tqvEI+e4yKTJ08WvXr1Mjy2hGNgDrergIyMDABAzZo1AQBHjhyBWq3G448/blimRYsWqFevHmJjYwEAsbGxaN26NerUqWNYpn///sjMzMTJkycNyxivo2iZonWUJjY2Fj179oSdnV2x95w5cwZ37tx5xE8qD6nyez+dToesrCzDdsrz1FNPwcvLC8HBwdi+fXulP5s5kDq/7dq1g7e3N/r27Yu9e/eWGwvbb+Xb7w8//IDHH38c9evXf2BM1b39VkRl2mJlfm/mTqr8lrWtiux/p0yZAk9PT3Tp0gU//vgjhAXfzlHq/D7Md53tt/Ltd+XKlWjWrBl69OjxwGWtqf0CVZfj+7//lnAMbFvla7QyOp0O06dPR/fu3REYGAgASEtLg52dHdzd3YstW6dOHcP1GGlpacV2REWvF71W3jKZmZnIy8uDo6NjiXjS0tLQsGHDMtfr4eFRyU8qDynze7/PP/8c2dnZGDlyZJnxODs744svvkD37t2hVCqxadMmPP3009i6dSueeuqpyn5M2UiZX29vbyxfvhydOnVCQUEBVq5cidDQUBw4cAAdOnQoNR6238q136tXr2Lnzp1Yv359ufGw/ZZ/PZyxyrTFyux3zJmU+b3fr7/+ikOHDuG7774rd7l58+ahd+/ecHJywl9//YXJkycjOzsbU6dOrfS25SJlfivzXWf7rdxnzM/Px7p16/Dee+89cFlrar9A1eV43759+OWXX/Dnn38anrOEY2AWSQ8wZcoUnDhxAjExMXKHYpVMld/169dj7ty52LZtG7y8vMpcztPTEzNmzDA87ty5M65evYqFCxda5EGmlPlt3rw5mjdvbnjcrVs3nD9/HosXL8batWurfHvmyFTtd82aNXB3d8fTTz9d7nJsv/QwTJXf8PBwTJw4Ed9//325E48AwH/+8x/D/9u3b4+cnBwsXLjQIg8ypcyvtX3XK8NU7XfLli3IysrChAkTHrisNbVfoGpyfOLECQwZMgSzZ89Gv379qjA66XG4XTlef/11/PHHHwgPD4efn5/h+bp166KwsBDp6enFlr927Rrq1q1rWOb+2VSKHj9oGVdX11Ir6Iqu11JInd8iGzduxEsvvYRff/21RNduRXTt2hXnzp176PfJzVT5NdalS5dyc8X2+/D5FULgxx9/xHPPPVdsiEFFVcf2WxGVaYtsvw//GSMjI/Hkk09i8eLFGD9+/EO/v2vXrkhOTkZBQcFDv1dOpsqvsQd919l+K/cZV65cicGDB5fo9agIS22/QNXk+NSpU+jTpw9eeeUVzJo1q9hrlnAMzCKpFEIIvP7669iyZQv27NlTomuvY8eOUKlU+OeffwzPnTlzBpcvX0ZQUBAAICgoCMePH8f169cNy4SFhcHV1RUtW7Y0LGO8jqJlitZRmqCgIERFRUGtVhd7T/PmzS1mqJKp8gsAGzZswMSJE7FhwwYMGjSoUvHGx8fD29u7Uu+Vgynze78H5Yrt9+HzGxkZiXPnzuHFF1+sVLzVsf1WRGXaYmW/F+bEVPkF9NP7Dho0CAsWLMArr7xSqXjj4+Ph4eEBe3v7Sr3f1EyZ3/tVZP/L9vtwkpKSEB4e/kj7X0tqv0DV5fjkyZPo1asXJkyYgPnz55fYjkUcA0syHYSFe+2114Sbm5uIiIgoNo1jbm6uYZlXX31V1KtXT+zZs0ccPnxYBAUFiaCgIMPrRVNt9uvXT8THx4tdu3aJ2rVrlzoF+DvvvCMSEhLEsmXLSkx/uHTpUtG7d2/D4/T0dFGnTh3x3HPPiRMnToiNGzcKJycni5pC2VT5XbdunbC1tRXLli0rtp309HTDMvfnd/Xq1WL9+vUiISFBJCQkiPnz5wulUil+/PFHibNSdUyV38WLF4utW7eKxMREcfz4cTFt2jShVCrF33//bViG7bfy+S0ybtw40bVr11JjYfstPb9CCJGYmCji4uLEpEmTRLNmzURcXJyIi4szzIpUkba4efPmYrMmPczvzVyZKr979uwRTk5O4v333y+2nVu3bhnWcX9+t2/fLr7//ntx/PhxkZiYKL755hvh5OQkPvzwQ4mzUnVMld+KfNfZfiuf3yKzZs0SPj4+QqPRlIjFGtuvEFWT4+PHj4vatWuLcePGFVvH9evXDctYwjEwi6RSACj1Z9WqVYZl8vLyxOTJk4WHh4dwcnISQ4cOFampqcXWc/HiRfHEE08IR0dH4enpKd566y2hVquLLRMeHi7atWsn7OzsRKNGjYptQwj99JT169cv9tzRo0dFcHCwsLe3F76+vuLTTz+tyo8vOVPlNyQkpNTtGN/n4P78rl69WgQEBAgnJyfh6uoqunTpUmyaS0tgqvwuWLBANG7cWDg4OIiaNWuK0NBQsWfPnmLrYPt9tP1Denq6cHR0FCtWrCg1FrbfsvNb1vc/KSnJsMyD2uKqVavE/ecSK/J7M2emyu+ECRNKfT0kJMSwjvvzu3PnTtGuXTvh7OwsatSoIdq2bSuWL19e7r3XzI2p8luR7zrb76PtH7RarfDz8xMffPBBqbFYY/sVompyPHv27FLXcf/xgLkfAyuEsPC5CYmIiIiIiKoQr0kiIiIiIiIywiKJiIiIiIjICIskIiIiIiIiIyySiIiIiIiIjLBIIiIiIiIiMsIiiYiIiIiIyAiLJCIiIiIiIiMskoiIiIiIiIywSCIiIqvUoEEDLFmyRO4wiIjIArFIIiIis6RQKMr9mTNnjtwhEhGRlbKVOwAiIqLSpKamGv7/yy+/4MMPP8SZM2cMzzk7O8sRFhERVQPsSSIiIrNUt25dw4+bmxsUCoXhcU5ODsaOHYs6derA2dkZnTt3xt9//11iHbm5uXjhhRfg4uKCevXqYcWKFYbXIiIioFAokJ6ebnguPj4eCoUCFy9eBACsXr0a7u7u2L17NwICAuDs7IwBAwYUK+CIiMj6sEgiIiKLk52djYEDB+Kff/5BXFwcBgwYgCeffBKXL18uttwXX3yBTp06IS4uDpMnT8Zrr71WrDeqInJzc/H5559j7dq1iIqKwuXLl/H2229X5cchIiIzwyKJiIgsTtu2bTFp0iQEBgaiadOm+Oijj9C4cWNs37692HIDBw7E5MmT0aRJE8ycOROenp4IDw9/qG2p1WosX74cnTp1QocOHfD666/jn3/+qcqPQ0REZoZFEhERWZzs7Gy8/fbbCAgIgLu7O5ydnZGQkFCiJ6lNmzaG/xcN17t+/fpDbcvJyQmNGzc2PPb29n7odRARkWXhxA1ERGRx3n77bYSFheHzzz9HkyZN4OjoiOHDh6OwsLDYciqVqthjhUIBnU4HAFAq9ecJhRCG19VqdYltlbYO4/cQEZH1YZFEREQWZ+/evXj++ecxdOhQAPqepaLJFiqqdu3aAPSz6Hl4eADQT9xARETE4XZERGRxmjZtis2bNyM+Ph5Hjx7FmDFjDD1EFdWkSRP4+/tjzpw5SExMxJ9//okvvvhCooiJiMiSsEgiIiKLs2jRInh4eKBbt2548skn0b9/f3To0OGh1qFSqbBhwwacPn0abdq0wYIFC/Dxxx9LFDEREVkSheDAaiIiIiIiIgP2JBERERERERlhkURERERERGSERRIREREREZERFklERERERERGWCQREREREREZYZFERERERERkhEUSERERERGRERZJRERERERERlgkERERERERGWGRREREREREZIRFEhERERERkZH/B6pAICpZzyJTAAAAAElFTkSuQmCC\n"
                },
                "metadata": {}
              }
            ]
          }
        },
        "a9b797cebf874ed98daca500589f6bcf": {
          "model_module": "@jupyter-widgets/base",
          "model_name": "LayoutModel",
          "model_module_version": "1.2.0",
          "state": {
            "_model_module": "@jupyter-widgets/base",
            "_model_module_version": "1.2.0",
            "_model_name": "LayoutModel",
            "_view_count": null,
            "_view_module": "@jupyter-widgets/base",
            "_view_module_version": "1.2.0",
            "_view_name": "LayoutView",
            "align_content": null,
            "align_items": null,
            "align_self": null,
            "border": null,
            "bottom": null,
            "display": null,
            "flex": null,
            "flex_flow": null,
            "grid_area": null,
            "grid_auto_columns": null,
            "grid_auto_flow": null,
            "grid_auto_rows": null,
            "grid_column": null,
            "grid_gap": null,
            "grid_row": null,
            "grid_template_areas": null,
            "grid_template_columns": null,
            "grid_template_rows": null,
            "height": null,
            "justify_content": null,
            "justify_items": null,
            "left": null,
            "margin": null,
            "max_height": null,
            "max_width": null,
            "min_height": null,
            "min_width": null,
            "object_fit": null,
            "object_position": null,
            "order": null,
            "overflow": null,
            "overflow_x": null,
            "overflow_y": null,
            "padding": null,
            "right": null,
            "top": null,
            "visibility": null,
            "width": null
          }
        },
        "b126bab16786439aa47be67689290911": {
          "model_module": "@jupyter-widgets/base",
          "model_name": "LayoutModel",
          "model_module_version": "1.2.0",
          "state": {
            "_model_module": "@jupyter-widgets/base",
            "_model_module_version": "1.2.0",
            "_model_name": "LayoutModel",
            "_view_count": null,
            "_view_module": "@jupyter-widgets/base",
            "_view_module_version": "1.2.0",
            "_view_name": "LayoutView",
            "align_content": null,
            "align_items": null,
            "align_self": null,
            "border": null,
            "bottom": null,
            "display": null,
            "flex": null,
            "flex_flow": null,
            "grid_area": null,
            "grid_auto_columns": null,
            "grid_auto_flow": null,
            "grid_auto_rows": null,
            "grid_column": null,
            "grid_gap": null,
            "grid_row": null,
            "grid_template_areas": null,
            "grid_template_columns": null,
            "grid_template_rows": null,
            "height": null,
            "justify_content": null,
            "justify_items": null,
            "left": null,
            "margin": null,
            "max_height": null,
            "max_width": null,
            "min_height": null,
            "min_width": null,
            "object_fit": null,
            "object_position": null,
            "order": null,
            "overflow": null,
            "overflow_x": null,
            "overflow_y": null,
            "padding": null,
            "right": null,
            "top": null,
            "visibility": null,
            "width": null
          }
        },
        "ba476a05d39542c786c0c8fafac95a3c": {
          "model_module": "@jupyter-widgets/controls",
          "model_name": "SliderStyleModel",
          "model_module_version": "1.5.0",
          "state": {
            "_model_module": "@jupyter-widgets/controls",
            "_model_module_version": "1.5.0",
            "_model_name": "SliderStyleModel",
            "_view_count": null,
            "_view_module": "@jupyter-widgets/base",
            "_view_module_version": "1.2.0",
            "_view_name": "StyleView",
            "description_width": "",
            "handle_color": null
          }
        },
        "282ad5d3470146a591ab18888110ceea": {
          "model_module": "@jupyter-widgets/base",
          "model_name": "LayoutModel",
          "model_module_version": "1.2.0",
          "state": {
            "_model_module": "@jupyter-widgets/base",
            "_model_module_version": "1.2.0",
            "_model_name": "LayoutModel",
            "_view_count": null,
            "_view_module": "@jupyter-widgets/base",
            "_view_module_version": "1.2.0",
            "_view_name": "LayoutView",
            "align_content": null,
            "align_items": null,
            "align_self": null,
            "border": null,
            "bottom": null,
            "display": null,
            "flex": null,
            "flex_flow": null,
            "grid_area": null,
            "grid_auto_columns": null,
            "grid_auto_flow": null,
            "grid_auto_rows": null,
            "grid_column": null,
            "grid_gap": null,
            "grid_row": null,
            "grid_template_areas": null,
            "grid_template_columns": null,
            "grid_template_rows": null,
            "height": null,
            "justify_content": null,
            "justify_items": null,
            "left": null,
            "margin": null,
            "max_height": null,
            "max_width": null,
            "min_height": null,
            "min_width": null,
            "object_fit": null,
            "object_position": null,
            "order": null,
            "overflow": null,
            "overflow_x": null,
            "overflow_y": null,
            "padding": null,
            "right": null,
            "top": null,
            "visibility": null,
            "width": null
          }
        },
        "2968f3af5e284c95b0bc06b6e01ae653": {
          "model_module": "@jupyter-widgets/controls",
          "model_name": "SliderStyleModel",
          "model_module_version": "1.5.0",
          "state": {
            "_model_module": "@jupyter-widgets/controls",
            "_model_module_version": "1.5.0",
            "_model_name": "SliderStyleModel",
            "_view_count": null,
            "_view_module": "@jupyter-widgets/base",
            "_view_module_version": "1.2.0",
            "_view_name": "StyleView",
            "description_width": "",
            "handle_color": null
          }
        },
        "4657fe1ff6a6401e96f5fc5eaf253c30": {
          "model_module": "@jupyter-widgets/base",
          "model_name": "LayoutModel",
          "model_module_version": "1.2.0",
          "state": {
            "_model_module": "@jupyter-widgets/base",
            "_model_module_version": "1.2.0",
            "_model_name": "LayoutModel",
            "_view_count": null,
            "_view_module": "@jupyter-widgets/base",
            "_view_module_version": "1.2.0",
            "_view_name": "LayoutView",
            "align_content": null,
            "align_items": null,
            "align_self": null,
            "border": null,
            "bottom": null,
            "display": null,
            "flex": null,
            "flex_flow": null,
            "grid_area": null,
            "grid_auto_columns": null,
            "grid_auto_flow": null,
            "grid_auto_rows": null,
            "grid_column": null,
            "grid_gap": null,
            "grid_row": null,
            "grid_template_areas": null,
            "grid_template_columns": null,
            "grid_template_rows": null,
            "height": null,
            "justify_content": null,
            "justify_items": null,
            "left": null,
            "margin": null,
            "max_height": null,
            "max_width": null,
            "min_height": null,
            "min_width": null,
            "object_fit": null,
            "object_position": null,
            "order": null,
            "overflow": null,
            "overflow_x": null,
            "overflow_y": null,
            "padding": null,
            "right": null,
            "top": null,
            "visibility": null,
            "width": null
          }
        }
      }
    },
    "colab": {
      "provenance": [],
      "include_colab_link": true
    }
  },
  "nbformat": 4,
  "nbformat_minor": 5
}