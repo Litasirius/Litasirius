{
  "cells": [
    {
      "cell_type": "markdown",
      "metadata": {
        "id": "view-in-github",
        "colab_type": "text"
      },
      "source": [
        "<a href=\"https://colab.research.google.com/github/Litasirius/Litasirius/blob/main/Pemanasan_Global.ipynb\" target=\"_parent\"><img src=\"https://colab.research.google.com/assets/colab-badge.svg\" alt=\"Open In Colab\"/></a>"
      ]
    },
    {
      "cell_type": "code",
      "source": [
        "# SIMULASI PEMANSAN GLOBAL #\n",
        "import numpy as np\n",
        "import matplotlib.pyplot as plt\n",
        "from ipywidgets import interactive, FloatSlider\n",
        "import ipywidgets as widgets\n",
        "\n",
        "# Parameter simulasi\n",
        "years = np.arange(2000, 2051)  # Rentang tahun\n",
        "initial_carbon_level = 400  # Konsentrasi karbon awal (ppm)\n",
        "renewable_energy_factor = 0.5  # Faktor penggunaan energi terbarukan\n",
        "carbon_tax_rate = 20  # Tarif pajak karbon ($ per ton CO2)\n",
        "carbon_tax_threshold = 450  # Ambang batas konsentrasi karbon (ppm)\n",
        "\n",
        "# Fungsi simulasi pemanasan global\n",
        "def simulate_global_warming(renewable_energy_factor, carbon_tax_rate):\n",
        "    carbon_levels = [initial_carbon_level]\n",
        "    for year in years[1:]:\n",
        "        carbon_emission = (1 - renewable_energy_factor) * (year - 2000)  # Emisi karbon dari energi non-terbarukan\n",
        "        if carbon_levels[-1] > carbon_tax_threshold:\n",
        "            carbon_tax = carbon_tax_rate * (carbon_levels[-1] - carbon_tax_threshold)\n",
        "        else:\n",
        "            carbon_tax = 0\n",
        "        net_emission = carbon_emission - carbon_tax\n",
        "        carbon_levels.append(carbon_levels[-1] + net_emission)\n",
        "    return carbon_levels # Fixed indentation to return outside the loop\n",
        "\n",
        "# Fungsi visualisasi dan animasi\n",
        "def visualize_global_warming(renewable_energy_factor, carbon_tax_rate):\n",
        "    carbon_levels = simulate_global_warming(renewable_energy_factor, carbon_tax_rate)\n",
        "    plt.figure(figsize=(10, 6))\n",
        "    plt.plot(years, carbon_levels, marker='o')\n",
        "    plt.title('Simulasi Pemanasan Global')\n",
        "    plt.xlabel('Tahun') # Fixed indentation\n",
        "    plt.ylabel('Konsentrasi Karbon (ppm)')\n",
        "    plt.grid(True)\n",
        "    plt.show()\n",
        "\n",
        "# Widget interaktif\n",
        "interactive_plot = interactive(visualize_global_warming,\n",
        "                               renewable_energy_factor=FloatSlider(min=0, max=1, step=0.1, value=0.5, description='Energi Terbarukan'),\n",
        "                               carbon_tax_rate=FloatSlider(min=0, max=50, step=5, value=20, description='Pajak Karbon ($/ton CO2)'))\n",
        "display(interactive_plot)"
      ],
      "metadata": {
        "id": "8TFTcKWPIXtR",
        "outputId": "8b06f9d9-d552-4dc7-f844-73f0eb7fca55",
        "colab": {
          "base_uri": "https://localhost:8080/",
          "height": 530,
          "referenced_widgets": [
            "40d13d3ae8e842cba9bfcf81295bd48a",
            "b7ed82f968f54e56a14ad2e7b3ad3ef9",
            "91f427532df04786b3a5e988d346df47",
            "c11d1fa6246b4d1fbd6a345727153c77",
            "52b77293c411493d9df76fd8691bcfe4",
            "c2e2d49e39044871a9e72f20b43afd3f",
            "eb5514997a434b3faa5a2215c1852301",
            "e1d01f677cbe40048ecaa234a5ab2ece",
            "2e04da50780842ee92db8624659b0043",
            "5eef0d6258ae4fd9815ff8c0c5e794eb"
          ]
        }
      },
      "id": "8TFTcKWPIXtR",
      "execution_count": null,
      "outputs": [
        {
          "output_type": "display_data",
          "data": {
            "text/plain": [
              "interactive(children=(FloatSlider(value=0.5, description='Energi Terbarukan', max=1.0), FloatSlider(value=20.0…"
            ],
            "application/vnd.jupyter.widget-view+json": {
              "version_major": 2,
              "version_minor": 0,
              "model_id": "40d13d3ae8e842cba9bfcf81295bd48a"
            }
          },
          "metadata": {}
        }
      ]
    }
  ],
  "metadata": {
    "colab": {
      "provenance": [],
      "include_colab_link": true
    },
    "language_info": {
      "name": "python"
    },
    "kernelspec": {
      "name": "python3",
      "display_name": "Python 3"
    },
    "widgets": {
      "application/vnd.jupyter.widget-state+json": {
        "40d13d3ae8e842cba9bfcf81295bd48a": {
          "model_module": "@jupyter-widgets/controls",
          "model_name": "VBoxModel",
          "model_module_version": "1.5.0",
          "state": {
            "_dom_classes": [
              "widget-interact"
            ],
            "_model_module": "@jupyter-widgets/controls",
            "_model_module_version": "1.5.0",
            "_model_name": "VBoxModel",
            "_view_count": null,
            "_view_module": "@jupyter-widgets/controls",
            "_view_module_version": "1.5.0",
            "_view_name": "VBoxView",
            "box_style": "",
            "children": [
              "IPY_MODEL_b7ed82f968f54e56a14ad2e7b3ad3ef9",
              "IPY_MODEL_91f427532df04786b3a5e988d346df47",
              "IPY_MODEL_c11d1fa6246b4d1fbd6a345727153c77"
            ],
            "layout": "IPY_MODEL_52b77293c411493d9df76fd8691bcfe4"
          }
        },
        "b7ed82f968f54e56a14ad2e7b3ad3ef9": {
          "model_module": "@jupyter-widgets/controls",
          "model_name": "FloatSliderModel",
          "model_module_version": "1.5.0",
          "state": {
            "_dom_classes": [],
            "_model_module": "@jupyter-widgets/controls",
            "_model_module_version": "1.5.0",
            "_model_name": "FloatSliderModel",
            "_view_count": null,
            "_view_module": "@jupyter-widgets/controls",
            "_view_module_version": "1.5.0",
            "_view_name": "FloatSliderView",
            "continuous_update": true,
            "description": "Energi Terbarukan",
            "description_tooltip": null,
            "disabled": false,
            "layout": "IPY_MODEL_c2e2d49e39044871a9e72f20b43afd3f",
            "max": 1,
            "min": 0,
            "orientation": "horizontal",
            "readout": true,
            "readout_format": ".2f",
            "step": 0.1,
            "style": "IPY_MODEL_eb5514997a434b3faa5a2215c1852301",
            "value": 0.5
          }
        },
        "91f427532df04786b3a5e988d346df47": {
          "model_module": "@jupyter-widgets/controls",
          "model_name": "FloatSliderModel",
          "model_module_version": "1.5.0",
          "state": {
            "_dom_classes": [],
            "_model_module": "@jupyter-widgets/controls",
            "_model_module_version": "1.5.0",
            "_model_name": "FloatSliderModel",
            "_view_count": null,
            "_view_module": "@jupyter-widgets/controls",
            "_view_module_version": "1.5.0",
            "_view_name": "FloatSliderView",
            "continuous_update": true,
            "description": "Pajak Karbon ($/ton CO2)",
            "description_tooltip": null,
            "disabled": false,
            "layout": "IPY_MODEL_e1d01f677cbe40048ecaa234a5ab2ece",
            "max": 50,
            "min": 0,
            "orientation": "horizontal",
            "readout": true,
            "readout_format": ".2f",
            "step": 5,
            "style": "IPY_MODEL_2e04da50780842ee92db8624659b0043",
            "value": 20
          }
        },
        "c11d1fa6246b4d1fbd6a345727153c77": {
          "model_module": "@jupyter-widgets/output",
          "model_name": "OutputModel",
          "model_module_version": "1.0.0",
          "state": {
            "_dom_classes": [],
            "_model_module": "@jupyter-widgets/output",
            "_model_module_version": "1.0.0",
            "_model_name": "OutputModel",
            "_view_count": null,
            "_view_module": "@jupyter-widgets/output",
            "_view_module_version": "1.0.0",
            "_view_name": "OutputView",
            "layout": "IPY_MODEL_5eef0d6258ae4fd9815ff8c0c5e794eb",
            "msg_id": "",
            "outputs": [
              {
                "output_type": "display_data",
                "data": {
                  "text/plain": "<Figure size 1000x600 with 1 Axes>",
                  "image/png": "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\n"
                },
                "metadata": {}
              }
            ]
          }
        },
        "52b77293c411493d9df76fd8691bcfe4": {
          "model_module": "@jupyter-widgets/base",
          "model_name": "LayoutModel",
          "model_module_version": "1.2.0",
          "state": {
            "_model_module": "@jupyter-widgets/base",
            "_model_module_version": "1.2.0",
            "_model_name": "LayoutModel",
            "_view_count": null,
            "_view_module": "@jupyter-widgets/base",
            "_view_module_version": "1.2.0",
            "_view_name": "LayoutView",
            "align_content": null,
            "align_items": null,
            "align_self": null,
            "border": null,
            "bottom": null,
            "display": null,
            "flex": null,
            "flex_flow": null,
            "grid_area": null,
            "grid_auto_columns": null,
            "grid_auto_flow": null,
            "grid_auto_rows": null,
            "grid_column": null,
            "grid_gap": null,
            "grid_row": null,
            "grid_template_areas": null,
            "grid_template_columns": null,
            "grid_template_rows": null,
            "height": null,
            "justify_content": null,
            "justify_items": null,
            "left": null,
            "margin": null,
            "max_height": null,
            "max_width": null,
            "min_height": null,
            "min_width": null,
            "object_fit": null,
            "object_position": null,
            "order": null,
            "overflow": null,
            "overflow_x": null,
            "overflow_y": null,
            "padding": null,
            "right": null,
            "top": null,
            "visibility": null,
            "width": null
          }
        },
        "c2e2d49e39044871a9e72f20b43afd3f": {
          "model_module": "@jupyter-widgets/base",
          "model_name": "LayoutModel",
          "model_module_version": "1.2.0",
          "state": {
            "_model_module": "@jupyter-widgets/base",
            "_model_module_version": "1.2.0",
            "_model_name": "LayoutModel",
            "_view_count": null,
            "_view_module": "@jupyter-widgets/base",
            "_view_module_version": "1.2.0",
            "_view_name": "LayoutView",
            "align_content": null,
            "align_items": null,
            "align_self": null,
            "border": null,
            "bottom": null,
            "display": null,
            "flex": null,
            "flex_flow": null,
            "grid_area": null,
            "grid_auto_columns": null,
            "grid_auto_flow": null,
            "grid_auto_rows": null,
            "grid_column": null,
            "grid_gap": null,
            "grid_row": null,
            "grid_template_areas": null,
            "grid_template_columns": null,
            "grid_template_rows": null,
            "height": null,
            "justify_content": null,
            "justify_items": null,
            "left": null,
            "margin": null,
            "max_height": null,
            "max_width": null,
            "min_height": null,
            "min_width": null,
            "object_fit": null,
            "object_position": null,
            "order": null,
            "overflow": null,
            "overflow_x": null,
            "overflow_y": null,
            "padding": null,
            "right": null,
            "top": null,
            "visibility": null,
            "width": null
          }
        },
        "eb5514997a434b3faa5a2215c1852301": {
          "model_module": "@jupyter-widgets/controls",
          "model_name": "SliderStyleModel",
          "model_module_version": "1.5.0",
          "state": {
            "_model_module": "@jupyter-widgets/controls",
            "_model_module_version": "1.5.0",
            "_model_name": "SliderStyleModel",
            "_view_count": null,
            "_view_module": "@jupyter-widgets/base",
            "_view_module_version": "1.2.0",
            "_view_name": "StyleView",
            "description_width": "",
            "handle_color": null
          }
        },
        "e1d01f677cbe40048ecaa234a5ab2ece": {
          "model_module": "@jupyter-widgets/base",
          "model_name": "LayoutModel",
          "model_module_version": "1.2.0",
          "state": {
            "_model_module": "@jupyter-widgets/base",
            "_model_module_version": "1.2.0",
            "_model_name": "LayoutModel",
            "_view_count": null,
            "_view_module": "@jupyter-widgets/base",
            "_view_module_version": "1.2.0",
            "_view_name": "LayoutView",
            "align_content": null,
            "align_items": null,
            "align_self": null,
            "border": null,
            "bottom": null,
            "display": null,
            "flex": null,
            "flex_flow": null,
            "grid_area": null,
            "grid_auto_columns": null,
            "grid_auto_flow": null,
            "grid_auto_rows": null,
            "grid_column": null,
            "grid_gap": null,
            "grid_row": null,
            "grid_template_areas": null,
            "grid_template_columns": null,
            "grid_template_rows": null,
            "height": null,
            "justify_content": null,
            "justify_items": null,
            "left": null,
            "margin": null,
            "max_height": null,
            "max_width": null,
            "min_height": null,
            "min_width": null,
            "object_fit": null,
            "object_position": null,
            "order": null,
            "overflow": null,
            "overflow_x": null,
            "overflow_y": null,
            "padding": null,
            "right": null,
            "top": null,
            "visibility": null,
            "width": null
          }
        },
        "2e04da50780842ee92db8624659b0043": {
          "model_module": "@jupyter-widgets/controls",
          "model_name": "SliderStyleModel",
          "model_module_version": "1.5.0",
          "state": {
            "_model_module": "@jupyter-widgets/controls",
            "_model_module_version": "1.5.0",
            "_model_name": "SliderStyleModel",
            "_view_count": null,
            "_view_module": "@jupyter-widgets/base",
            "_view_module_version": "1.2.0",
            "_view_name": "StyleView",
            "description_width": "",
            "handle_color": null
          }
        },
        "5eef0d6258ae4fd9815ff8c0c5e794eb": {
          "model_module": "@jupyter-widgets/base",
          "model_name": "LayoutModel",
          "model_module_version": "1.2.0",
          "state": {
            "_model_module": "@jupyter-widgets/base",
            "_model_module_version": "1.2.0",
            "_model_name": "LayoutModel",
            "_view_count": null,
            "_view_module": "@jupyter-widgets/base",
            "_view_module_version": "1.2.0",
            "_view_name": "LayoutView",
            "align_content": null,
            "align_items": null,
            "align_self": null,
            "border": null,
            "bottom": null,
            "display": null,
            "flex": null,
            "flex_flow": null,
            "grid_area": null,
            "grid_auto_columns": null,
            "grid_auto_flow": null,
            "grid_auto_rows": null,
            "grid_column": null,
            "grid_gap": null,
            "grid_row": null,
            "grid_template_areas": null,
            "grid_template_columns": null,
            "grid_template_rows": null,
            "height": null,
            "justify_content": null,
            "justify_items": null,
            "left": null,
            "margin": null,
            "max_height": null,
            "max_width": null,
            "min_height": null,
            "min_width": null,
            "object_fit": null,
            "object_position": null,
            "order": null,
            "overflow": null,
            "overflow_x": null,
            "overflow_y": null,
            "padding": null,
            "right": null,
            "top": null,
            "visibility": null,
            "width": null
          }
        }
      }
    }
  },
  "nbformat": 4,
  "nbformat_minor": 5
}